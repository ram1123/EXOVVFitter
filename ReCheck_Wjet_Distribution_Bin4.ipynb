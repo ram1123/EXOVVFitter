{
 "cells": [
  {
   "cell_type": "markdown",
   "metadata": {
    "slideshow": {
     "slide_type": "slide"
    }
   },
   "source": [
    "# Alpha Ratio method for W+jet estimation (NEW)\n",
    "\n",
    "> In this notebook I grabed the corrected W+jets from histogram but since this histogram was not contaning the scale to I need to scale it but the scaling method also scales the error bars."
   ]
  },
  {
   "cell_type": "markdown",
   "metadata": {
    "slideshow": {
     "slide_type": "slide"
    }
   },
   "source": [
    "* Data/MC control plot in W+jet control region without any correction from data. All backgrounds are pure MCs\n",
    "\n",
    "normal scale | Log Scale\n",
    ":-:|:-:\n",
    "![fig1](JupyterNotebookPlots/DibosonBoostedElMuCuts13TeV_WjetControlRegion_Tighter_CHS_mass_lvj_type0_PuppiAK8.png) |![fig2](JupyterNotebookPlots/DibosonBoostedElMuCuts13TeV_WjetControlRegion_Tighter_CHS_mass_lvj_type0_PuppiAK8_log.png)\n",
    "\n",
    "* Data/MC control plot in W+jet control region after corrected the shape and normalization for W+jets according to data. Shape and normalization for W+jets are taken from fit to data.\n",
    "\n",
    "normal scale | Log Scale\n",
    ":-:|:-:\n",
    "![fig1](plots_em_HP/m_lvj_fitting/m_lvj_sb_lo_WJets0_xww__with_pull.png) | ![fig2](plots_em_HP/m_lvj_fitting/m_lvj_sb_lo_WJets0_xww__log.png)\n",
    "\n",
    "\n",
    "* Steps for W+jets estimation from alpha is\n",
    "    * STEP-1: Divide W+jet pure MC in signal region and sideband region. This will give us alpha.\n",
    "    * STEP-2: Get the modified shape of W+jet after fitting to data.\n",
    "    * STEP-3: Multiply the alpha to this modified shape to get the W+Jet shape in signal region."
   ]
  },
  {
   "cell_type": "markdown",
   "metadata": {},
   "source": [
    "```\n",
    "#  Name                     Cut string\n",
    "#\"type=ele(1),muon(0)\n",
    "\n",
    "\"mu\"\t\t\t\"(type==0||type==1)\"\n",
    "\"1 lepton\"\t\t\"(l_pt2<0 && l_pt1>30 && (((type==0)&&(abs(l_eta1)<2.4)) || ((type==1)&&((abs(l_eta1)<2.5)&&!(abs(l_eta1)>1.4442 && abs(l_eta1)<1.566)))))\"\n",
    "\n",
    "\n",
    "\"pfMETpuppi>30\"\t\t\"(((type==0)&&(pfMET_Corr>50)) || ((type==1)&&(pfMET_Corr>80)))\"\n",
    "\n",
    "\n",
    "\"Good FatJet\"\t\t\"((ungroomed_PuppiAK8_jet_pt>200)&&(abs(ungroomed_PuppiAK8_jet_eta)<2.4)&&(PuppiAK8_jet_tau2tau1<0.55))\"\n",
    "\n",
    "\n",
    "\"Anti-btag VBF jets\"    \"(nBTagJet_loose==0)\"\n",
    "\n",
    "\n",
    "\"VBF Mjj > 800\"         \"(vbf_maxpt_jj_m>800 && vbf_maxpt_jj_m>800 )\"\n",
    "\"VBF jet deta > 4.0\"    \"(abs(vbf_maxpt_j2_eta-vbf_maxpt_j1_eta)>4.0)\"\t\n",
    "\"VBF jet pts > 30\"\t\"((vbf_maxpt_j1_pt>30) && (vbf_maxpt_j2_pt>30))\"\n",
    "\n",
    "\n",
    "\"m_{J}<50 && m_{J}>110\"\t\"((((PuppiAK8_jet_mass_so>40) && (PuppiAK8_jet_mass_so<65)) || ((PuppiAK8_jet_mass_so>105) && (PuppiAK8_jet_mass_so<150))))\"\n",
    "\n",
    "\n",
    "\"mass cut\"                \"(mass_lvj_type0_PuppiAK8>600 && mass_lvj_type0_PuppiAK8>600)\"\n",
    "\n",
    "\n",
    "\"Zeppenfeld<x\"           \"((abs(ZeppenfeldWL_type0)/abs(vbf_maxpt_j2_eta-vbf_maxpt_j1_eta))<0.3)\"\n",
    "\"Zeppenfeldh<x\"           \"((abs(ZeppenfeldWH)/abs(vbf_maxpt_j2_eta-vbf_maxpt_j1_eta))<0.3)\"\n",
    "\"Centrality\"              \"(BosonCentrality_type0>1.0)\"\n",
    "```"
   ]
  },
  {
   "cell_type": "code",
   "execution_count": 1,
   "metadata": {
    "collapsed": false,
    "slideshow": {
     "slide_type": "skip"
    }
   },
   "outputs": [
    {
     "data": {
      "application/javascript": [
       "\n",
       "require(['notebook'],\n",
       "  function() {\n",
       "    IPython.CodeCell.config_defaults.highlight_modes['magic_text/x-c++src'] = {'reg':[/^%%cpp/]};\n",
       "    console.log(\"JupyROOT - %%cpp magic configured\");\n",
       "  }\n",
       ");\n"
      ]
     },
     "metadata": {},
     "output_type": "display_data"
    },
    {
     "name": "stdout",
     "output_type": "stream",
     "text": [
      "Welcome to JupyROOT 6.08/05\n"
     ]
    }
   ],
   "source": [
    "import ROOT as r\n",
    "\n",
    "# To surpress unwanted messages\n",
    "msgservice = r.RooMsgService.instance()\n",
    "msgservice.setGlobalKillBelow(r.RooFit.FATAL)\n",
    "\n",
    "%matplotlib inline"
   ]
  },
  {
   "cell_type": "code",
   "execution_count": 2,
   "metadata": {
    "collapsed": false,
    "slideshow": {
     "slide_type": "skip"
    }
   },
   "outputs": [],
   "source": [
    "c = r.TCanvas(\"c\", \"canvas\", 800, 600)\n",
    "c.cd()\n",
    "\n",
    "r.TGaxis.SetMaxDigits(3)\n",
    "\n",
    "leg = r.TLegend(0.55,0.9,.9,0.6)"
   ]
  },
  {
   "cell_type": "code",
   "execution_count": 3,
   "metadata": {
    "collapsed": false
   },
   "outputs": [
    {
     "name": "stdout",
     "output_type": "stream",
     "text": [
      "1 1 33.2502632141 600.0\n",
      "2 1 27.1361064911 650.0\n",
      "3 1 22.1462402344 700.0\n",
      "4 1 18.0739250183 750.0\n",
      "5 1 14.7504386902 800.0\n",
      "6 1 12.0380849838 850.0\n",
      "7 1 9.82448673248 900.0\n",
      "8 1 8.0179309845 950.0\n",
      "9 1 6.54357099533 1000.0\n",
      "10 2 5.34032011032 1050.0\n",
      "11 2 4.35832643509 1100.0\n",
      "12 2 3.55690431595 1150.0\n",
      "13 2 2.90285038948 1200.0\n",
      "14 2 2.36906576157 1250.0\n",
      "15 2 1.93343508244 1300.0\n",
      "16 2 1.5779094696 1350.0\n",
      "17 2 1.28775882721 1400.0\n",
      "18 2 1.05096197128 1450.0\n",
      "19 3 0.857707977295 1500.0\n",
      "20 3 0.699990153313 1550.0\n",
      "21 3 0.57127392292 1600.0\n",
      "22 3 0.466226369143 1650.0\n",
      "23 3 0.380495339632 1700.0\n",
      "24 3 0.310528725386 1750.0\n",
      "25 3 0.253427803516 1800.0\n",
      "26 3 0.206826761365 1850.0\n",
      "27 3 0.168794840574 1900.0\n",
      "28 4 0.137756362557 1950.0\n",
      "29 4 0.11242531985 2000.0\n",
      "30 4 0.0917522236705 2050.0\n",
      "31 4 0.0748805552721 2100.0\n",
      "32 4 0.0611112974584 2150.0\n",
      "33 4 0.0498739778996 2200.0\n",
      "34 4 0.0407030023634 2250.0\n",
      "35 4 0.0332184173167 2300.0\n",
      "36 4 0.0271101165563 2350.0\n",
      "37 4 0.0221250299364 2400.0\n",
      "38 4 0.0180566143245 2450.0\n"
     ]
    },
    {
     "data": {
      "image/png": "[encoded data removed]",
      "text/plain": [
       "<IPython.core.display.Image object>"
      ]
     },
     "metadata": {},
     "output_type": "display_data"
    }
   ],
   "source": [
    "Wjet_file = r.TFile.Open(\"wjetmodel_Ex__WJets0_xww__sb_lo_Exp_auto.root\")\n",
    "Wjet_hist = r.TH1F()\n",
    "Wjet_hist.Sumw2()\n",
    "Wjet_hist = Wjet_file.Get(\"rrv_mass_lvj__rrv_mass_lvj\")\n",
    "Wjet_hist.Scale(181.053970958)\n",
    "\n",
    "newHist = r.TH1F(\"newHist\",\"\",4,600,2500)\n",
    "newHist.Sumw2()\n",
    "newHist.SetMarkerColor(4)\n",
    "newHist.SetLineColor(4)\n",
    "newHist.SetLineWidth(3)\n",
    "newHist.SetMarkerSize(1)\n",
    "binVal = [0]*5\n",
    "binError = [0]*5\n",
    "count=0\n",
    "for i in range(1,39):\n",
    "    if i < 37:\n",
    "        if i%9 ==1:\n",
    "            count+=1\n",
    "    binVal[count] += Wjet_hist.GetBinContent(i)\n",
    "    binError[count] += Wjet_hist.GetBinError(i)\n",
    "    print i,count,Wjet_hist.GetBinContent(i),Wjet_hist.GetBinLowEdge(i)\n",
    "\n",
    "for i in range(1,5):\n",
    "    newHist.SetBinContent(i,binVal[i])\n",
    "    newHist.SetBinError(i,0.0)\n",
    "    \n",
    "newHist.Draw()\n",
    "c.Draw()"
   ]
  },
  {
   "cell_type": "code",
   "execution_count": 4,
   "metadata": {
    "collapsed": false
   },
   "outputs": [],
   "source": [
    "c.Clear()\n",
    "fin_VV = r.TFile.Open(\"root://cmseos.fnal.gov//store/user/rasharma/SecondStep/WWTree_CleanedCode_Isolated_NaNFixed_Btag30GeV_AlphaRatioBkgEst_2018_03_27_02h28/HaddedFiles/Hadds_for_BkgEstimation/WWTree_VV.root\")\n",
    "fin_TTbar = r.TFile.Open(\"root://cmseos.fnal.gov//store/user/rasharma/SecondStep/WWTree_CleanedCode_Isolated_NaNFixed_Btag30GeV_AlphaRatioBkgEst_2018_03_27_02h28/HaddedFiles/Hadds_for_BkgEstimation/WWTree_TTbar.root\")\n",
    "fin_STop = r.TFile.Open(\"root://cmseos.fnal.gov//store/user/rasharma/SecondStep/WWTree_CleanedCode_Isolated_NaNFixed_Btag30GeV_AlphaRatioBkgEst_2018_03_27_02h28/HaddedFiles/Hadds_for_BkgEstimation/WWTree_STop.root\")\n",
    "fin_Data = r.TFile.Open(\"root://cmseos.fnal.gov//store/user/rasharma/SecondStep/WWTree_CleanedCode_Isolated_NaNFixed_Btag30GeV_AlphaRatioBkgEst_2018_03_27_02h28/HaddedFiles/Hadds_for_BkgEstimation/WWTree_data_golden.root\")\n",
    "\n",
    "treeIn_VV = fin_VV.Get(\"otree\")\n",
    "treeIn_TTbar = fin_TTbar.Get(\"otree\")\n",
    "treeIn_STop = fin_STop.Get(\"otree\")\n",
    "treeIn_Data = fin_Data.Get(\"otree\")"
   ]
  },
  {
   "cell_type": "code",
   "execution_count": 5,
   "metadata": {
    "collapsed": false
   },
   "outputs": [
    {
     "data": {
      "text/plain": [
       "220L"
      ]
     },
     "execution_count": 5,
     "metadata": {},
     "output_type": "execute_result"
    }
   ],
   "source": [
    "newHist.SetMarkerColor(625)\n",
    "newHist.SetLineColor(625)\n",
    "newHist.SetFillColor(625)\n",
    "newHist.SetLineWidth(3)\n",
    "newHist.SetMarkerSize(5)\n",
    "\n",
    "hVV = r.TH1D(\"hVV\",\"\",4,600,2500)\n",
    "hVV.SetMarkerColor(607)\n",
    "hVV.SetLineColor(607)\n",
    "hVV.SetFillColor(607)\n",
    "hVV.SetLineWidth(3)\n",
    "hVV.SetMarkerSize(5)\n",
    "\n",
    "hTTbar = r.TH1D(\"hTTbar\",\"\",4,600,2500)\n",
    "hTTbar.SetMarkerColor(592)\n",
    "hTTbar.SetLineColor(592)\n",
    "hTTbar.SetFillColor(592)\n",
    "hTTbar.SetLineWidth(3)\n",
    "hTTbar.SetMarkerSize(5)\n",
    "\n",
    "hSTop = r.TH1D(\"hSTop\",\"\",4,600,2500)\n",
    "hSTop.SetMarkerColor(854)\n",
    "hSTop.SetLineColor(854)\n",
    "hSTop.SetFillColor(854)\n",
    "hSTop.SetLineWidth(3)\n",
    "hSTop.SetMarkerSize(5)\n",
    "\n",
    "hData = r.TH1D(\"hData\",\"\",4,600,2500)\n",
    "hData.SetMarkerColor(1)\n",
    "hData.SetLineColor(1)\n",
    "#hData.SetFillColor(1)\n",
    "hData.SetLineWidth(3)\n",
    "hData.SetMarkerSize(5)\n",
    "\n",
    "cutString_SideBand =  \"wSampleWeight*35867.06*btag0Wgt*genWeight*trig_eff_Weight*id_eff_Weight*pu_Weight*((type==0||type==1) && (l_pt2<0 && l_pt1>30 && (((type==0)&&(abs(l_eta1)<2.4)) || ((type==1)&&((abs(l_eta1)<2.5)&&!(abs(l_eta1)>1.4442 && abs(l_eta1)<1.566))))) && (((type==0)&&(pfMET_Corr>50)) || ((type==1)&&(pfMET_Corr>80))) && ((ungroomed_PuppiAK8_jet_pt>200)&&(abs(ungroomed_PuppiAK8_jet_eta)<2.4)&&(PuppiAK8_jet_tau2tau1<0.55)) && (nBTagJet_loose==0) && (vbf_maxpt_jj_m>800 && vbf_maxpt_jj_m>800 ) && (abs(vbf_maxpt_j2_eta-vbf_maxpt_j1_eta)>4.0) && ((vbf_maxpt_j1_pt>30) && (vbf_maxpt_j2_pt>30)) && (((PuppiAK8_jet_mass_so>40)&&(PuppiAK8_jet_mass_so<65)) || ((PuppiAK8_jet_mass_so>105)&&(PuppiAK8_jet_mass_so<150))) && (mass_lvj_type0_PuppiAK8>600 && mass_lvj_type0_PuppiAK8>600) && ((abs(ZeppenfeldWL_type0)/abs(vbf_maxpt_j2_eta-vbf_maxpt_j1_eta))<0.3) && ((abs(ZeppenfeldWH)/abs(vbf_maxpt_j2_eta-vbf_maxpt_j1_eta))<0.3) && (BosonCentrality_type0>1.0))\"\n",
    "\n",
    "cutString_Lower_SideBand =  \"wSampleWeight*35867.06*btag0Wgt*genWeight*trig_eff_Weight*id_eff_Weight*pu_Weight*((type==0||type==1) && (l_pt2<0 && l_pt1>30 && (((type==0)&&(abs(l_eta1)<2.4)) || ((type==1)&&((abs(l_eta1)<2.5)&&!(abs(l_eta1)>1.4442 && abs(l_eta1)<1.566))))) && (((type==0)&&(pfMET_Corr>50)) || ((type==1)&&(pfMET_Corr>80))) && ((ungroomed_PuppiAK8_jet_pt>200)&&(abs(ungroomed_PuppiAK8_jet_eta)<2.4)&&(PuppiAK8_jet_tau2tau1<0.55)) && (nBTagJet_loose==0) && (vbf_maxpt_jj_m>800 && vbf_maxpt_jj_m>800 ) && (abs(vbf_maxpt_j2_eta-vbf_maxpt_j1_eta)>4.0) && ((vbf_maxpt_j1_pt>30) && (vbf_maxpt_j2_pt>30)) && (((PuppiAK8_jet_mass_so>40)&&(PuppiAK8_jet_mass_so<65))) && (mass_lvj_type0_PuppiAK8>600 && mass_lvj_type0_PuppiAK8>600) && ((abs(ZeppenfeldWL_type0)/abs(vbf_maxpt_j2_eta-vbf_maxpt_j1_eta))<0.3) && ((abs(ZeppenfeldWH)/abs(vbf_maxpt_j2_eta-vbf_maxpt_j1_eta))<0.3) && (BosonCentrality_type0>1.0))\"\n",
    "\n",
    "cutString_Signal =  \"wSampleWeight*35867.06*btag0Wgt*genWeight*trig_eff_Weight*id_eff_Weight*pu_Weight*((type==0||type==1) && (l_pt2<0 && l_pt1>30 && (((type==0)&&(abs(l_eta1)<2.4)) || ((type==1)&&((abs(l_eta1)<2.5)&&!(abs(l_eta1)>1.4442 && abs(l_eta1)<1.566))))) && (((type==0)&&(pfMET_Corr>50)) || ((type==1)&&(pfMET_Corr>80))) && ((ungroomed_PuppiAK8_jet_pt>200)&&(abs(ungroomed_PuppiAK8_jet_eta)<2.4)&&(PuppiAK8_jet_tau2tau1<0.55)) && (nBTagJet_loose==0) && (vbf_maxpt_jj_m>800 && vbf_maxpt_jj_m>800 ) && (abs(vbf_maxpt_j2_eta-vbf_maxpt_j1_eta)>4.0) && ((vbf_maxpt_j1_pt>30) && (vbf_maxpt_j2_pt>30)) && ((PuppiAK8_jet_mass_so>65) && (PuppiAK8_jet_mass_so<105)) && (mass_lvj_type0_PuppiAK8>600 && mass_lvj_type0_PuppiAK8>600) && ((abs(ZeppenfeldWL_type0)/abs(vbf_maxpt_j2_eta-vbf_maxpt_j1_eta))<0.3) && ((abs(ZeppenfeldWH)/abs(vbf_maxpt_j2_eta-vbf_maxpt_j1_eta))<0.3) && (BosonCentrality_type0>1.0))\"\n",
    "\n",
    "\n",
    "\n",
    "treeIn_VV.Draw(\"mass_lvj_type0_PuppiAK8>>hVV\",cutString_Lower_SideBand)\n",
    "treeIn_TTbar.Draw(\"mass_lvj_type0_PuppiAK8>>hTTbar\",cutString_Lower_SideBand)\n",
    "treeIn_STop.Draw(\"mass_lvj_type0_PuppiAK8>>hSTop\",cutString_Lower_SideBand)\n",
    "\n",
    "#cutString_SigData =  \"((l_pt2<0) && ((l_pt1>30.) && (abs(l_eta1)<2.5)) && ((ungroomed_PuppiAK8_jet_pt>200)&&(abs(ungroomed_PuppiAK8_jet_eta)<2.4)) && ((vbf_maxpt_j1_pt>30) && (vbf_maxpt_j2_pt>30)) &&  (nBTagJet_loose==0) && (pfMET_Corr>50) && ((PuppiAK8_jet_tau2tau1<0.55)) && ((PuppiAK8_jet_mass_so>55) && (PuppiAK8_jet_mass_so<65)) && (abs(vbf_maxpt_j2_eta-vbf_maxpt_j1_eta)>4.0) && (vbf_maxpt_jj_m>800) && (BosonCentrality_type0>1.0) && (abs(ZeppenfeldWL_type0/vbf_maxpt_jj_Deta)<0.3) && (abs(ZeppenfeldWH/vbf_maxpt_jj_Deta)<0.3) && (mass_lvj_type0>170))\"\n",
    "\n",
    "cutString_SigData =  \"((type==0||type==1) && (l_pt2<0 && l_pt1>30 && (((type==0)&&(abs(l_eta1)<2.4)) || ((type==1)&&((abs(l_eta1)<2.5)&&!(abs(l_eta1)>1.4442 && abs(l_eta1)<1.566))))) && (((type==0)&&(pfMET_Corr>50)) || ((type==1)&&(pfMET_Corr>80))) && ((ungroomed_PuppiAK8_jet_pt>200)&&(abs(ungroomed_PuppiAK8_jet_eta)<2.4)&&(PuppiAK8_jet_tau2tau1<0.55)) && (nBTagJet_loose==0) && (vbf_maxpt_jj_m>800 && vbf_maxpt_jj_m>800 ) && (abs(vbf_maxpt_j2_eta-vbf_maxpt_j1_eta)>4.0) && ((vbf_maxpt_j1_pt>30) && (vbf_maxpt_j2_pt>30)) && ((PuppiAK8_jet_mass_so>65) && (PuppiAK8_jet_mass_so<105)) && (mass_lvj_type0_PuppiAK8>600 && mass_lvj_type0_PuppiAK8>600) && ((abs(ZeppenfeldWL_type0)/abs(vbf_maxpt_j2_eta-vbf_maxpt_j1_eta))<0.3) && ((abs(ZeppenfeldWH)/abs(vbf_maxpt_j2_eta-vbf_maxpt_j1_eta))<0.3) && (BosonCentrality_type0>1.0))\"\n",
    "\n",
    "cutString_SideBand =  \"((type==0||type==1) && (l_pt2<0 && l_pt1>30 && (((type==0)&&(abs(l_eta1)<2.4)) || ((type==1)&&((abs(l_eta1)<2.5)&&!(abs(l_eta1)>1.4442 && abs(l_eta1)<1.566))))) && (((type==0)&&(pfMET_Corr>50)) || ((type==1)&&(pfMET_Corr>80))) && ((ungroomed_PuppiAK8_jet_pt>200)&&(abs(ungroomed_PuppiAK8_jet_eta)<2.4)&&(PuppiAK8_jet_tau2tau1<0.55)) && (nBTagJet_loose==0) && (vbf_maxpt_jj_m>800 && vbf_maxpt_jj_m>800 ) && (abs(vbf_maxpt_j2_eta-vbf_maxpt_j1_eta)>4.0) && ((vbf_maxpt_j1_pt>30) && (vbf_maxpt_j2_pt>30)) && (((PuppiAK8_jet_mass_so>40)&&(PuppiAK8_jet_mass_so<65)) || ((PuppiAK8_jet_mass_so>105)&&(PuppiAK8_jet_mass_so<150))) && (mass_lvj_type0_PuppiAK8>600 && mass_lvj_type0_PuppiAK8>600) && ((abs(ZeppenfeldWL_type0)/abs(vbf_maxpt_j2_eta-vbf_maxpt_j1_eta))<0.3) && ((abs(ZeppenfeldWH)/abs(vbf_maxpt_j2_eta-vbf_maxpt_j1_eta))<0.3) && (BosonCentrality_type0>1.0))\"\n",
    "\n",
    "cutString_Lower_SideBand =  \"((type==0||type==1) && (l_pt2<0 && l_pt1>30 && (((type==0)&&(abs(l_eta1)<2.4)) || ((type==1)&&((abs(l_eta1)<2.5)&&!(abs(l_eta1)>1.4442 && abs(l_eta1)<1.566))))) && (((type==0)&&(pfMET_Corr>50)) || ((type==1)&&(pfMET_Corr>80))) && ((ungroomed_PuppiAK8_jet_pt>200)&&(abs(ungroomed_PuppiAK8_jet_eta)<2.4)&&(PuppiAK8_jet_tau2tau1<0.55)) && (nBTagJet_loose==0) && (vbf_maxpt_jj_m>800 && vbf_maxpt_jj_m>800 ) && (abs(vbf_maxpt_j2_eta-vbf_maxpt_j1_eta)>4.0) && ((vbf_maxpt_j1_pt>30) && (vbf_maxpt_j2_pt>30)) && (((PuppiAK8_jet_mass_so>40)&&(PuppiAK8_jet_mass_so<65))) && (mass_lvj_type0_PuppiAK8>600 && mass_lvj_type0_PuppiAK8>600) && ((abs(ZeppenfeldWL_type0)/abs(vbf_maxpt_j2_eta-vbf_maxpt_j1_eta))<0.3) && ((abs(ZeppenfeldWH)/abs(vbf_maxpt_j2_eta-vbf_maxpt_j1_eta))<0.3) && (BosonCentrality_type0>1.0))\"\n",
    "\n",
    "\n",
    "\n",
    "\n",
    "treeIn_Data.Draw(\"mass_lvj_type0_PuppiAK8>>hData\",cutString_Lower_SideBand)"
   ]
  },
  {
   "cell_type": "code",
   "execution_count": 6,
   "metadata": {
    "collapsed": false
   },
   "outputs": [
    {
     "data": {
      "image/png": "[encoded data removed]",
      "text/plain": [
       "<IPython.core.display.Image object>"
      ]
     },
     "metadata": {},
     "output_type": "display_data"
    }
   ],
   "source": [
    "c.Clear()\n",
    "hData.Draw()\n",
    "c.Draw()"
   ]
  },
  {
   "cell_type": "code",
   "execution_count": 7,
   "metadata": {
    "collapsed": false
   },
   "outputs": [
    {
     "data": {
      "image/png": "[encoded data removed]",
      "text/plain": [
       "<IPython.core.display.Image object>"
      ]
     },
     "metadata": {},
     "output_type": "display_data"
    }
   ],
   "source": [
    "stack = r.THStack()\n",
    "\n",
    "stack.Add(hSTop,\"F\")\n",
    "stack.Add(hTTbar,\"F\")\n",
    "stack.Add(hVV,\"F\")\n",
    "stack.Add(newHist,\"F\")\n",
    "\n",
    "stack.SetMaximum(200)\n",
    "stack.Draw(\"hist\")\n",
    "hData.Draw(\"same hist\")\n",
    "\n",
    "c.Draw()"
   ]
  },
  {
   "cell_type": "code",
   "execution_count": 8,
   "metadata": {
    "collapsed": false
   },
   "outputs": [
    {
     "data": {
      "image/png": "[encoded data removed]",
      "text/plain": [
       "<IPython.core.display.Image object>"
      ]
     },
     "metadata": {},
     "output_type": "display_data"
    }
   ],
   "source": [
    "c.Clear()\n",
    "#c.SetLogy();\n",
    "rp = r.TRatioPlot(stack, hData);\n",
    "#c.SetTicks(0, 1);\n",
    "rp.Draw();\n",
    "rp.GetLowerRefYaxis().SetTitle(\"ratio\");\n",
    "rp.GetUpperRefYaxis().SetTitle(\"entries\");\n",
    "rp.GetLowerRefXaxis().SetTitle(\"M_{ww}\");\n",
    "rp.GetLowerRefGraph().SetMinimum(-0.1);\n",
    "rp.GetLowerRefGraph().SetMaximum(2.5);\n",
    "c.Update();\n",
    "#c.SetLogy(1)\n",
    "c.Draw()"
   ]
  },
  {
   "cell_type": "code",
   "execution_count": 9,
   "metadata": {
    "collapsed": false
   },
   "outputs": [
    {
     "data": {
      "image/png": "[encoded data removed]",
      "text/plain": [
       "<IPython.core.display.Image object>"
      ]
     },
     "metadata": {},
     "output_type": "display_data"
    }
   ],
   "source": [
    "c.SetLogy();\n",
    "rp = r.TRatioPlot(stack, hData);\n",
    "#c.SetTicks(0, 1);\n",
    "rp.Draw();\n",
    "rp.GetLowerRefYaxis().SetTitle(\"ratio\");\n",
    "rp.GetUpperRefYaxis().SetTitle(\"entries\");\n",
    "rp.GetLowerRefXaxis().SetTitle(\"M_{ww}\");\n",
    "rp.GetLowerRefGraph().SetMinimum(-0.1);\n",
    "rp.GetLowerRefGraph().SetMaximum(2.5);\n",
    "c.Update();\n",
    "#c.SetLogy(1)\n",
    "c.Draw()"
   ]
  }
 ],
 "metadata": {
  "kernelspec": {
   "display_name": "Python 2",
   "language": "python",
   "name": "python2"
  },
  "language_info": {
   "codemirror_mode": {
    "name": "ipython",
    "version": 2
   },
   "file_extension": ".py",
   "mimetype": "text/x-python",
   "name": "python",
   "nbconvert_exporter": "python",
   "pygments_lexer": "ipython2",
   "version": "2.7.11"
  }
 },
 "nbformat": 4,
 "nbformat_minor": 2
}
