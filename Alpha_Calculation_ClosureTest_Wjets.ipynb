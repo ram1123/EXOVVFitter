{
 "cells": [
  {
   "cell_type": "markdown",
   "metadata": {
    "slideshow": {
     "slide_type": "slide"
    }
   },
   "source": [
    "# Alpha Ratio method for W+jet estimation (NEW)\n",
    "\n",
    "> In this notebook I grabed the corrected W+jets from histogram but since this histogram was not contaning the scale to I need to scale it but the scaling method also scales the error bars."
   ]
  },
  {
   "cell_type": "raw",
   "metadata": {
    "slideshow": {
     "slide_type": "slide"
    }
   },
   "source": [
    "* Data/MC control plot in W+jet control region without any correction from data. All backgrounds are pure MCs\n",
    "\n",
    "normal scale | Log Scale\n",
    ":-:|:-:\n",
    "![fig1](JupyterNotebookPlots/DibosonBoostedElMuCuts13TeV_WjetControlRegion_Tighter_CHS_mass_lvj_type0_PuppiAK8.png) |![fig2](JupyterNotebookPlots/DibosonBoostedElMuCuts13TeV_WjetControlRegion_Tighter_CHS_mass_lvj_type0_PuppiAK8_log.png)_log\n",
    "\n",
    "* Data/MC control plot in W+jet control region after corrected the shape and normalization for W+jets according to data. Shape and normalization for W+jets are taken from fit to data.\n",
    "\n",
    "normal scale | Log Scale\n",
    ":-:|:-:\n",
    "![fig1](plots_em_HP/m_lvj_fitting/m_lvj_sb_lo_WJets0_xww__with_pull.png) | ![fig2](plots_em_HP/m_lvj_fitting/m_lvj_sb_lo_WJets0_xww__log.png)\n",
    "\n",
    "\n",
    "* Steps for W+jets estimation from alpha is\n",
    "    * STEP-1: Divide W+jet pure MC in signal region and sideband region. This will give us alpha.\n",
    "    * STEP-2: Get the modified shape of W+jet after fitting to data.\n",
    "    * STEP-3: Multiply the alpha to this modified shape to get the W+Jet shape in signal region."
   ]
  },
  {
   "cell_type": "code",
   "execution_count": 1,
   "metadata": {
    "collapsed": false,
    "slideshow": {
     "slide_type": "skip"
    }
   },
   "outputs": [
    {
     "data": {
      "application/javascript": [
       "\n",
       "require(['notebook'],\n",
       "  function() {\n",
       "    IPython.CodeCell.config_defaults.highlight_modes['magic_text/x-c++src'] = {'reg':[/^%%cpp/]};\n",
       "    console.log(\"JupyROOT - %%cpp magic configured\");\n",
       "  }\n",
       ");\n"
      ]
     },
     "metadata": {},
     "output_type": "display_data"
    },
    {
     "name": "stdout",
     "output_type": "stream",
     "text": [
      "Welcome to JupyROOT 6.08/05\n"
     ]
    },
    {
     "data": {
      "text/plain": [
       "<ROOT.TStyle object (\"tdrStyle\") at 0x5f7faf0>"
      ]
     },
     "execution_count": 1,
     "metadata": {},
     "output_type": "execute_result"
    }
   ],
   "source": [
    "import ROOT as r\n",
    "\n",
    "## activate the interactive visualisation we can use the JavaScriptROOT magic\n",
    "#%jsroot on\n",
    "\n",
    "# To surpress unwanted messages\n",
    "msgservice = r.RooMsgService.instance()\n",
    "msgservice.setGlobalKillBelow(r.RooFit.FATAL)\n",
    "\n",
    "#%matplotlib inline\n",
    "import CMS_lumi, tdrstyle\n",
    "\n",
    "tdrstyle.setTDRStyle()"
   ]
  },
  {
   "cell_type": "code",
   "execution_count": 2,
   "metadata": {
    "collapsed": true
   },
   "outputs": [],
   "source": [
    "def createCanvasPads():\n",
    "    c = r.TCanvas(\"c\", \"canvas\", 600, 700)\n",
    "    # Upper histogram plot is pad1\n",
    "    pad1 = r.TPad(\"pad1\", \"pad1\", 0.0, 0.3, 1.0, 1.0)\n",
    "    pad1.SetBottomMargin(0)  # joins upper and lower plot\n",
    "    pad1.SetLeftMargin(0.1)\n",
    "    pad1.SetRightMargin(0.03)\n",
    "    pad1.SetLogy(0)\n",
    "    pad1.SetGridx()\n",
    "    pad1.SetTickx(1)\n",
    "    pad1.SetTicky(1)\n",
    "    pad1.Draw()\n",
    "    # Lower ratio plot is pad2\n",
    "    c.cd()  # returns to main canvas before defining pad2\n",
    "    pad2 = r.TPad(\"pad2\", \"pad2\", 0.0, 0.00, 1.0, 0.3)\n",
    "    #pad2.SetLogy(1)\n",
    "    pad2.SetTopMargin(0)  # joins upper and lower plot\n",
    "    pad2.SetBottomMargin(0.25)\n",
    "    pad2.SetLeftMargin(0.1)\n",
    "    pad2.SetRightMargin(0.03)\n",
    "    pad2.SetGridx()\n",
    "    pad2.SetTickx(1)\n",
    "    pad2.SetTicky(1)\n",
    "    pad2.Draw()\n",
    "\n",
    "    return c, pad1, pad2"
   ]
  },
  {
   "cell_type": "code",
   "execution_count": 3,
   "metadata": {
    "collapsed": true
   },
   "outputs": [],
   "source": [
    "def createRatio(h1, h2, xlabel, col):\n",
    "    h3 = h1.Clone(\"h3\")\n",
    "    h3.SetLineColor(col)\n",
    "    h3.SetMarkerColor(col)\n",
    "    h3.SetMarkerStyle(21)\n",
    "    h3.SetTitle(\"\")\n",
    "    h3.SetMinimum(0.1)\n",
    "    h3.SetMaximum(2.8)\n",
    "    # Set up plot for markers and errors\n",
    "    #h3.Sumw2()\n",
    "    h3.SetStats(0)\n",
    "    h3.Divide(h2)\n",
    "\n",
    "    # Adjust y-axis settings\n",
    "    y = h3.GetYaxis()\n",
    "    y.SetTitle(\"Data/MC\")\n",
    "    y.SetNdivisions(505)\n",
    "    y.SetTitleSize(20)\n",
    "    y.SetTitleFont(43)\n",
    "    y.SetTitleOffset(1.55)\n",
    "    y.SetLabelFont(43)\n",
    "    y.SetLabelSize(15)\n",
    "\n",
    "    # Adjust x-axis settings\n",
    "    x = h3.GetXaxis()\n",
    "    x.SetTitle(xlabel)\n",
    "    x.SetTitleSize(20)\n",
    "    x.SetTitleFont(43)\n",
    "    x.SetTitleOffset(4.0)\n",
    "    x.SetLabelFont(43)\n",
    "    x.SetLabelSize(15)\n",
    "\n",
    "    return h3"
   ]
  },
  {
   "cell_type": "code",
   "execution_count": 4,
   "metadata": {
    "collapsed": false,
    "scrolled": true,
    "slideshow": {
     "slide_type": "skip"
    }
   },
   "outputs": [],
   "source": [
    "fin = r.TFile.Open(\"root://cmseos.fnal.gov//store/user/rasharma/SecondStep/WWTree_CommonNtuple_For1and2Lepton_2018_04_06_09h22/HaddedFiles/Hadds_for_BkgEstimation/WWTree_VJets.root\")\n",
    "\n",
    "treeIn = fin.Get(\"otree\")\n",
    "\n",
    "# Define the cuts\n",
    "cutString_SideBand       =  \"wSampleWeight*35867.06*btag0Wgt*genWeight*trig_eff_Weight*id_eff_Weight*pu_Weight*((type==0||type==1) && (l_pt2<0 && l_pt1>30 && (((type==0)&&(abs(l_eta1)<2.4)) || ((type==1)&&((abs(l_eta1)<2.5)&&!(abs(l_eta1)>1.4442 && abs(l_eta1)<1.566))))) && (((type==0)&&(pfMET_Corr>50)) || ((type==1)&&(pfMET_Corr>80))) && ((ungroomed_PuppiAK8_jet_pt>200)&&(abs(ungroomed_PuppiAK8_jet_eta)<2.4)&&(PuppiAK8_jet_tau2tau1<0.55)) && (nBTagJet_loose==0) && (vbf_maxpt_jj_m>800) && (abs(vbf_maxpt_j2_eta-vbf_maxpt_j1_eta)>4.0) && ((vbf_maxpt_j1_pt>30) && (vbf_maxpt_j2_pt>30)) && (((PuppiAK8_jet_mass_so_corr>40)&&(PuppiAK8_jet_mass_so_corr<65)) || ((PuppiAK8_jet_mass_so_corr>125)&&(PuppiAK8_jet_mass_so_corr<150))) && (mass_lvj_type0_PuppiAK8>600) && ((abs(ZeppenfeldWL_type0)/abs(vbf_maxpt_j2_eta-vbf_maxpt_j1_eta))<0.3) && ((abs(ZeppenfeldWH)/abs(vbf_maxpt_j2_eta-vbf_maxpt_j1_eta))<0.3) && (BosonCentrality_type0>1.0))\"\n",
    "\n",
    "cutString_Signal         =  \"wSampleWeight*35867.06*btag0Wgt*genWeight*trig_eff_Weight*id_eff_Weight*pu_Weight*((type==0||type==1) && (l_pt2<0 && l_pt1>30 && (((type==0)&&(abs(l_eta1)<2.4)) || ((type==1)&&((abs(l_eta1)<2.5)&&!(abs(l_eta1)>1.4442 && abs(l_eta1)<1.566))))) && (((type==0)&&(pfMET_Corr>50)) || ((type==1)&&(pfMET_Corr>80))) && ((ungroomed_PuppiAK8_jet_pt>200)&&(abs(ungroomed_PuppiAK8_jet_eta)<2.4)&&(PuppiAK8_jet_tau2tau1<0.55)) && (nBTagJet_loose==0) && (vbf_maxpt_jj_m>800) && (abs(vbf_maxpt_j2_eta-vbf_maxpt_j1_eta)>4.0) && ((vbf_maxpt_j1_pt>30) && (vbf_maxpt_j2_pt>30)) && ((PuppiAK8_jet_mass_so_corr>105) &&(PuppiAK8_jet_mass_so_corr<125)) && (mass_lvj_type0_PuppiAK8>600) && ((abs(ZeppenfeldWL_type0)/abs(vbf_maxpt_j2_eta-vbf_maxpt_j1_eta))<0.3) && ((abs(ZeppenfeldWH)/abs(vbf_maxpt_j2_eta-vbf_maxpt_j1_eta))<0.3) && (BosonCentrality_type0>1.0))\""
   ]
  },
  {
   "cell_type": "markdown",
   "metadata": {
    "slideshow": {
     "slide_type": "skip"
    }
   },
   "source": [
    "## Get W+jet histogram in signal and side-band region"
   ]
  },
  {
   "cell_type": "code",
   "execution_count": 5,
   "metadata": {
    "collapsed": false,
    "slideshow": {
     "slide_type": "skip"
    }
   },
   "outputs": [
    {
     "data": {
      "text/plain": [
       "3503L"
      ]
     },
     "execution_count": 5,
     "metadata": {},
     "output_type": "execute_result"
    },
    {
     "name": "stderr",
     "output_type": "stream",
     "text": [
      "Info in <TCanvas::MakeDefCanvas>:  created default TCanvas with name c1\n"
     ]
    }
   ],
   "source": [
    "hSignal_4bin = r.TH1D(\"hSignal_4bin\",\"\",4,600,2500)\n",
    "hSignal_4bin.SetMarkerColor(1)\n",
    "hSignal_4bin.SetLineColor(1)\n",
    "hSignal_4bin.SetLineWidth(3)\n",
    "hSignal_4bin.SetMarkerSize(1)\n",
    "\n",
    "hSignal_15bin = r.TH1D(\"hSignal_15bin\",\"\",15,600,2500)\n",
    "hSignal_15bin.SetMarkerColor(1)\n",
    "hSignal_15bin.SetLineColor(1)\n",
    "hSignal_15bin.SetLineWidth(3)\n",
    "hSignal_15bin.SetMarkerSize(1)\n",
    "\n",
    "hSignal_38bin = r.TH1D(\"hSignal_38bin\",\"\",38,600,2500)\n",
    "hSignal_38bin.SetMarkerColor(1)\n",
    "hSignal_38bin.SetLineColor(1)\n",
    "hSignal_38bin.SetLineWidth(3)\n",
    "hSignal_38bin.SetMarkerSize(1)\n",
    "\n",
    "hSideBand_15bin = r.TH1D(\"hSideBand_15bin\",\"\",15,600,2500)\n",
    "hSideBand_15bin.SetMarkerColor(2)\n",
    "hSideBand_15bin.SetLineColor(2)\n",
    "hSideBand_15bin.SetLineWidth(3)\n",
    "hSideBand_15bin.SetMarkerSize(1)\n",
    "\n",
    "hSideBand_38bin = r.TH1D(\"hSideBand_38bin\",\"\",38,600,2500)\n",
    "hSideBand_38bin.SetMarkerColor(2)\n",
    "hSideBand_38bin.SetLineColor(2)\n",
    "hSideBand_38bin.SetLineWidth(3)\n",
    "hSideBand_38bin.SetMarkerSize(1)\n",
    "\n",
    "treeIn.Draw(\"mass_lvj_type0_PuppiAK8>>hSignal_4bin\",cutString_Signal)\n",
    "treeIn.Draw(\"mass_lvj_type0_PuppiAK8>>hSignal_15bin\",cutString_Signal)\n",
    "treeIn.Draw(\"mass_lvj_type0_PuppiAK8>>hSignal_38bin\",cutString_Signal)\n",
    "\n",
    "treeIn.Draw(\"mass_lvj_type0_PuppiAK8>>hSideBand_15bin\",cutString_SideBand)\n",
    "treeIn.Draw(\"mass_lvj_type0_PuppiAK8>>hSideBand_38bin\",cutString_SideBand)"
   ]
  },
  {
   "cell_type": "code",
   "execution_count": 6,
   "metadata": {
    "collapsed": false
   },
   "outputs": [
    {
     "name": "stderr",
     "output_type": "stream",
     "text": [
      "Warning in <TCanvas::Constructor>: Deleting canvas with same name: c1\n"
     ]
    },
    {
     "data": {
      "image/png": "[encoded data removed]",
      "text/plain": [
       "<IPython.core.display.Image object>"
      ]
     },
     "metadata": {},
     "output_type": "display_data"
    }
   ],
   "source": [
    "leg = r.TLegend(0.45,0.95,.95,0.75)\n",
    "\n",
    "leg.AddEntry(hSignal_15bin,\"signal region (MC)\")\n",
    "leg.AddEntry(hSideBand_15bin,\"SideBand Region (MC)\")\n",
    "\n",
    "\n",
    "c1 = r.TCanvas(\"c1\", \"canvas\", 1000, 600)\n",
    "c1.SetLogy()\n",
    "c1.Divide(2,1)\n",
    "c1.cd(1)\n",
    "r.gPad.SetLogy()\n",
    "hSignal_15bin.SetTitle(\"Log axis\")\n",
    "hSignal_15bin.Draw()\n",
    "hSideBand_15bin.Draw(\"same\")\n",
    "leg.Draw()\n",
    "c1.cd(2)\n",
    "hSignal_15bin.SetTitle(\"Linear axis\")\n",
    "hSignal_15bin.Draw()\n",
    "hSideBand_15bin.Draw(\"same\")\n",
    "leg.Draw()\n",
    "\n",
    "c1.Draw()"
   ]
  },
  {
   "cell_type": "markdown",
   "metadata": {
    "slideshow": {
     "slide_type": "slide"
    }
   },
   "source": [
    "## Calculate alpha by dividing W+jets MC in signal and side-band region"
   ]
  },
  {
   "cell_type": "code",
   "execution_count": 7,
   "metadata": {
    "collapsed": false,
    "slideshow": {
     "slide_type": "slide"
    }
   },
   "outputs": [
    {
     "name": "stdout",
     "output_type": "stream",
     "text": [
      "Alpha does not exists\n",
      "\n",
      "****************************************\n",
      "Minimizer is Linear\n",
      "Chi2                      =      15.1166\n",
      "NDf                       =           13\n",
      "p0                        =     0.189752   +/-   0.0574895   \n",
      "p1                        =  0.000131577   +/-   6.01321e-05 \n",
      "Integral =  974.895265664\n",
      "Integral =  748.023631446\n"
     ]
    },
    {
     "name": "stderr",
     "output_type": "stream",
     "text": [
      "Warning in <TCanvas::Constructor>: Deleting canvas with same name: c1\n"
     ]
    },
    {
     "data": {
      "image/png": "[encoded data removed]",
      "text/plain": [
       "<IPython.core.display.Image object>"
      ]
     },
     "metadata": {},
     "output_type": "display_data"
    }
   ],
   "source": [
    "try: \n",
    "    Alpha.Delete();\n",
    "except: \n",
    "    print \"Alpha does not exists\";\n",
    "    \n",
    "Alpha =  r.TH1D(\"Alpha\",\"\",15,600,2500)\n",
    "Alpha = hSignal_15bin.Clone()\n",
    "Alpha.Divide(hSideBand_15bin)\n",
    "c1 = r.TCanvas(\"c1\", \"canvas\", 800, 600)\n",
    "Alpha.GetXaxis().SetTitle(\"mWW (GeV)\")\n",
    "Alpha.GetYaxis().SetTitle(\"alpha (Signal/Side-band)\")\n",
    "Alpha.SetMaximum(1.8)\n",
    "Alpha.SetMinimum(-0.2)\n",
    "Alpha.Draw()\n",
    "f1 = r.TF1(\"f1\",\"pol1\",600,2500)\n",
    "Alpha.Fit(\"f1\")\n",
    "c1.Draw()\n",
    "print \"Integral = \",Alpha.Integral(\"width\")\n",
    "print \"Integral = \",f1.Integral(600,2500)\n",
    "#for i in range(1,39):\n",
    "#    print i,\",\",Alpha.GetBinContent(i),\",\",Alpha.GetBinLowEdge(i),\",\",Alpha.GetBinWidth(i)"
   ]
  },
  {
   "cell_type": "code",
   "execution_count": 8,
   "metadata": {
    "collapsed": false
   },
   "outputs": [
    {
     "name": "stdout",
     "output_type": "stream",
     "text": [
      "Print alpha values in each bin: \n",
      "\n",
      "\n",
      "1 \t600 650 => 625.0 0.271987839532\n",
      "2 \t650 700 => 675.0 0.27856669405\n",
      "3 \t700 750 => 725.0 0.285145548569\n",
      "4 \t750 800 => 775.0 0.291724403088\n",
      "5 \t800 850 => 825.0 0.298303257607\n",
      "6 \t850 900 => 875.0 0.304882112126\n",
      "7 \t900 950 => 925.0 0.311460966645\n",
      "8 \t950 1000 => 975.0 0.318039821163\n",
      "9 \t1000 1050 => 1025.0 0.324618675682\n",
      "10 \t1050 1100 => 1075.0 0.331197530201\n",
      "11 \t1100 1150 => 1125.0 0.33777638472\n",
      "12 \t1150 1200 => 1175.0 0.344355239239\n",
      "13 \t1200 1250 => 1225.0 0.350934093757\n",
      "14 \t1250 1300 => 1275.0 0.357512948276\n",
      "15 \t1300 1350 => 1325.0 0.364091802795\n",
      "16 \t1350 1400 => 1375.0 0.370670657314\n",
      "17 \t1400 1450 => 1425.0 0.377249511833\n",
      "18 \t1450 1500 => 1475.0 0.383828366351\n",
      "19 \t1500 1550 => 1525.0 0.39040722087\n",
      "20 \t1550 1600 => 1575.0 0.396986075389\n",
      "21 \t1600 1650 => 1625.0 0.403564929908\n",
      "22 \t1650 1700 => 1675.0 0.410143784427\n",
      "23 \t1700 1750 => 1725.0 0.416722638945\n",
      "24 \t1750 1800 => 1775.0 0.423301493464\n",
      "25 \t1800 1850 => 1825.0 0.429880347983\n",
      "26 \t1850 1900 => 1875.0 0.436459202502\n",
      "27 \t1900 1950 => 1925.0 0.443038057021\n",
      "28 \t1950 2000 => 1975.0 0.44961691154\n",
      "29 \t2000 2050 => 2025.0 0.456195766058\n",
      "30 \t2050 2100 => 2075.0 0.462774620577\n",
      "31 \t2100 2150 => 2125.0 0.469353475096\n",
      "32 \t2150 2200 => 2175.0 0.475932329615\n",
      "33 \t2200 2250 => 2225.0 0.482511184134\n",
      "34 \t2250 2300 => 2275.0 0.489090038652\n",
      "35 \t2300 2350 => 2325.0 0.495668893171\n",
      "36 \t2350 2400 => 2375.0 0.50224774769\n",
      "37 \t2400 2450 => 2425.0 0.508826602209\n",
      "38 \t2450 2500 => 2475.0 0.515405456728\n"
     ]
    },
    {
     "data": {
      "image/png": "[encoded data removed]",
      "text/plain": [
       "<IPython.core.display.Image object>"
      ]
     },
     "metadata": {},
     "output_type": "display_data"
    }
   ],
   "source": [
    "leg = r.TLegend(0.55,0.9,.9,0.8)\n",
    "\n",
    "hAlpha_Fit_38bin = r.TH1F(\"hAlpha_Fit_38bin\",\"\",38,600,2500)\n",
    "count = 1\n",
    "import numpy as np\n",
    "print \"Print alpha values in each bin: \\n\\n\"\n",
    "for i in np.arange(600,2500,50):\n",
    "    print count,\"\\t\",i,i+50,\"=>\",(i+i+50)/2.,f1.Eval((i+i+50)/2.)\n",
    "    hAlpha_Fit_38bin.SetBinContent(count,f1.Eval((i+i+50)/2.));\n",
    "    count+=1\n",
    "\n",
    "hAlpha_Fit_38bin.SetMarkerColor(1)\n",
    "hAlpha_Fit_38bin.SetLineColor(1)\n",
    "hAlpha_Fit_38bin.SetLineWidth(3)\n",
    "hAlpha_Fit_38bin.SetMarkerSize(1)\n",
    "\n",
    "\n",
    "leg.AddEntry(hAlpha_Fit_38bin,\"Nominal Alpha\")\n",
    "hAlpha_Fit_38bin.Draw(\"same\")    \n",
    "    \n",
    "leg.Draw()\n",
    "\n",
    "c1.Update()\n",
    "c1.Draw()"
   ]
  },
  {
   "cell_type": "markdown",
   "metadata": {
    "slideshow": {
     "slide_type": "slide"
    }
   },
   "source": [
    "# Get corrected W+jet in sideband region after fit to data\n",
    "\n",
    "This histogram is saved in ExoVV fitter using create histogram method:\n",
    "\n",
    "https://github.com/ram1123/EXOVVFitter/blob/master/g1_exo_doFit_class_new.py#L1795-L1796\n",
    "\n",
    "But, this histogram was not taking the normalization so I have to scale it with the normalization. ***But, scaling the histogram also scaling the errors.***"
   ]
  },
  {
   "cell_type": "code",
   "execution_count": null,
   "metadata": {
    "collapsed": false,
    "scrolled": false,
    "slideshow": {
     "slide_type": "slide"
    }
   },
   "outputs": [],
   "source": [
    "leg.Clear()\n",
    "c1.Clear()\n",
    "Wjet_file = r.TFile.Open(\"WWTree_CleanedCode_Isolated_NaNFixed_Btag30GeV_2018_04_16_11h24_BothLSBUSB_ClosureTest/wjetmodel_Ex__WJets0_xww__sb_lo_Exp_auto.root\")\n",
    "\n",
    "Wjet_hist = r.TH1F()\n",
    "Wjet_hist = Wjet_file.Get(\"rrv_mass_lvj__rrv_mass_lvj\")\n",
    "Wjet_hist.SetMarkerColor(625)\n",
    "Wjet_hist.SetLineColor(625)\n",
    "Wjet_hist.SetFillColor(625)\n",
    "Wjet_hist.SetLineWidth(3)\n",
    "Wjet_hist.SetMarkerSize(1)\n",
    "\n",
    "\n",
    "Wjet_hist.Scale(193.75)\n",
    "print Wjet_hist.Integral()\n",
    "Wjet_hist.SetMaximum(45.0)\n",
    "Wjet_hist.Draw(\"hist\")\n",
    "hSideBand.Draw(\"same\")\n",
    "leg.AddEntry(Wjet_hist,\"SideBand Region (Corr)\")\n",
    "leg.AddEntry(hSideBand,\"SideBand Region (MC)\")\n",
    "leg.Draw()\n",
    "c1.Draw()\n",
    "\n",
    "print \"bin 1 content = \",Wjet_hist.GetBinContent(1)\n",
    "print \"bin 2 content = \",Wjet_hist.GetBinContent(2)\n",
    "print \"bin 3 content = \",Wjet_hist.GetBinContent(3)\n",
    "print \"bin 4 content = \",Wjet_hist.GetBinContent(4)"
   ]
  },
  {
   "cell_type": "code",
   "execution_count": null,
   "metadata": {
    "collapsed": false
   },
   "outputs": [],
   "source": [
    "c1.SetLogy()\n",
    "c1.Draw()"
   ]
  },
  {
   "cell_type": "markdown",
   "metadata": {
    "slideshow": {
     "slide_type": "slide"
    }
   },
   "source": [
    "# Multiplication by Alpha to get Signal Region W+jets obtained from data."
   ]
  },
  {
   "cell_type": "code",
   "execution_count": null,
   "metadata": {
    "collapsed": false,
    "slideshow": {
     "slide_type": "slide"
    }
   },
   "outputs": [],
   "source": [
    "c1.Clear()\n",
    "leg.Clear()\n",
    "c1.SetLogy(0)\n",
    "\n",
    "hModel_Sig = r.TH1F(\"hModel_Sig\",\"\",38,600,2500)\n",
    "hModel_Sig.Sumw2()\n",
    "hModel_Sig.SetMarkerColor(4)\n",
    "hModel_Sig.SetLineColor(4)\n",
    "hModel_Sig.SetLineWidth(3)\n",
    "hModel_Sig.SetMarkerSize(1)\n",
    "\n",
    "for i in range(1,39):\n",
    "    hModel_Sig.SetBinContent(i,Wjet_hist.GetBinContent(i)*hAlpha_Fit_38bin.GetBinContent(i))\n",
    "\n",
    "\n",
    "hModel_Sig.Draw()\n",
    "hSignal.Draw(\"same\")\n",
    "leg.AddEntry(hSignal,\"W+jet Signal Region (MC)\")\n",
    "leg.AddEntry(hModel_Sig,\"W+jet Signal Region (Alpha)\")\n",
    "\n",
    "leg.Draw()\n",
    "\n",
    "c1.Draw()"
   ]
  },
  {
   "cell_type": "code",
   "execution_count": null,
   "metadata": {
    "collapsed": false
   },
   "outputs": [],
   "source": [
    "c1.SetLogy()\n",
    "c1.Draw()"
   ]
  },
  {
   "cell_type": "code",
   "execution_count": null,
   "metadata": {
    "collapsed": true
   },
   "outputs": [],
   "source": [
    "# For 4 bins\n",
    "hModel_Sig_new = r.TH1F(\"hModel_Sig_new\",\"\",4,600,2500)\n",
    "count = 1\n",
    "bin = [0]*5\n",
    "for i in range(1,39):\n",
    "    if i<36:\n",
    "        if i%9==0:\n",
    "            count+=1\n",
    "    #print i,count,hModel_Sig.GetBinContent(i)\n",
    "    bin[count] += hModel_Sig.GetBinContent(i)\n",
    "\n",
    "hModel_Sig_new.SetBinContent(1,bin[1])\n",
    "hModel_Sig_new.SetBinContent(2,bin[2])\n",
    "hModel_Sig_new.SetBinContent(3,bin[3])\n",
    "hModel_Sig_new.SetBinContent(4,bin[4])\n",
    "\n",
    "hModel_Sig_new.SetMarkerColor(1)\n",
    "hModel_Sig_new.SetLineColor(1)\n",
    "hModel_Sig_new.SetLineWidth(3)\n",
    "hModel_Sig_new.SetMarkerSize(1)"
   ]
  },
  {
   "cell_type": "code",
   "execution_count": null,
   "metadata": {
    "collapsed": false
   },
   "outputs": [],
   "source": [
    "c1.Clear()\n",
    "fin_Wjet_MC = r.TFile.Open(\"root://cmseos.fnal.gov//store/user/rasharma/SecondStep/WWTree_CleanedCode_Isolated_NaNFixed_Btag30GeV_2018_03_16_00h13/HaddedFiles/Hadds_for_BkgEstimation/WWTree_VJets.root\")\n",
    "fin_VV = r.TFile.Open(\"root://cmseos.fnal.gov//store/user/rasharma/SecondStep/WWTree_CleanedCode_Isolated_NaNFixed_Btag30GeV_2018_03_16_00h13/HaddedFiles/Hadds_for_BkgEstimation/WWTree_VV.root\")\n",
    "fin_TTbar = r.TFile.Open(\"root://cmseos.fnal.gov//store/user/rasharma/SecondStep/WWTree_CleanedCode_Isolated_NaNFixed_Btag30GeV_2018_03_16_00h13/HaddedFiles/Hadds_for_BkgEstimation/WWTree_TTbar.root\")\n",
    "fin_STop = r.TFile.Open(\"root://cmseos.fnal.gov//store/user/rasharma/SecondStep/WWTree_CleanedCode_Isolated_NaNFixed_Btag30GeV_2018_03_16_00h13/HaddedFiles/Hadds_for_BkgEstimation/WWTree_STop.root\")\n",
    "fin_Data = r.TFile.Open(\"root://cmseos.fnal.gov//store/user/rasharma/SecondStep/WWTree_CleanedCode_Isolated_NaNFixed_Btag30GeV_2018_03_16_00h13/HaddedFiles/Hadds_for_BkgEstimation/WWTree_data_golden.root\")\n",
    "\n",
    "treeIn_Wjet_MC = fin_Wjet_MC.Get(\"otree\")\n",
    "treeIn_VV = fin_VV.Get(\"otree\")\n",
    "treeIn_TTbar = fin_TTbar.Get(\"otree\")\n",
    "treeIn_STop = fin_STop.Get(\"otree\")\n",
    "treeIn_Data = fin_Data.Get(\"otree\")"
   ]
  },
  {
   "cell_type": "markdown",
   "metadata": {},
   "source": [
    "# Signal Region Distribution (105-125)"
   ]
  },
  {
   "cell_type": "raw",
   "metadata": {
    "collapsed": false
   },
   "source": [
    "# For 38 bins\n",
    "hModel_Sig.SetMarkerColor(625)\n",
    "hModel_Sig.SetLineColor(625)\n",
    "hModel_Sig.SetFillColor(625)\n",
    "hModel_Sig.SetLineWidth(3)\n",
    "hModel_Sig.SetMarkerSize(1)\n",
    "\n",
    "hVV_Sig = r.TH1D(\"hVV_Sig\",\"\",38,600,2500)\n",
    "hVV_Sig.SetMarkerColor(607)\n",
    "hVV_Sig.SetLineColor(607)\n",
    "hVV_Sig.SetFillColor(607)\n",
    "hVV_Sig.SetLineWidth(3)\n",
    "hVV_Sig.SetMarkerSize(1)\n",
    "\n",
    "hTTbar_Sig = r.TH1D(\"hTTbar_Sig\",\"\",38,600,2500)\n",
    "hTTbar_Sig.SetMarkerColor(592)\n",
    "hTTbar_Sig.SetLineColor(592)\n",
    "hTTbar_Sig.SetFillColor(592)\n",
    "hTTbar_Sig.SetLineWidth(3)\n",
    "hTTbar_Sig.SetMarkerSize(1)\n",
    "\n",
    "hSTop_Sig = r.TH1D(\"hSTop_Sig\",\"\",38,600,2500)\n",
    "hSTop_Sig.SetMarkerColor(854)\n",
    "hSTop_Sig.SetLineColor(854)\n",
    "hSTop_Sig.SetFillColor(854)\n",
    "hSTop_Sig.SetLineWidth(3)\n",
    "hSTop_Sig.SetMarkerSize(1)\n",
    "\n",
    "hData_Sig = r.TH1D(\"hData_Sig\",\"\",38,600,2500)\n",
    "hData_Sig.SetMarkerColor(1)\n",
    "hData_Sig.SetLineColor(1)\n",
    "#hData.SetFillColor(1)\n",
    "hData_Sig.SetLineWidth(3)\n",
    "hData_Sig.SetMarkerSize(1)\n",
    "\n",
    "treeIn_VV.Draw(\"mass_lvj_type0_PuppiAK8>>hVV_Sig\",cutString_Signal)\n",
    "treeIn_TTbar.Draw(\"mass_lvj_type0_PuppiAK8>>hTTbar_Sig\",cutString_Signal)\n",
    "treeIn_STop.Draw(\"mass_lvj_type0_PuppiAK8>>hSTop_Sig\",cutString_Signal)\n",
    "\n",
    "# Define the cuts\n",
    "cutString_SideBand_Data   =  \"((type==0||type==1) && (l_pt2<0 && l_pt1>30 && (((type==0)&&(abs(l_eta1)<2.4)) || ((type==1)&&((abs(l_eta1)<2.5)&&!(abs(l_eta1)>1.4442 && abs(l_eta1)<1.566))))) && (((type==0)&&(pfMET_Corr>50)) || ((type==1)&&(pfMET_Corr>80))) && ((ungroomed_PuppiAK8_jet_pt>200)&&(abs(ungroomed_PuppiAK8_jet_eta)<2.4)&&(PuppiAK8_jet_tau2tau1<0.55)) && (nBTagJet_loose==0) && (vbf_maxpt_jj_m>800) && (abs(vbf_maxpt_j2_eta-vbf_maxpt_j1_eta)>4.0) && ((vbf_maxpt_j1_pt>30) && (vbf_maxpt_j2_pt>30)) && ((((PuppiAK8_jet_mass_so>40) && (PuppiAK8_jet_mass_so<65)) || ((PuppiAK8_jet_mass_so>125) && (PuppiAK8_jet_mass_so<150)))) && (mass_lvj_type0_PuppiAK8>600) && ((abs(ZeppenfeldWL_type0)/abs(vbf_maxpt_j2_eta-vbf_maxpt_j1_eta))<0.3) && ((abs(ZeppenfeldWH)/abs(vbf_maxpt_j2_eta-vbf_maxpt_j1_eta))<0.3) && (BosonCentrality_type0>1.0))\"\n",
    "\n",
    "cutString_SigData         =  \"((type==0||type==1) && (l_pt2<0 && l_pt1>30 && (((type==0)&&(abs(l_eta1)<2.4)) || ((type==1)&&((abs(l_eta1)<2.5)&&!(abs(l_eta1)>1.4442 && abs(l_eta1)<1.566))))) && (((type==0)&&(pfMET_Corr>50)) || ((type==1)&&(pfMET_Corr>80))) && ((ungroomed_PuppiAK8_jet_pt>200)&&(abs(ungroomed_PuppiAK8_jet_eta)<2.4)&&(PuppiAK8_jet_tau2tau1<0.55)) && (nBTagJet_loose==0) && (vbf_maxpt_jj_m>800) && (abs(vbf_maxpt_j2_eta-vbf_maxpt_j1_eta)>4.0) && ((vbf_maxpt_j1_pt>30) && (vbf_maxpt_j2_pt>30)) && ((((PuppiAK8_jet_mass_so>105) && (PuppiAK8_jet_mass_so<125)))) && (mass_lvj_type0_PuppiAK8>600) && ((abs(ZeppenfeldWL_type0)/abs(vbf_maxpt_j2_eta-vbf_maxpt_j1_eta))<0.3) && ((abs(ZeppenfeldWH)/abs(vbf_maxpt_j2_eta-vbf_maxpt_j1_eta))<0.3) && (BosonCentrality_type0>1.0))\"\n",
    "\n",
    "\n",
    "treeIn_Data.Draw(\"mass_lvj_type0_PuppiAK8>>hData_Sig\",cutString_SigData)"
   ]
  },
  {
   "cell_type": "code",
   "execution_count": null,
   "metadata": {
    "collapsed": false
   },
   "outputs": [],
   "source": [
    "# for 4 bins\n",
    "hModel_Sig_new.SetMarkerColor(625)\n",
    "hModel_Sig_new.SetLineColor(625)\n",
    "hModel_Sig_new.SetFillColor(625)\n",
    "hModel_Sig_new.SetLineWidth(3)\n",
    "hModel_Sig_new.SetMarkerSize(1)\n",
    "\n",
    "hVV_Sig = r.TH1D(\"hVV_Sig\",\"\",4,600,2500)\n",
    "hVV_Sig.SetMarkerColor(607)\n",
    "hVV_Sig.SetLineColor(607)\n",
    "hVV_Sig.SetFillColor(607)\n",
    "hVV_Sig.SetLineWidth(3)\n",
    "hVV_Sig.SetMarkerSize(1)\n",
    "\n",
    "hTTbar_Sig = r.TH1D(\"hTTbar_Sig\",\"\",4,600,2500)\n",
    "hTTbar_Sig.SetMarkerColor(592)\n",
    "hTTbar_Sig.SetLineColor(592)\n",
    "hTTbar_Sig.SetFillColor(592)\n",
    "hTTbar_Sig.SetLineWidth(3)\n",
    "hTTbar_Sig.SetMarkerSize(1)\n",
    "\n",
    "hSTop_Sig = r.TH1D(\"hSTop_Sig\",\"\",4,600,2500)\n",
    "hSTop_Sig.SetMarkerColor(854)\n",
    "hSTop_Sig.SetLineColor(854)\n",
    "hSTop_Sig.SetFillColor(854)\n",
    "hSTop_Sig.SetLineWidth(3)\n",
    "hSTop_Sig.SetMarkerSize(1)\n",
    "\n",
    "hData_Sig = r.TH1D(\"hData_Sig\",\"\",4,600,2500)\n",
    "hData_Sig.SetMarkerColor(1)\n",
    "hData_Sig.SetLineColor(1)\n",
    "#hData.SetFillColor(1)\n",
    "hData_Sig.SetLineWidth(3)\n",
    "hData_Sig.SetMarkerSize(1)\n",
    "\n",
    "treeIn_VV.Draw(\"mass_lvj_type0_PuppiAK8>>hVV_Sig\",cutString_Signal)\n",
    "treeIn_TTbar.Draw(\"mass_lvj_type0_PuppiAK8>>hTTbar_Sig\",cutString_Signal)\n",
    "treeIn_STop.Draw(\"mass_lvj_type0_PuppiAK8>>hSTop_Sig\",cutString_Signal)\n",
    "\n",
    "# Define the cuts\n",
    "cutString_SideBand_Data   =  \"((type==0||type==1) && (l_pt2<0 && l_pt1>30 && (((type==0)&&(abs(l_eta1)<2.4)) || ((type==1)&&((abs(l_eta1)<2.5)&&!(abs(l_eta1)>1.4442 && abs(l_eta1)<1.566))))) && (((type==0)&&(pfMET_Corr>50)) || ((type==1)&&(pfMET_Corr>80))) && ((ungroomed_PuppiAK8_jet_pt>200)&&(abs(ungroomed_PuppiAK8_jet_eta)<2.4)&&(PuppiAK8_jet_tau2tau1<0.55)) && (nBTagJet_loose==0) && (vbf_maxpt_jj_m>800) && (abs(vbf_maxpt_j2_eta-vbf_maxpt_j1_eta)>4.0) && ((vbf_maxpt_j1_pt>30) && (vbf_maxpt_j2_pt>30)) && ((((PuppiAK8_jet_mass_so>40) && (PuppiAK8_jet_mass_so<65)) || ((PuppiAK8_jet_mass_so>125) && (PuppiAK8_jet_mass_so<150)))) && (mass_lvj_type0_PuppiAK8>600) && ((abs(ZeppenfeldWL_type0)/abs(vbf_maxpt_j2_eta-vbf_maxpt_j1_eta))<0.3) && ((abs(ZeppenfeldWH)/abs(vbf_maxpt_j2_eta-vbf_maxpt_j1_eta))<0.3) && (BosonCentrality_type0>1.0))\"\n",
    "\n",
    "cutString_SigData         =  \"((type==0||type==1) && (l_pt2<0 && l_pt1>30 && (((type==0)&&(abs(l_eta1)<2.4)) || ((type==1)&&((abs(l_eta1)<2.5)&&!(abs(l_eta1)>1.4442 && abs(l_eta1)<1.566))))) && (((type==0)&&(pfMET_Corr>50)) || ((type==1)&&(pfMET_Corr>80))) && ((ungroomed_PuppiAK8_jet_pt>200)&&(abs(ungroomed_PuppiAK8_jet_eta)<2.4)&&(PuppiAK8_jet_tau2tau1<0.55)) && (nBTagJet_loose==0) && (vbf_maxpt_jj_m>800) && (abs(vbf_maxpt_j2_eta-vbf_maxpt_j1_eta)>4.0) && ((vbf_maxpt_j1_pt>30) && (vbf_maxpt_j2_pt>30)) && ((((PuppiAK8_jet_mass_so>105) && (PuppiAK8_jet_mass_so<125)))) && (mass_lvj_type0_PuppiAK8>600) && ((abs(ZeppenfeldWL_type0)/abs(vbf_maxpt_j2_eta-vbf_maxpt_j1_eta))<0.3) && ((abs(ZeppenfeldWH)/abs(vbf_maxpt_j2_eta-vbf_maxpt_j1_eta))<0.3) && (BosonCentrality_type0>1.0))\"\n",
    "\n",
    "\n",
    "treeIn_Data.Draw(\"mass_lvj_type0_PuppiAK8>>hData_Sig\",cutString_SigData)"
   ]
  },
  {
   "cell_type": "code",
   "execution_count": null,
   "metadata": {
    "collapsed": true
   },
   "outputs": [],
   "source": [
    "# 4 bins\n",
    "leg = r.TLegend(0.45,0.95,.95,0.75)\n",
    "\n",
    "stack = r.THStack()\n",
    "\n",
    "stack.Add(hSTop_Sig,\"F\")\n",
    "hAdd = hSTop_Sig.Clone(\"hAdd\")\n",
    "\n",
    "stack.Add(hTTbar_Sig,\"F\")\n",
    "hAdd.Add(hTTbar_Sig)\n",
    "\n",
    "stack.Add(hVV_Sig,\"F\")\n",
    "hAdd.Add(hVV_Sig)\n",
    "\n",
    "stack.Add(hModel_Sig_new,\"F\")\n",
    "hAdd.Add(hModel_Sig_new)\n",
    "\n",
    "#stack.Add(newHist,\"F\")\n",
    "\n",
    "leg.AddEntry(hSTop_Sig,\"STop\")\n",
    "leg.AddEntry(hTTbar_Sig,\"TTbar\")\n",
    "leg.AddEntry(hVV_Sig,\"Diboson\")\n",
    "leg.AddEntry(hModel_Sig_new,\"Wjets\")\n",
    "#leg.AddEntry(hModel_Sig,\"Wjets\")\n",
    "leg.AddEntry(hData_Sig,\"Data\")\n",
    "\n",
    "\n",
    "\n",
    "#stack.SetMinimum(0.001)\n",
    "#stack.SetMaximum(20.0)\n",
    "stack.SetMaximum(100.0)\n",
    "\n",
    "stack.Draw(\"hist\")\n",
    "hData_Sig.Draw(\"same hist\")\n",
    "leg.Draw()"
   ]
  },
  {
   "cell_type": "raw",
   "metadata": {
    "collapsed": false
   },
   "source": [
    "# 38 bins\n",
    "leg = r.TLegend(0.45,0.95,.95,0.75)\n",
    "\n",
    "stack = r.THStack()\n",
    "\n",
    "stack.Add(hSTop_Sig,\"F\")\n",
    "hAdd = hSTop_Sig.Clone(\"hAdd\")\n",
    "\n",
    "stack.Add(hTTbar_Sig,\"F\")\n",
    "hAdd.Add(hTTbar_Sig)\n",
    "\n",
    "stack.Add(hVV_Sig,\"F\")\n",
    "hAdd.Add(hVV_Sig)\n",
    "\n",
    "stack.Add(hModel_Sig,\"F\")\n",
    "hAdd.Add(hModel_Sig)\n",
    "\n",
    "#stack.Add(newHist,\"F\")\n",
    "\n",
    "leg.AddEntry(hSTop_Sig,\"STop\")\n",
    "leg.AddEntry(hTTbar_Sig,\"TTbar\")\n",
    "leg.AddEntry(hVV_Sig,\"Diboson\")\n",
    "leg.AddEntry(hModel_Sig,\"Wjets\")\n",
    "#leg.AddEntry(hModel_Sig,\"Wjets\")\n",
    "leg.AddEntry(hData_Sig,\"Data\")\n",
    "\n",
    "\n",
    "stack.SetMaximum(20.0)\n",
    "\n",
    "stack.Draw(\"hist\")\n",
    "hData_Sig.Draw(\"same hist\")\n",
    "leg.Draw()"
   ]
  },
  {
   "cell_type": "code",
   "execution_count": null,
   "metadata": {
    "collapsed": false
   },
   "outputs": [],
   "source": [
    "c1,p1,p2 = createCanvasPads()\n",
    "\n",
    "hRatio = createRatio(hData_Sig,hAdd, \"M_{ww}\", 1)\n",
    "\n",
    "p1.cd()\n",
    "hData_Sig.Sumw2()\n",
    "stack.Draw(\"hist\")\n",
    "hData_Sig.Draw(\"same\")\n",
    "p2.cd()\n",
    "#hRatio.SetMaximum(2.8)\n",
    "#hRatio.SetMinimum(0.1)\n",
    "hRatio.Draw()\n",
    "line1 = r.TLine(600,0.5,2500,0.5);\n",
    "line1.SetLineColor(1);\n",
    "line1.SetLineStyle(2);\n",
    "line1.Draw();\n",
    "line2 = r.TLine(600,1,2500,1);\n",
    "line2.SetLineColor(1);\n",
    "line2.SetLineStyle(2);\n",
    "line2.Draw();\n",
    "line3 = r.TLine(600,1.5,2500,1.5);\n",
    "line3.SetLineColor(1);\n",
    "line3.SetLineStyle(2);\n",
    "line3.Draw();\n",
    "c1.Draw()"
   ]
  },
  {
   "cell_type": "code",
   "execution_count": null,
   "metadata": {
    "collapsed": false
   },
   "outputs": [],
   "source": [
    "print \"Program done....\""
   ]
  },
  {
   "cell_type": "code",
   "execution_count": null,
   "metadata": {
    "collapsed": true
   },
   "outputs": [],
   "source": []
  }
 ],
 "metadata": {
  "kernelspec": {
   "display_name": "Python 2",
   "language": "python",
   "name": "python2"
  },
  "language_info": {
   "codemirror_mode": {
    "name": "ipython",
    "version": 2
   },
   "file_extension": ".py",
   "mimetype": "text/x-python",
   "name": "python",
   "nbconvert_exporter": "python",
   "pygments_lexer": "ipython2",
   "version": "2.7.11"
  }
 },
 "nbformat": 4,
 "nbformat_minor": 2
}
