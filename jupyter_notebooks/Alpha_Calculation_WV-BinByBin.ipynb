{
 "cells": [
  {
   "cell_type": "markdown",
   "metadata": {
    "slideshow": {
     "slide_type": "slide"
    }
   },
   "source": [
    "# Wjet Signal Region Shape Extraction Using Alpha Ratio Method\n",
    "\n",
    "1. Calculate alpha using MC only\n",
    "    1. Ratio of signal to side-band region\n",
    "1. Get 1-sigma up/down alpha shape by varying the fit parameters by 1 sigma.\n",
    "1. Grab corrected W+jet shape and normalization in side-band region from background estimation code.\n",
    "1. Using alpha get the W+jet shape and normalization in signal region\n",
    "1. Also, grab the corrected W+jet shape and its up/down from wjet fit parameters."
   ]
  },
  {
   "cell_type": "code",
   "execution_count": 1,
   "metadata": {
    "collapsed": false,
    "slideshow": {
     "slide_type": "skip"
    }
   },
   "outputs": [
    {
     "data": {
      "application/javascript": [
       "\n",
       "require(['notebook'],\n",
       "  function() {\n",
       "    IPython.CodeCell.config_defaults.highlight_modes['magic_text/x-c++src'] = {'reg':[/^%%cpp/]};\n",
       "    console.log(\"JupyROOT - %%cpp magic configured\");\n",
       "  }\n",
       ");\n"
      ]
     },
     "metadata": {},
     "output_type": "display_data"
    },
    {
     "name": "stdout",
     "output_type": "stream",
     "text": [
      "Welcome to JupyROOT 6.08/05\n"
     ]
    },
    {
     "data": {
      "text/plain": [
       "<ROOT.TStyle object (\"tdrStyle\") at 0x48cff20>"
      ]
     },
     "execution_count": 1,
     "metadata": {},
     "output_type": "execute_result"
    }
   ],
   "source": [
    "import ROOT as r\n",
    "\n",
    "# To surpress unwanted messages\n",
    "msgservice = r.RooMsgService.instance()\n",
    "msgservice.setGlobalKillBelow(r.RooFit.FATAL)\n",
    "\n",
    "import CMS_lumi, tdrstyle\n",
    "\n",
    "tdrstyle.setTDRStyle()"
   ]
  },
  {
   "cell_type": "code",
   "execution_count": 2,
   "metadata": {
    "collapsed": false,
    "scrolled": true,
    "slideshow": {
     "slide_type": "skip"
    }
   },
   "outputs": [
    {
     "ename": "ReferenceError",
     "evalue": "attempt to access a null-pointer",
     "output_type": "error",
     "traceback": [
      "\u001b[0;31m\u001b[0m",
      "\u001b[0;31mReferenceError\u001b[0mTraceback (most recent call last)",
      "\u001b[0;32m<ipython-input-2-7fdbb318554a>\u001b[0m in \u001b[0;36m<module>\u001b[0;34m()\u001b[0m\n\u001b[1;32m      1\u001b[0m \u001b[0mfin\u001b[0m \u001b[0;34m=\u001b[0m \u001b[0mr\u001b[0m\u001b[0;34m.\u001b[0m\u001b[0mTFile\u001b[0m\u001b[0;34m.\u001b[0m\u001b[0mOpen\u001b[0m\u001b[0;34m(\u001b[0m\u001b[0;34m\"root://cmseos.fnal.gov//store/user/rasharma/SecondStep/WWTree_CommonNtuple_For1and2Lepton_2018_04_06_09h22/HaddedFiles/Hadds_for_BkgEstimation/WWTree_VJets.root\"\u001b[0m\u001b[0;34m)\u001b[0m\u001b[0;34m\u001b[0m\u001b[0m\n\u001b[1;32m      2\u001b[0m \u001b[0;34m\u001b[0m\u001b[0m\n\u001b[0;32m----> 3\u001b[0;31m \u001b[0mtreeIn\u001b[0m \u001b[0;34m=\u001b[0m \u001b[0mfin\u001b[0m\u001b[0;34m.\u001b[0m\u001b[0mGet\u001b[0m\u001b[0;34m(\u001b[0m\u001b[0;34m\"otree\"\u001b[0m\u001b[0;34m)\u001b[0m\u001b[0;34m\u001b[0m\u001b[0m\n\u001b[0m\u001b[1;32m      4\u001b[0m \u001b[0;34m\u001b[0m\u001b[0m\n\u001b[1;32m      5\u001b[0m \u001b[0;31m# Define the cuts\u001b[0m\u001b[0;34m\u001b[0m\u001b[0;34m\u001b[0m\u001b[0m\n",
      "\u001b[0;31mReferenceError\u001b[0m: attempt to access a null-pointer"
     ]
    },
    {
     "name": "stderr",
     "output_type": "stream",
     "text": [
      "Error in <TNetXNGFile::Open>: [FATAL] Connection error\n"
     ]
    }
   ],
   "source": [
    "fin = r.TFile.Open(\"root://cmseos.fnal.gov//store/user/rasharma/SecondStep/WWTree_CommonNtuple_For1and2Lepton_2018_04_06_09h22/HaddedFiles/Hadds_for_BkgEstimation/WWTree_VJets.root\")\n",
    "\n",
    "treeIn = fin.Get(\"otree\")\n",
    "\n",
    "# Define the cuts\n",
    "cutString_SideBand       =  \"wSampleWeight*35867.06*btag0Wgt*genWeight*trig_eff_Weight*id_eff_Weight*pu_Weight*((type==0||type==1) && (l_pt2<0 && l_pt1>30 && (((type==0)&&(abs(l_eta1)<2.4)) || ((type==1)&&((abs(l_eta1)<2.5)&&!(abs(l_eta1)>1.4442 && abs(l_eta1)<1.566))))) && (((type==0)&&(pfMET_Corr>50)) || ((type==1)&&(pfMET_Corr>80))) && ((ungroomed_PuppiAK8_jet_pt>200)&&(abs(ungroomed_PuppiAK8_jet_eta)<2.4)&&(PuppiAK8_jet_tau2tau1<0.55)) && (nBTagJet_loose==0) && (vbf_maxpt_jj_m>800) && (abs(vbf_maxpt_j2_eta-vbf_maxpt_j1_eta)>4.0) && ((vbf_maxpt_j1_pt>30) && (vbf_maxpt_j2_pt>30)) && (((PuppiAK8_jet_mass_so_corr>40)&&(PuppiAK8_jet_mass_so_corr<65)) || ((PuppiAK8_jet_mass_so_corr>105)&&(PuppiAK8_jet_mass_so_corr<150))) && (mass_lvj_type0_PuppiAK8>600) && ((abs(ZeppenfeldWL_type0)/abs(vbf_maxpt_j2_eta-vbf_maxpt_j1_eta))<0.3) && ((abs(ZeppenfeldWH)/abs(vbf_maxpt_j2_eta-vbf_maxpt_j1_eta))<0.3) && (BosonCentrality_type0>1.0))\"\n",
    "\n",
    "cutString_Signal         =  \"wSampleWeight*35867.06*btag0Wgt*genWeight*trig_eff_Weight*id_eff_Weight*pu_Weight*((type==0||type==1) && (l_pt2<0 && l_pt1>30 && (((type==0)&&(abs(l_eta1)<2.4)) || ((type==1)&&((abs(l_eta1)<2.5)&&!(abs(l_eta1)>1.4442 && abs(l_eta1)<1.566))))) && (((type==0)&&(pfMET_Corr>50)) || ((type==1)&&(pfMET_Corr>80))) && ((ungroomed_PuppiAK8_jet_pt>200)&&(abs(ungroomed_PuppiAK8_jet_eta)<2.4)&&(PuppiAK8_jet_tau2tau1<0.55)) && (nBTagJet_loose==0) && (vbf_maxpt_jj_m>800) && (abs(vbf_maxpt_j2_eta-vbf_maxpt_j1_eta)>4.0) && ((vbf_maxpt_j1_pt>30) && (vbf_maxpt_j2_pt>30)) && ((PuppiAK8_jet_mass_so_corr>65) &&(PuppiAK8_jet_mass_so_corr<105)) && (mass_lvj_type0_PuppiAK8>600) && ((abs(ZeppenfeldWL_type0)/abs(vbf_maxpt_j2_eta-vbf_maxpt_j1_eta))<0.3) && ((abs(ZeppenfeldWH)/abs(vbf_maxpt_j2_eta-vbf_maxpt_j1_eta))<0.3) && (BosonCentrality_type0>1.0))\""
   ]
  },
  {
   "cell_type": "markdown",
   "metadata": {
    "slideshow": {
     "slide_type": "skip"
    }
   },
   "source": [
    "## Get W+jet histogram in signal, as well as side band region"
   ]
  },
  {
   "cell_type": "code",
   "execution_count": null,
   "metadata": {
    "collapsed": false,
    "slideshow": {
     "slide_type": "skip"
    }
   },
   "outputs": [],
   "source": [
    "hSignal_4bin = r.TH1D(\"hSignal_4bin\",\"\",4,600,2500)\n",
    "hSignal_4bin.SetMarkerColor(1)\n",
    "hSignal_4bin.SetLineColor(1)\n",
    "hSignal_4bin.SetLineWidth(3)\n",
    "hSignal_4bin.SetMarkerSize(1)\n",
    "\n",
    "hSignal_15bin = r.TH1D(\"hSignal_15bin\",\"\",15,600,2500)\n",
    "hSignal_15bin.SetMarkerColor(1)\n",
    "hSignal_15bin.SetLineColor(1)\n",
    "hSignal_15bin.SetLineWidth(3)\n",
    "hSignal_15bin.SetMarkerSize(1)\n",
    "\n",
    "hSignal_38bin = r.TH1D(\"hSignal_38bin\",\"\",38,600,2500)\n",
    "hSignal_38bin.SetMarkerColor(1)\n",
    "hSignal_38bin.SetLineColor(1)\n",
    "hSignal_38bin.SetLineWidth(3)\n",
    "hSignal_38bin.SetMarkerSize(1)\n",
    "\n",
    "hSideBand_15bin = r.TH1D(\"hSideBand_15bin\",\"\",15,600,2500)\n",
    "hSideBand_15bin.SetMarkerColor(2)\n",
    "hSideBand_15bin.SetLineColor(2)\n",
    "hSideBand_15bin.SetLineWidth(3)\n",
    "hSideBand_15bin.SetMarkerSize(1)\n",
    "\n",
    "hSideBand_38bin = r.TH1D(\"hSideBand_38bin\",\"\",38,600,2500)\n",
    "hSideBand_38bin.SetMarkerColor(2)\n",
    "hSideBand_38bin.SetLineColor(2)\n",
    "hSideBand_38bin.SetLineWidth(3)\n",
    "hSideBand_38bin.SetMarkerSize(1)\n",
    "\n",
    "treeIn.Draw(\"mass_lvj_type0_PuppiAK8>>hSignal_4bin\",cutString_Signal)\n",
    "treeIn.Draw(\"mass_lvj_type0_PuppiAK8>>hSignal_15bin\",cutString_Signal)\n",
    "treeIn.Draw(\"mass_lvj_type0_PuppiAK8>>hSignal_38bin\",cutString_Signal)\n",
    "\n",
    "treeIn.Draw(\"mass_lvj_type0_PuppiAK8>>hSideBand_15bin\",cutString_SideBand)\n",
    "treeIn.Draw(\"mass_lvj_type0_PuppiAK8>>hSideBand_38bin\",cutString_SideBand)"
   ]
  },
  {
   "cell_type": "markdown",
   "metadata": {},
   "source": [
    "### Plot the Wjet histogram in signal region and side-band region"
   ]
  },
  {
   "cell_type": "code",
   "execution_count": null,
   "metadata": {
    "collapsed": false
   },
   "outputs": [],
   "source": [
    "leg = r.TLegend(0.45,0.95,.95,0.75)\n",
    "\n",
    "leg.AddEntry(hSignal_38bin,\"signal region (MC)\")\n",
    "leg.AddEntry(hSideBand_38bin,\"SideBand Region (MC)\")\n",
    "\n",
    "\n",
    "c1 = r.TCanvas(\"c1\", \"canvas\", 1000, 600)\n",
    "c1.SetLogy()\n",
    "c1.Divide(2,1)\n",
    "c1.cd(1)\n",
    "r.gPad.SetLogy()\n",
    "hSignal_38bin.SetTitle(\"Log axis\")\n",
    "hSignal_38bin.Draw()\n",
    "hSideBand_38bin.Draw(\"same\")\n",
    "leg.Draw()\n",
    "c1.cd(2)\n",
    "hSignal_38bin.SetTitle(\"Linear axis\")\n",
    "hSignal_38bin.Draw()\n",
    "hSideBand_38bin.Draw(\"same\")\n",
    "leg.Draw()\n",
    "\n",
    "c1.Draw()"
   ]
  },
  {
   "cell_type": "markdown",
   "metadata": {
    "slideshow": {
     "slide_type": "slide"
    }
   },
   "source": [
    "# Part-I\n",
    "\n",
    "## Calculate alpha \n",
    "\n",
    "> by dividing W+jets MC in signal and side-band region\n",
    "\n",
    "\n",
    "> fit the alpha"
   ]
  },
  {
   "cell_type": "code",
   "execution_count": null,
   "metadata": {
    "collapsed": false,
    "scrolled": false,
    "slideshow": {
     "slide_type": "slide"
    }
   },
   "outputs": [],
   "source": [
    "try: \n",
    "    Alpha.Delete();\n",
    "except: \n",
    "    print \"Alpha does not exists\";\n",
    "    \n",
    "Alpha =  r.TH1D(\"Alpha\",\"\",38,600,2500)\n",
    "Alpha = hSignal_38bin.Clone()\n",
    "Alpha.Divide(hSideBand_38bin)\n",
    "c1 = r.TCanvas(\"c1\", \"canvas\", 800, 600)\n",
    "Alpha.GetXaxis().SetTitle(\"mWW (GeV)\")\n",
    "Alpha.GetYaxis().SetTitle(\"alpha (Signal/Side-band)\")\n",
    "Alpha.SetMaximum(1.8)\n",
    "Alpha.SetMinimum(-0.2)\n",
    "Alpha.Draw()\n",
    "c1.Draw()"
   ]
  },
  {
   "cell_type": "markdown",
   "metadata": {
    "slideshow": {
     "slide_type": "slide"
    }
   },
   "source": [
    "# Get corrected W+jet in sideband region after fit to data (From Background Estimation Code)\n",
    "\n",
    "This histogram is saved in ExoVV fitter using create histogram method:\n",
    "\n",
    "https://github.com/ram1123/EXOVVFitter/blob/master/g1_exo_doFit_class_new.py#L1795-L1796\n",
    "\n",
    "But, this histogram was not taking the normalization so I have to scale it with the normalization. ***But, scaling the histogram also scales the errors.***"
   ]
  },
  {
   "cell_type": "code",
   "execution_count": null,
   "metadata": {
    "collapsed": false,
    "scrolled": false
   },
   "outputs": [],
   "source": [
    "leg.Clear()\n",
    "c1.Clear()\n",
    "\n",
    "Wjet_file = r.TFile.Open(\"WWTree_CommonNtuple_For1and2Lepton_2018_04_06_09h22_BothLSBUSB_UpDownVarWjet_WV/wjetmodel_Ex__WJets0_xww__sb_lo_Exp_auto.root\")\n",
    "\n",
    "Wjet_hist = r.TH1F()\n",
    "Wjet_hist = Wjet_file.Get(\"rrv_mass_lvj__rrv_mass_lvj\")\n",
    "Wjet_hist.Scale(264.26)\n",
    "print \"Wjet_hist = \",Wjet_hist.Integral(21,38)\n",
    "print \"hSideBand_38bin = \",hSideBand_38bin.Integral(21,38)\n",
    "#Wjet_hist.SetMaximum(150)\n",
    "Wjet_hist.Draw(\"hist\")\n",
    "hSideBand_38bin.Draw(\"same\")\n",
    "leg.AddEntry(Wjet_hist,\"SideBand Region (Corr)\")\n",
    "leg.AddEntry(hSideBand_38bin,\"SideBand Region (MC)\")\n",
    "leg.Draw()\n",
    "c1.SetLogy()\n",
    "c1.Draw()\n",
    "c1.SaveAs(\"WV_SideBandRegion_Comparison_MC_vs_Corr.png\")\n",
    "c1.SaveAs(\"WV_SideBandRegion_Comparison_MC_vs_Corr.pdf\")"
   ]
  },
  {
   "cell_type": "markdown",
   "metadata": {
    "slideshow": {
     "slide_type": "slide"
    }
   },
   "source": [
    "# Multiplication by Alpha to get Signal Region W+jets obtained from data."
   ]
  },
  {
   "cell_type": "code",
   "execution_count": null,
   "metadata": {
    "collapsed": false,
    "slideshow": {
     "slide_type": "slide"
    }
   },
   "outputs": [],
   "source": [
    "c1.Clear()\n",
    "leg = r.TLegend(0.65,0.95,.95,0.76)\n",
    "\n",
    "\n",
    "hModel_Sig = r.TH1F(\"hModel_Sig\",\"\",38,600,2500)\n",
    "hModel_Sig.Sumw2()\n",
    "hModel_Sig.SetMarkerColor(2)\n",
    "hModel_Sig.SetLineColor(2)\n",
    "hModel_Sig.SetLineWidth(3)\n",
    "hModel_Sig.SetMarkerSize(1)\n",
    "\n",
    "for i in range(1,39):\n",
    "    hModel_Sig.SetBinContent(i,Wjet_hist.GetBinContent(i)*Alpha.GetBinContent(i))\n",
    "    hModel_Sig.SetBinError(i,Alpha.GetBinError(i))\n",
    "\n",
    "leg.AddEntry(hModel_Sig,\"V+jet SR (Alpha * Wjet SB)\")\n",
    "\n",
    "#hModel_Sig.SaveAs(\"WVjet_Corr_AlphaShape_Nominal_38bins.root\")\n",
    "\n",
    "\n",
    "\n",
    "\n",
    "\n",
    "#hModel_Sig_Down.SaveAs(\"WVjet_Corr_AlphaShape_Down_38bins.root\")\n",
    "\n",
    "\n",
    "\n",
    "\n",
    "#hModel_Sig\n",
    "hSignal_38bin.Draw()\n",
    "hModel_Sig.Sumw2()\n",
    "hModel_Sig.Draw(\"same\")\n",
    "\n",
    "\n",
    "leg.AddEntry(hSignal_4bin,\"V+jet SR (MC)\")\n",
    "\n",
    "\n",
    "leg.Draw()\n",
    "\n",
    "print \"Wjet yield = \", hModel_Sig.Integral()\n",
    "\n",
    "print \"Bin 0 content = \",hModel_Sig.GetBinContent(1)\n",
    "print \"Bin 2 content = \",hModel_Sig.GetBinContent(2)\n",
    "print \"Bin 3 content = \",hModel_Sig.GetBinContent(3)\n",
    "print \"Bin 4 content = \",hModel_Sig.GetBinContent(4)\n",
    "print \"*\"*20\n",
    "print \"MC bin contents: \\n\"\n",
    "print \"Bin 0 content = \",hSignal_4bin.GetBinContent(1)\n",
    "print \"Bin 2 content = \",hSignal_4bin.GetBinContent(2)\n",
    "print \"Bin 3 content = \",hSignal_4bin.GetBinContent(3)\n",
    "print \"Bin 4 content = \",hSignal_4bin.GetBinContent(4)\n",
    "c1.SetLogy(0)\n",
    "c1.Draw()\n",
    "c1.SaveAs(\"WV_SignalRegion_Wjet_UpDown_BecauseOfAlpha.png\")\n",
    "c1.SaveAs(\"WV_SignalRegion_Wjet_UpDown_BecauseOfAlpha.pdf\")"
   ]
  },
  {
   "cell_type": "code",
   "execution_count": null,
   "metadata": {
    "collapsed": false
   },
   "outputs": [],
   "source": [
    "c1.SetLogy(1)\n",
    "c1.Draw()"
   ]
  },
  {
   "cell_type": "code",
   "execution_count": null,
   "metadata": {
    "collapsed": false,
    "scrolled": false
   },
   "outputs": [],
   "source": [
    "leg = r.TLegend(0.45,0.95,.95,0.75)\n",
    "\n",
    "hModel_Sig_new = r.TH1F(\"hModel_Sig_new\",\"\",4,600,2500)\n",
    "count = 1\n",
    "bin = [0]*5\n",
    "for i in range(1,39):\n",
    "    if i<36:\n",
    "        if i%9==0:\n",
    "            count+=1\n",
    "    #print i,count,hModel_Sig.GetBinContent(i)\n",
    "    bin[count] += hModel_Sig.GetBinContent(i)\n",
    "\n",
    "hModel_Sig_new.SetBinContent(1,bin[1])\n",
    "hModel_Sig_new.SetBinContent(2,bin[2])\n",
    "hModel_Sig_new.SetBinContent(3,bin[3])\n",
    "hModel_Sig_new.SetBinContent(4,bin[4])\n",
    "\n",
    "hModel_Sig_new.SetMarkerColor(1)\n",
    "hModel_Sig_new.SetLineColor(1)\n",
    "hModel_Sig_new.SetLineWidth(3)\n",
    "hModel_Sig_new.SetMarkerSize(1)\n",
    "\n",
    "leg.AddEntry(hModel_Sig_new,\"V+jet SR (Alpha, Nominal)\")\n",
    "hModel_Sig_new.SaveAs(\"WVjet_Corr_AlphaShape_Nominal_4bins.root\")\n",
    "\n",
    "#########################################################\n",
    "hModel_Sig_up_new = r.TH1F(\"hModel_Sig_up_new\",\"\",4,600,2500)\n",
    "count = 1\n",
    "bin = [0]*5\n",
    "for i in range(1,39):\n",
    "    if i<36:\n",
    "        if i%9==0:\n",
    "            count+=1\n",
    "    #print i,count,hModel_Sig_up.GetBinContent(i)\n",
    "    bin[count] += hModel_Sig_up.GetBinContent(i)\n",
    "\n",
    "hModel_Sig_up_new.SetBinContent(1,bin[1])\n",
    "hModel_Sig_up_new.SetBinContent(2,bin[2])\n",
    "hModel_Sig_up_new.SetBinContent(3,bin[3])\n",
    "hModel_Sig_up_new.SetBinContent(4,bin[4])\n",
    "\n",
    "hModel_Sig_up_new.SetMarkerColor(2)\n",
    "hModel_Sig_up_new.SetLineColor(2)\n",
    "hModel_Sig_up_new.SetLineWidth(3)\n",
    "hModel_Sig_up_new.SetMarkerSize(1)\n",
    "\n",
    "leg.AddEntry(hModel_Sig_up_new,\"V+jet SR (Alpha, Up)\")\n",
    "\n",
    "    \n",
    "hModel_Sig_up_new.SaveAs(\"WVjet_Corr_AlphaShape_Up_4bins.root\")\n",
    "\n",
    "#########################################################\n",
    "hModel_Sig_Down_new = r.TH1F(\"hModel_Sig_Down_new\",\"\",4,600,2500)\n",
    "count = 1\n",
    "bin = [0]*5\n",
    "for i in range(1,39):\n",
    "    if i<36:\n",
    "        if i%9==0:\n",
    "            count+=1\n",
    "    #print i,count,hModel_Sig_Down.GetBinContent(i)\n",
    "    bin[count] += hModel_Sig_Down.GetBinContent(i)\n",
    "\n",
    "hModel_Sig_Down_new.SetBinContent(1,bin[1])\n",
    "hModel_Sig_Down_new.SetBinContent(2,bin[2])\n",
    "hModel_Sig_Down_new.SetBinContent(3,bin[3])\n",
    "hModel_Sig_Down_new.SetBinContent(4,bin[4])\n",
    "\n",
    "hModel_Sig_Down_new.SetMarkerColor(3)\n",
    "hModel_Sig_Down_new.SetLineColor(3)\n",
    "hModel_Sig_Down_new.SetLineWidth(3)\n",
    "hModel_Sig_Down_new.SetMarkerSize(1)\n",
    "\n",
    "leg.AddEntry(hModel_Sig_Down_new,\"V+jet SR (Alpha, Down)\")\n",
    "\n",
    "hModel_Sig_Down_new.SaveAs(\"WVjet_Corr_AlphaShape_Down_4bins.root\")\n",
    "\n",
    "c1.Clear()\n",
    "hModel_Sig_new.Draw()\n",
    "hModel_Sig_up_new.Draw(\"same\")\n",
    "hModel_Sig_Down_new.Draw(\"same\")\n",
    "leg.Draw()\n",
    "c1.Draw()\n",
    "c1.SaveAs(\"WV_SignalRegion_Wjet_UpDown_BecauseOfAlpha_4bins.png\")\n",
    "c1.SaveAs(\"WV_SignalRegion_Wjet_UpDown_BecauseOfAlpha_4bins.pdf\")"
   ]
  },
  {
   "cell_type": "code",
   "execution_count": null,
   "metadata": {
    "collapsed": false
   },
   "outputs": [],
   "source": [
    "c1.Clear()\n",
    "fin_Wjet_MC = r.TFile.Open(\"root://cmseos.fnal.gov//store/user/rasharma/SecondStep/WWTree_CommonNtuple_For1and2Lepton_2018_04_06_09h22/HaddedFiles/Hadds_for_BkgEstimation/WWTree_VJets.root\")\n",
    "fin_VV = r.TFile.Open(\"root://cmseos.fnal.gov//store/user/rasharma/SecondStep/WWTree_CommonNtuple_For1and2Lepton_2018_04_06_09h22/HaddedFiles/Hadds_for_BkgEstimation/WWTree_VV.root\")\n",
    "fin_TTbar = r.TFile.Open(\"root://cmseos.fnal.gov//store/user/rasharma/SecondStep/WWTree_CommonNtuple_For1and2Lepton_2018_04_06_09h22/HaddedFiles/Hadds_for_BkgEstimation/WWTree_TTbar.root\")\n",
    "fin_STop = r.TFile.Open(\"root://cmseos.fnal.gov//store/user/rasharma/SecondStep/WWTree_CommonNtuple_For1and2Lepton_2018_04_06_09h22/HaddedFiles/Hadds_for_BkgEstimation/WWTree_STop.root\")\n",
    "fin_Data = r.TFile.Open(\"root://cmseos.fnal.gov//store/user/rasharma/SecondStep/WWTree_CommonNtuple_For1and2Lepton_2018_04_06_09h22/HaddedFiles/Hadds_for_BkgEstimation/WWTree_data_golden.root\")\n",
    "\n",
    "treeIn_Wjet_MC = fin_Wjet_MC.Get(\"otree\")\n",
    "treeIn_VV = fin_VV.Get(\"otree\")\n",
    "treeIn_TTbar = fin_TTbar.Get(\"otree\")\n",
    "treeIn_STop = fin_STop.Get(\"otree\")\n",
    "treeIn_Data = fin_Data.Get(\"otree\")"
   ]
  },
  {
   "cell_type": "markdown",
   "metadata": {},
   "source": [
    "# Data/MC with 38 bins"
   ]
  },
  {
   "cell_type": "code",
   "execution_count": null,
   "metadata": {
    "collapsed": false
   },
   "outputs": [],
   "source": [
    "# For 38 bins\n",
    "hModel_Sig.SetMarkerColor(r.TColor.GetColor(222,90,106))\n",
    "hModel_Sig.SetLineColor(r.TColor.GetColor(222,90,106))\n",
    "hModel_Sig.SetFillColor(r.TColor.GetColor(222,90,106))\n",
    "hModel_Sig.SetLineWidth(3)\n",
    "hModel_Sig.SetMarkerSize(1)\n",
    "\n",
    "hWjets_MC = r.TH1D(\"hWjets_MC\",\"\",38,600,2500)\n",
    "hWjets_MC.SetMarkerColor(r.TColor.GetColor(250,202,255))\n",
    "hWjets_MC.SetLineColor(r.TColor.GetColor(250,202,255))\n",
    "hWjets_MC.SetFillColor(r.TColor.GetColor(250,202,255))\n",
    "hWjets_MC.SetLineWidth(3)\n",
    "hWjets_MC.SetMarkerSize(1)\n",
    "\n",
    "hVV = r.TH1D(\"hVV\",\"\",38,600,2500)\n",
    "hVV.SetMarkerColor(r.TColor.GetColor(250,202,255))\n",
    "hVV.SetLineColor(r.TColor.GetColor(250,202,255))\n",
    "hVV.SetFillColor(r.TColor.GetColor(250,202,255))\n",
    "hVV.SetLineWidth(3)\n",
    "hVV.SetMarkerSize(1)\n",
    "\n",
    "hTTbar = r.TH1D(\"hTTbar\",\"\",38,600,2500)\n",
    "hTTbar.SetMarkerColor(r.TColor.GetColor(155,152,204))\n",
    "hTTbar.SetLineColor(r.TColor.GetColor(155,152,204))\n",
    "hTTbar.SetFillColor(r.TColor.GetColor(155,152,204))\n",
    "hTTbar.SetLineWidth(3)\n",
    "hTTbar.SetMarkerSize(1)\n",
    "\n",
    "hSTop = r.TH1D(\"hSTop\",\"\",38,600,2500)\n",
    "hSTop.SetMarkerColor(r.TColor.GetColor(0,84,159))\n",
    "hSTop.SetLineColor(r.TColor.GetColor(0,84,159))\n",
    "hSTop.SetFillColor(r.TColor.GetColor(0,84,159))\n",
    "hSTop.SetLineWidth(3)\n",
    "hSTop.SetMarkerSize(1)\n",
    "\n",
    "hData = r.TH1D(\"hData\",\"\",38,600,2500)\n",
    "hData.SetMarkerColor(1)\n",
    "hData.SetLineColor(1)\n",
    "#hData.SetFillColor(1)\n",
    "hData.SetLineWidth(3)\n",
    "hData.SetMarkerSize(1)\n",
    "\n",
    "treeIn_Wjet_MC.Draw(\"mass_lvj_type0_PuppiAK8>>hWjets_MC\",cutString_SideBand)\n",
    "treeIn_VV.Draw(\"mass_lvj_type0_PuppiAK8>>hVV\",cutString_SideBand)\n",
    "treeIn_TTbar.Draw(\"mass_lvj_type0_PuppiAK8>>hTTbar\",cutString_SideBand)\n",
    "treeIn_STop.Draw(\"mass_lvj_type0_PuppiAK8>>hSTop\",cutString_SideBand)\n",
    "\n",
    "#cutString_SigData =  \"((l_pt2<0) && ((l_pt1>30.) && (abs(l_eta1)<2.5)) && ((ungroomed_PuppiAK8_jet_pt>200)&&(abs(ungroomed_PuppiAK8_jet_eta)<2.4)) && ((vbf_maxpt_j1_pt>30) && (vbf_maxpt_j2_pt>30)) &&  (nBTagJet_loose==0) && (pfMET_Corr>50) && ((PuppiAK8_jet_tau2tau1<0.55)) && ((PuppiAK8_jet_mass_so_corr>55) && (PuppiAK8_jet_mass_so_corr<65)) && (abs(vbf_maxpt_j2_eta-vbf_maxpt_j1_eta)>4.0) && (vbf_maxpt_jj_m>800) && (BosonCentrality_type0>1.0) && (abs(ZeppenfeldWL_type0/vbf_maxpt_jj_Deta)<0.3) && (abs(ZeppenfeldWH/vbf_maxpt_jj_Deta)<0.3) && (mass_lvj_type0>170))\"\n",
    "\n",
    "cutString_SigData_Data =  \"((type==0||type==1) && (l_pt2<0 && l_pt1>30 && (((type==0)&&(abs(l_eta1)<2.4)) || ((type==1)&&((abs(l_eta1)<2.5)&&!(abs(l_eta1)>1.4442 && abs(l_eta1)<1.566))))) && (((type==0)&&(pfMET_Corr>50)) || ((type==1)&&(pfMET_Corr>80))) && ((ungroomed_PuppiAK8_jet_pt>200)&&(abs(ungroomed_PuppiAK8_jet_eta)<2.4)&&(PuppiAK8_jet_tau2tau1<0.55)) && (nBTagJet_loose==0) && (vbf_maxpt_jj_m>800 && vbf_maxpt_jj_m>800 ) && (abs(vbf_maxpt_j2_eta-vbf_maxpt_j1_eta)>4.0) && ((vbf_maxpt_j1_pt>30) && (vbf_maxpt_j2_pt>30)) && ((PuppiAK8_jet_mass_so_corr>65) && (PuppiAK8_jet_mass_so_corr<105)) && (mass_lvj_type0_PuppiAK8>600 && mass_lvj_type0_PuppiAK8>600) && ((abs(ZeppenfeldWL_type0)/abs(vbf_maxpt_j2_eta-vbf_maxpt_j1_eta))<0.3) && ((abs(ZeppenfeldWH)/abs(vbf_maxpt_j2_eta-vbf_maxpt_j1_eta))<0.3) && (BosonCentrality_type0>1.0))\"\n",
    "\n",
    "cutString_SideBand_Data =  \"((type==0||type==1) && (l_pt2<0 && l_pt1>30 && (((type==0)&&(abs(l_eta1)<2.4)) || ((type==1)&&((abs(l_eta1)<2.5)&&!(abs(l_eta1)>1.4442 && abs(l_eta1)<1.566))))) && (((type==0)&&(pfMET_Corr>50)) || ((type==1)&&(pfMET_Corr>80))) && ((ungroomed_PuppiAK8_jet_pt>200)&&(abs(ungroomed_PuppiAK8_jet_eta)<2.4)&&(PuppiAK8_jet_tau2tau1<0.55)) && (nBTagJet_loose==0) && (vbf_maxpt_jj_m>800 && vbf_maxpt_jj_m>800 ) && (abs(vbf_maxpt_j2_eta-vbf_maxpt_j1_eta)>4.0) && ((vbf_maxpt_j1_pt>30) && (vbf_maxpt_j2_pt>30)) && (((PuppiAK8_jet_mass_so_corr>40)&&(PuppiAK8_jet_mass_so_corr<65)) || ((PuppiAK8_jet_mass_so_corr>105)&&(PuppiAK8_jet_mass_so_corr<150))) && (mass_lvj_type0_PuppiAK8>600 && mass_lvj_type0_PuppiAK8>600) && ((abs(ZeppenfeldWL_type0)/abs(vbf_maxpt_j2_eta-vbf_maxpt_j1_eta))<0.3) && ((abs(ZeppenfeldWH)/abs(vbf_maxpt_j2_eta-vbf_maxpt_j1_eta))<0.3) && (BosonCentrality_type0>1.0))\"\n",
    "\n",
    "cutString_Lower_SideBand_Data =  \"((type==0||type==1) && (l_pt2<0 && l_pt1>30 && (((type==0)&&(abs(l_eta1)<2.4)) || ((type==1)&&((abs(l_eta1)<2.5)&&!(abs(l_eta1)>1.4442 && abs(l_eta1)<1.566))))) && (((type==0)&&(pfMET_Corr>50)) || ((type==1)&&(pfMET_Corr>80))) && ((ungroomed_PuppiAK8_jet_pt>200)&&(abs(ungroomed_PuppiAK8_jet_eta)<2.4)&&(PuppiAK8_jet_tau2tau1<0.55)) && (nBTagJet_loose==0) && (vbf_maxpt_jj_m>800 && vbf_maxpt_jj_m>800 ) && (abs(vbf_maxpt_j2_eta-vbf_maxpt_j1_eta)>4.0) && ((vbf_maxpt_j1_pt>30) && (vbf_maxpt_j2_pt>30)) && (((PuppiAK8_jet_mass_so_corr>40)&&(PuppiAK8_jet_mass_so_corr<65))) && (mass_lvj_type0_PuppiAK8>600 && mass_lvj_type0_PuppiAK8>600) && ((abs(ZeppenfeldWL_type0)/abs(vbf_maxpt_j2_eta-vbf_maxpt_j1_eta))<0.3) && ((abs(ZeppenfeldWH)/abs(vbf_maxpt_j2_eta-vbf_maxpt_j1_eta))<0.3) && (BosonCentrality_type0>1.0))\"\n",
    "\n",
    "\n",
    "\n",
    "\n",
    "treeIn_Data.Draw(\"mass_lvj_type0_PuppiAK8>>hData\",cutString_SideBand_Data)"
   ]
  },
  {
   "cell_type": "code",
   "execution_count": null,
   "metadata": {
    "collapsed": false
   },
   "outputs": [],
   "source": [
    "leg = r.TLegend(0.55,0.95,.90,0.72)\n",
    "\n",
    "stack = r.THStack()\n",
    "\n",
    "stack.Add(hSTop,\"F\")\n",
    "stack.Add(hTTbar,\"F\")\n",
    "stack.Add(hVV,\"F\")\n",
    "stack.Add(hModel_Sig,\"F\")\n",
    "#stack.Add(hModel_Sig_new,\"F\")\n",
    "\n",
    "leg.AddEntry(hSTop,\"STop\")\n",
    "leg.AddEntry(hTTbar,\"TTbar\")\n",
    "leg.AddEntry(hVV,\"Diboson\")\n",
    "leg.AddEntry(hModel_Sig,\"Vjets\")\n",
    "#leg.AddEntry(hModel_Sig_new,\"Wjets\")\n",
    "leg.AddEntry(hData,\"Data\")\n",
    "\n",
    "\n",
    "\n",
    "#stack.SetMinimum(0.001)\n",
    "stack.SetMaximum(90.0)\n",
    "#stack.SetMaximum(400.0)\n",
    "\n",
    "#stack.Draw(\"hist\")\n",
    "#hData.Draw(\"same hist\")\n",
    "#leg.Draw()\n",
    "#c1.Draw()"
   ]
  },
  {
   "cell_type": "code",
   "execution_count": null,
   "metadata": {
    "collapsed": false
   },
   "outputs": [],
   "source": [
    "c1 = r.TCanvas(\"c1\", \"canvas\", 800, 600)\n",
    "c1.SetLogy(0)\n",
    "CMS_lumi.lumi_13TeV = \"35.9 fb^{-1}\"\n",
    "CMS_lumi.writeExtraText = 1\n",
    "CMS_lumi.extraText = \"Preliminary\"\n",
    "\n",
    "CMS_lumi.relPosX = 0.05\n",
    "\n",
    "rp = r.TRatioPlot(stack, hData);\n",
    "#c.SetTicks(0, 1);\n",
    "rp.Draw();\n",
    "rp.GetLowerRefYaxis().SetTitle(\"MC/Data\");\n",
    "rp.GetUpperRefYaxis().SetTitle(\"Events/(50 GeV)\");\n",
    "rp.GetLowerRefXaxis().SetTitle(\"M_{ww}\");\n",
    "rp.GetLowerRefGraph().SetMinimum(0.1);\n",
    "rp.GetLowerRefGraph().SetMaximum(2.8);\n",
    "\n",
    "rp.SetLeftMargin(0.14);\n",
    "# rp.SetRightMargin(0.05);\n",
    "# rp.SetUpTopMargin(0.05);\n",
    "# rp.SetSeparationMargin(0.005);\n",
    "# rp.SetLowBottomMargin(0.46);\n",
    "\n",
    "# rp.Draw(\"errasymfhidelow\");\n",
    "# rp.SetSplitFraction(0.10);\n",
    "# rp.GetLowYaxis().SetNdivisions(4);\n",
    "# rp.GetLowerRefYaxis().SetTitle(\"Pred./Data\");\n",
    "# rp.GetLowerRefGraph().SetMinimum(1.5);\n",
    "# rp.GetLowerRefGraph().SetMaximum(0.5);\n",
    "# rp.GetLowerRefYaxis().SetRangeUser(0.5, 1.5);\n",
    "    \n",
    "    \n",
    "rp.SetSeparationMargin(0.0)\n",
    "leg.Draw()\n",
    "\n",
    "CMS_lumi.CMS_lumi(c1, 4, 11)\n",
    "c1.Update();\n",
    "c1.Draw()\n",
    "c1.SaveAs(\"WV_Cross_Check_DataMC_WithWjet_Corr_38bins.png\")\n",
    "c1.SaveAs(\"WV_Cross_Check_DataMC_WithWjet_Corr_38bins.pdf\")"
   ]
  },
  {
   "cell_type": "markdown",
   "metadata": {},
   "source": [
    "# Data/MC with 4 bins"
   ]
  },
  {
   "cell_type": "code",
   "execution_count": null,
   "metadata": {
    "collapsed": false
   },
   "outputs": [],
   "source": [
    "c1.Clear()\n",
    "fin_Wjet_MC = r.TFile.Open(\"root://cmseos.fnal.gov//store/user/rasharma/SecondStep/WWTree_CommonNtuple_For1and2Lepton_2018_04_06_09h22/HaddedFiles/Hadds_for_BkgEstimation/WWTree_VJets.root\")\n",
    "fin_VV = r.TFile.Open(\"root://cmseos.fnal.gov//store/user/rasharma/SecondStep/WWTree_CommonNtuple_For1and2Lepton_2018_04_06_09h22/HaddedFiles/Hadds_for_BkgEstimation/WWTree_VV.root\")\n",
    "fin_TTbar = r.TFile.Open(\"root://cmseos.fnal.gov//store/user/rasharma/SecondStep/WWTree_CommonNtuple_For1and2Lepton_2018_04_06_09h22/HaddedFiles/Hadds_for_BkgEstimation/WWTree_TTbar.root\")\n",
    "fin_STop = r.TFile.Open(\"root://cmseos.fnal.gov//store/user/rasharma/SecondStep/WWTree_CommonNtuple_For1and2Lepton_2018_04_06_09h22/HaddedFiles/Hadds_for_BkgEstimation/WWTree_STop.root\")\n",
    "fin_Data = r.TFile.Open(\"root://cmseos.fnal.gov//store/user/rasharma/SecondStep/WWTree_CommonNtuple_For1and2Lepton_2018_04_06_09h22/HaddedFiles/Hadds_for_BkgEstimation/WWTree_data_golden.root\")\n",
    "\n",
    "treeIn_Wjet_MC = fin_Wjet_MC.Get(\"otree\")\n",
    "treeIn_VV = fin_VV.Get(\"otree\")\n",
    "treeIn_TTbar = fin_TTbar.Get(\"otree\")\n",
    "treeIn_STop = fin_STop.Get(\"otree\")\n",
    "treeIn_Data = fin_Data.Get(\"otree\")"
   ]
  },
  {
   "cell_type": "code",
   "execution_count": null,
   "metadata": {
    "collapsed": false
   },
   "outputs": [],
   "source": [
    "hModel_Sig_new.SetMarkerColor(r.TColor.GetColor(222,90,106))\n",
    "hModel_Sig_new.SetLineColor(r.TColor.GetColor(222,90,106))\n",
    "hModel_Sig_new.SetFillColor(r.TColor.GetColor(222,90,106))\n",
    "hModel_Sig_new.SetLineWidth(3)\n",
    "hModel_Sig_new.SetMarkerSize(1)\n",
    "\n",
    "hWjets_MC = r.TH1D(\"hWjets_MC\",\"\",4,600,2500)\n",
    "hWjets_MC.SetMarkerColor(r.TColor.GetColor(250,202,255))\n",
    "hWjets_MC.SetLineColor(r.TColor.GetColor(250,202,255))\n",
    "hWjets_MC.SetFillColor(r.TColor.GetColor(250,202,255))\n",
    "hWjets_MC.SetLineWidth(3)\n",
    "hWjets_MC.SetMarkerSize(1)\n",
    "\n",
    "hVV = r.TH1D(\"hVV\",\"\",4,600,2500)\n",
    "hVV.SetMarkerColor(r.TColor.GetColor(250,202,255))\n",
    "hVV.SetLineColor(r.TColor.GetColor(250,202,255))\n",
    "hVV.SetFillColor(r.TColor.GetColor(250,202,255))\n",
    "hVV.SetLineWidth(3)\n",
    "hVV.SetMarkerSize(1)\n",
    "\n",
    "hTTbar = r.TH1D(\"hTTbar\",\"\",4,600,2500)\n",
    "hTTbar.SetMarkerColor(r.TColor.GetColor(155,152,204))\n",
    "hTTbar.SetLineColor(r.TColor.GetColor(155,152,204))\n",
    "hTTbar.SetFillColor(r.TColor.GetColor(155,152,204))\n",
    "hTTbar.SetLineWidth(3)\n",
    "hTTbar.SetMarkerSize(1)\n",
    "\n",
    "hSTop = r.TH1D(\"hSTop\",\"\",4,600,2500)\n",
    "hSTop.SetMarkerColor(r.TColor.GetColor(0,84,159))\n",
    "hSTop.SetLineColor(r.TColor.GetColor(0,84,159))\n",
    "hSTop.SetFillColor(r.TColor.GetColor(0,84,159))\n",
    "hSTop.SetLineWidth(3)\n",
    "hSTop.SetMarkerSize(1)\n",
    "\n",
    "hData = r.TH1D(\"hData\",\"\",4,600,2500)\n",
    "hData.SetMarkerColor(1)\n",
    "hData.SetLineColor(1)\n",
    "#hData.SetFillColor(1)\n",
    "hData.SetLineWidth(3)\n",
    "hData.SetMarkerSize(1)\n",
    "\n",
    "treeIn_Wjet_MC.Draw(\"mass_lvj_type0_PuppiAK8>>hWjets_MC\",cutString_SideBand)\n",
    "treeIn_VV.Draw(\"mass_lvj_type0_PuppiAK8>>hVV\",cutString_SideBand)\n",
    "treeIn_TTbar.Draw(\"mass_lvj_type0_PuppiAK8>>hTTbar\",cutString_SideBand)\n",
    "treeIn_STop.Draw(\"mass_lvj_type0_PuppiAK8>>hSTop\",cutString_SideBand)\n",
    "\n",
    "#cutString_SigData =  \"((l_pt2<0) && ((l_pt1>30.) && (abs(l_eta1)<2.5)) && ((ungroomed_PuppiAK8_jet_pt>200)&&(abs(ungroomed_PuppiAK8_jet_eta)<2.4)) && ((vbf_maxpt_j1_pt>30) && (vbf_maxpt_j2_pt>30)) &&  (nBTagJet_loose==0) && (pfMET_Corr>50) && ((PuppiAK8_jet_tau2tau1<0.55)) && ((PuppiAK8_jet_mass_so_corr>55) && (PuppiAK8_jet_mass_so_corr<65)) && (abs(vbf_maxpt_j2_eta-vbf_maxpt_j1_eta)>4.0) && (vbf_maxpt_jj_m>800) && (BosonCentrality_type0>1.0) && (abs(ZeppenfeldWL_type0/vbf_maxpt_jj_Deta)<0.3) && (abs(ZeppenfeldWH/vbf_maxpt_jj_Deta)<0.3) && (mass_lvj_type0>170))\"\n",
    "\n",
    "cutString_SigData_Data   =  \"((type==0||type==1) && (l_pt2<0 && l_pt1>30 && (((type==0)&&(abs(l_eta1)<2.4)) || ((type==1)&&((abs(l_eta1)<2.5)&&!(abs(l_eta1)>1.4442 && abs(l_eta1)<1.566))))) && (((type==0)&&(pfMET_Corr>50)) || ((type==1)&&(pfMET_Corr>80))) && ((ungroomed_PuppiAK8_jet_pt>200)&&(abs(ungroomed_PuppiAK8_jet_eta)<2.4)&&(PuppiAK8_jet_tau2tau1<0.55)) && (nBTagJet_loose==0) && (vbf_maxpt_jj_m>800 && vbf_maxpt_jj_m>800 ) && (abs(vbf_maxpt_j2_eta-vbf_maxpt_j1_eta)>4.0) && ((vbf_maxpt_j1_pt>30) && (vbf_maxpt_j2_pt>30)) && ((PuppiAK8_jet_mass_so_corr>65) && (PuppiAK8_jet_mass_so_corr<105)) && (mass_lvj_type0_PuppiAK8>600 && mass_lvj_type0_PuppiAK8>600) && ((abs(ZeppenfeldWL_type0)/abs(vbf_maxpt_j2_eta-vbf_maxpt_j1_eta))<0.3) && ((abs(ZeppenfeldWH)/abs(vbf_maxpt_j2_eta-vbf_maxpt_j1_eta))<0.3) && (BosonCentrality_type0>1.0))\"\n",
    "\n",
    "cutString_SideBand_Data  =  \"((type==0||type==1) && (l_pt2<0 && l_pt1>30 && (((type==0)&&(abs(l_eta1)<2.4)) || ((type==1)&&((abs(l_eta1)<2.5)&&!(abs(l_eta1)>1.4442 && abs(l_eta1)<1.566))))) && (((type==0)&&(pfMET_Corr>50)) || ((type==1)&&(pfMET_Corr>80))) && ((ungroomed_PuppiAK8_jet_pt>200)&&(abs(ungroomed_PuppiAK8_jet_eta)<2.4)&&(PuppiAK8_jet_tau2tau1<0.55)) && (nBTagJet_loose==0) && (vbf_maxpt_jj_m>800 && vbf_maxpt_jj_m>800 ) && (abs(vbf_maxpt_j2_eta-vbf_maxpt_j1_eta)>4.0) && ((vbf_maxpt_j1_pt>30) && (vbf_maxpt_j2_pt>30)) && (((PuppiAK8_jet_mass_so_corr>40)&&(PuppiAK8_jet_mass_so_corr<65)) || ((PuppiAK8_jet_mass_so_corr>105)&&(PuppiAK8_jet_mass_so_corr<150))) && (mass_lvj_type0_PuppiAK8>600 && mass_lvj_type0_PuppiAK8>600) && ((abs(ZeppenfeldWL_type0)/abs(vbf_maxpt_j2_eta-vbf_maxpt_j1_eta))<0.3) && ((abs(ZeppenfeldWH)/abs(vbf_maxpt_j2_eta-vbf_maxpt_j1_eta))<0.3) && (BosonCentrality_type0>1.0))\"\n",
    "\n",
    "\n",
    "\n",
    "treeIn_Data.Draw(\"mass_lvj_type0_PuppiAK8>>hData\",cutString_SideBand_Data)"
   ]
  },
  {
   "cell_type": "code",
   "execution_count": null,
   "metadata": {
    "collapsed": false
   },
   "outputs": [],
   "source": [
    "leg.Clear();\n",
    "stack = r.THStack()\n",
    "\n",
    "stack.Add(hSTop,\"F\")\n",
    "stack.Add(hTTbar,\"F\")\n",
    "stack.Add(hVV,\"F\")\n",
    "#stack.Add(hModel_Sig,\"F\")\n",
    "stack.Add(hModel_Sig_new,\"F\")\n",
    "\n",
    "leg.AddEntry(hSTop,\"STop\")\n",
    "leg.AddEntry(hTTbar,\"TTbar\")\n",
    "leg.AddEntry(hVV,\"Diboson\")\n",
    "#leg.AddEntry(hModel_Sig,\"Wjets\")\n",
    "leg.AddEntry(hModel_Sig_new,\"Wjets\")\n",
    "leg.AddEntry(hData,\"Data\")\n",
    "\n",
    "#stack.SetMinimum(0.001)\n",
    "#stack.SetMaximum(90.0)\n",
    "stack.SetMaximum(400.0)\n",
    "\n",
    "stack.Draw(\"hist\")\n",
    "hData.Draw(\"same hist\")\n",
    "leg.Draw()\n",
    "\n",
    "\n",
    "#c1.Draw()"
   ]
  },
  {
   "cell_type": "code",
   "execution_count": null,
   "metadata": {
    "collapsed": false
   },
   "outputs": [],
   "source": [
    "c1 = r.TCanvas(\"c1\", \"canvas\", 800, 600)\n",
    "c1.SetLogy(0)\n",
    "CMS_lumi.lumi_13TeV = \"35.9 fb^{-1}\"\n",
    "CMS_lumi.writeExtraText = 1\n",
    "CMS_lumi.extraText = \"Preliminary\"\n",
    "\n",
    "CMS_lumi.relPosX = 0.05\n",
    "\n",
    "rp = r.TRatioPlot(stack, hData);\n",
    "#c.SetTicks(0, 1);\n",
    "rp.Draw();\n",
    "rp.GetLowerRefYaxis().SetTitle(\"MC/Data\");\n",
    "rp.GetUpperRefYaxis().SetTitle(\"Events/(50 GeV)\");\n",
    "rp.GetLowerRefXaxis().SetTitle(\"M_{ww}\");\n",
    "rp.GetLowerRefGraph().SetMinimum(0.1);\n",
    "rp.GetLowerRefGraph().SetMaximum(2.8);\n",
    "\n",
    "rp.SetLeftMargin(0.14);\n",
    "# rp.SetRightMargin(0.05);\n",
    "# rp.SetUpTopMargin(0.05);\n",
    "# rp.SetSeparationMargin(0.005);\n",
    "# rp.SetLowBottomMargin(0.46);\n",
    "\n",
    "# rp.Draw(\"errasymfhidelow\");\n",
    "# rp.SetSplitFraction(0.10);\n",
    "# rp.GetLowYaxis().SetNdivisions(4);\n",
    "# rp.GetLowerRefYaxis().SetTitle(\"Pred./Data\");\n",
    "# rp.GetLowerRefGraph().SetMinimum(1.5);\n",
    "# rp.GetLowerRefGraph().SetMaximum(0.5);\n",
    "# rp.GetLowerRefYaxis().SetRangeUser(0.5, 1.5);\n",
    "    \n",
    "    \n",
    "rp.SetSeparationMargin(0.0)\n",
    "\n",
    "CMS_lumi.CMS_lumi(c1, 4, 11)\n",
    "c1.Update();\n",
    "c1.Draw()\n",
    "c1.SaveAs(\"WV_Cross_Check_DataMC_WithWjet_Corr_4bins.png\")\n",
    "c1.SaveAs(\"WV_Cross_Check_DataMC_WithWjet_Corr_4bins.pdf\")"
   ]
  },
  {
   "cell_type": "code",
   "execution_count": null,
   "metadata": {
    "collapsed": false,
    "scrolled": false
   },
   "outputs": [],
   "source": [
    "c1.SetLogy(1)\n",
    "c1.Draw()"
   ]
  },
  {
   "cell_type": "code",
   "execution_count": null,
   "metadata": {
    "collapsed": false
   },
   "outputs": [],
   "source": [
    "print \"Program is done...\""
   ]
  }
 ],
 "metadata": {
  "kernelspec": {
   "display_name": "Python 2",
   "language": "python",
   "name": "python2"
  },
  "language_info": {
   "codemirror_mode": {
    "name": "ipython",
    "version": 2
   },
   "file_extension": ".py",
   "mimetype": "text/x-python",
   "name": "python",
   "nbconvert_exporter": "python",
   "pygments_lexer": "ipython2",
   "version": "2.7.11"
  }
 },
 "nbformat": 4,
 "nbformat_minor": 2
}
