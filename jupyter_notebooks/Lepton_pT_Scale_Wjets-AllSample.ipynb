{
 "cells": [
  {
   "cell_type": "markdown",
   "metadata": {
    "slideshow": {
     "slide_type": "slide"
    }
   },
   "source": [
    "# Lepton $p_T$ Scale"
   ]
  },
  {
   "cell_type": "code",
   "execution_count": 1,
   "metadata": {
    "collapsed": false,
    "slideshow": {
     "slide_type": "skip"
    }
   },
   "outputs": [
    {
     "data": {
      "application/javascript": [
       "\n",
       "require(['notebook'],\n",
       "  function() {\n",
       "    IPython.CodeCell.config_defaults.highlight_modes['magic_text/x-c++src'] = {'reg':[/^%%cpp/]};\n",
       "    console.log(\"JupyROOT - %%cpp magic configured\");\n",
       "  }\n",
       ");\n"
      ]
     },
     "metadata": {},
     "output_type": "display_data"
    },
    {
     "name": "stdout",
     "output_type": "stream",
     "text": [
      "Welcome to JupyROOT 6.08/05\n"
     ]
    },
    {
     "data": {
      "text/plain": [
       "<ROOT.TStyle object (\"tdrStyle\") at 0x5d09950>"
      ]
     },
     "execution_count": 1,
     "metadata": {},
     "output_type": "execute_result"
    }
   ],
   "source": [
    "import ROOT as r\n",
    "\n",
    "# To surpress unwanted messages\n",
    "msgservice = r.RooMsgService.instance()\n",
    "msgservice.setGlobalKillBelow(r.RooFit.FATAL)\n",
    "\n",
    "import CMS_lumi, tdrstyle\n",
    "\n",
    "tdrstyle.setTDRStyle()"
   ]
  },
  {
   "cell_type": "code",
   "execution_count": 2,
   "metadata": {
    "collapsed": true,
    "slideshow": {
     "slide_type": "skip"
    }
   },
   "outputs": [],
   "source": [
    "Diboson_fin = r.TFile.Open(\"root://cmseos.fnal.gov//store/user/rasharma/SecondStep/WWTree_CommonNtuple_For1and2Lepton_2018_05_15_04h15/HaddedFiles/Hadds_for_BkgEstimation/WWTree_VV.root\")\n",
    "\n",
    "Diboson_fin_sys = r.TFile.Open(\"root://cmseos.fnal.gov//store/user/rasharma/SecondStep/WWTree_CommonNtuple_For1and2Lepton_MuonPtScale_2018_06_11_10h58/HaddedFiles/Hadds_for_BkgEstimation/WWTree_VV.root\")\n",
    "\n",
    "\n",
    "Vjets_fin = r.TFile.Open(\"root://cmseos.fnal.gov//store/user/rasharma/SecondStep/WWTree_CommonNtuple_For1and2Lepton_2018_05_15_04h15/HaddedFiles/Hadds_for_BkgEstimation/WWTree_VJets.root\")\n",
    "\n",
    "Vjets_fin_sys = r.TFile.Open(\"root://cmseos.fnal.gov//store/user/rasharma/SecondStep/WWTree_CommonNtuple_For1and2Lepton_MuonPtScale_2018_06_11_10h58/HaddedFiles/Hadds_for_BkgEstimation/WWTree_VJets.root\")\n",
    "\n",
    "\n",
    "TTbar_fin = r.TFile.Open(\"root://cmseos.fnal.gov//store/user/rasharma/SecondStep/WWTree_CommonNtuple_For1and2Lepton_2018_05_15_04h15/HaddedFiles/Hadds_for_BkgEstimation/WWTree_TTbar.root\")\n",
    "\n",
    "TTbar_fin_sys = r.TFile.Open(\"root://cmseos.fnal.gov//store/user/rasharma/SecondStep/WWTree_CommonNtuple_For1and2Lepton_MuonPtScale_2018_06_11_10h58/HaddedFiles/Hadds_for_BkgEstimation/WWTree_TTbar.root\")\n",
    "\n",
    "\n",
    "STop_fin = r.TFile.Open(\"root://cmseos.fnal.gov//store/user/rasharma/SecondStep/WWTree_CommonNtuple_For1and2Lepton_2018_05_15_04h15/HaddedFiles/Hadds_for_BkgEstimation/WWTree_STop.root\")\n",
    "\n",
    "STop_fin_sys = r.TFile.Open(\"root://cmseos.fnal.gov//store/user/rasharma/SecondStep/WWTree_CommonNtuple_For1and2Lepton_MuonPtScale_2018_06_11_10h58/HaddedFiles/Hadds_for_BkgEstimation/WWTree_STop.root\")\n",
    "\n",
    "\n",
    "SMSignal_fin = r.TFile.Open(\"root://cmseos.fnal.gov//store/user/rasharma/SecondStep/WWTree_CommonNtuple_For1and2Lepton_2018_05_15_04h15/HaddedFiles/Hadds_for_BkgEstimation/WWTree_Signal_SM.root\")\n",
    "\n",
    "SMSignal_fin_sys = r.TFile.Open(\"root://cmseos.fnal.gov//store/user/rasharma/SecondStep/WWTree_CommonNtuple_For1and2Lepton_MuonPtScale_2018_06_11_10h58/HaddedFiles/Hadds_for_BkgEstimation/WWTree_Signal_SM.root\")\n",
    "\n",
    "Diboson_treeIn = Diboson_fin.Get(\"otree\")\n",
    "Diboson_treeIn_sys = Diboson_fin_sys.Get(\"otree\")\n",
    "\n",
    "Vjets_treeIn = Vjets_fin.Get(\"otree\")\n",
    "Vjets_treeIn_sys = Vjets_fin_sys.Get(\"otree\")\n",
    "\n",
    "TTbar_treeIn = TTbar_fin.Get(\"otree\")\n",
    "TTbar_treeIn_sys = TTbar_fin_sys.Get(\"otree\")\n",
    "\n",
    "STop_treeIn = STop_fin.Get(\"otree\")\n",
    "STop_treeIn_sys = STop_fin_sys.Get(\"otree\")\n",
    "\n",
    "SMSignal_treeIn = SMSignal_fin.Get(\"otree\")\n",
    "SMSignal_treeIn_sys = SMSignal_fin_sys.Get(\"otree\")\n",
    "\n",
    "# Define the cuts\n",
    "cutString_Signal         =  \"wSampleWeight*35867.06*btag0Wgt*genWeight*trig_eff_Weight*id_eff_Weight*pu_Weight*((type==0||type==1) && (l_pt2<0 && l_pt1>30 && (((type==0)&&(abs(l_eta1)<2.4)) || ((type==1)&&((abs(l_eta1)<2.5)&&!(abs(l_eta1)>1.4442 && abs(l_eta1)<1.566))))) && (((type==0)&&(pfMET_Corr>50)) || ((type==1)&&(pfMET_Corr>80))) && ((ungroomed_PuppiAK8_jet_pt>200)&&(abs(ungroomed_PuppiAK8_jet_eta)<2.4)&&(PuppiAK8_jet_tau2tau1<0.55)) && (nBTagJet_loose==0) && (vbf_maxpt_jj_m>800) && (abs(vbf_maxpt_j2_eta-vbf_maxpt_j1_eta)>4.0) && ((vbf_maxpt_j1_pt>30) && (vbf_maxpt_j2_pt>30)) && ((PuppiAK8_jet_mass_so_corr>65) &&(PuppiAK8_jet_mass_so_corr<105)) && (mass_lvj_type0_PuppiAK8>600) && ((abs(ZeppenfeldWL_type0)/abs(vbf_maxpt_j2_eta-vbf_maxpt_j1_eta))<0.3) && ((abs(ZeppenfeldWH)/abs(vbf_maxpt_j2_eta-vbf_maxpt_j1_eta))<0.3) && (BosonCentrality_type0>1.0))\"\n",
    "\n",
    "cutString_Signal_LEP_Up         =  \"wSampleWeight*35867.06*btag0Wgt*genWeight*trig_eff_Weight*id_eff_Weight*pu_Weight*((type==0||type==1) && (l_pt2<0 && l_pt1_Up>30 && (((type==0)&&(abs(l_eta1)<2.4)) || ((type==1)&&((abs(l_eta1)<2.5)&&!(abs(l_eta1)>1.4442 && abs(l_eta1)<1.566))))) && (((type==0)&&(pfMET_Corr>50)) || ((type==1)&&(pfMET_Corr>80))) && ((ungroomed_PuppiAK8_jet_pt>200)&&(abs(ungroomed_PuppiAK8_jet_eta)<2.4)&&(PuppiAK8_jet_tau2tau1<0.55)) && (nBTagJet_loose==0) && (vbf_maxpt_jj_m>800) && (abs(vbf_maxpt_j2_eta-vbf_maxpt_j1_eta)>4.0) && ((vbf_maxpt_j1_pt>30) && (vbf_maxpt_j2_pt>30)) && ((PuppiAK8_jet_mass_so_corr>65) &&(PuppiAK8_jet_mass_so_corr<105)) && (mass_lvj_type0_PuppiAK8_LEP_Up>600) && ((abs(ZeppenfeldWL_type0_LEP_Up)/abs(vbf_maxpt_j2_eta-vbf_maxpt_j1_eta))<0.3) && ((abs(ZeppenfeldWH)/abs(vbf_maxpt_j2_eta-vbf_maxpt_j1_eta))<0.3) && (BosonCentrality_type0_LEP_Up>1.0))\"\n",
    "\n",
    "cutString_Signal_LEP_Down         =  \"wSampleWeight*35867.06*btag0Wgt*genWeight*trig_eff_Weight*id_eff_Weight*pu_Weight*((type==0||type==1) && (l_pt2_Down<0 && l_pt1_Down>30 && (((type==0)&&(abs(l_eta1)<2.4)) || ((type==1)&&((abs(l_eta1)<2.5)&&!(abs(l_eta1)>1.4442 && abs(l_eta1)<1.566))))) && (((type==0)&&(pfMET_Corr>50)) || ((type==1)&&(pfMET_Corr>80))) && ((ungroomed_PuppiAK8_jet_pt>200)&&(abs(ungroomed_PuppiAK8_jet_eta)<2.4)&&(PuppiAK8_jet_tau2tau1<0.55)) && (nBTagJet_loose==0) && (vbf_maxpt_jj_m>800) && (abs(vbf_maxpt_j2_eta-vbf_maxpt_j1_eta)>4.0) && ((vbf_maxpt_j1_pt>30) && (vbf_maxpt_j2_pt>30)) && ((PuppiAK8_jet_mass_so_corr>65) &&(PuppiAK8_jet_mass_so_corr<105)) && (mass_lvj_type0_PuppiAK8_LEP_Down>600) && ((abs(ZeppenfeldWL_type0_LEP_Down)/abs(vbf_maxpt_j2_eta-vbf_maxpt_j1_eta))<0.3) && ((abs(ZeppenfeldWH)/abs(vbf_maxpt_j2_eta-vbf_maxpt_j1_eta))<0.3) && (BosonCentrality_type0_LEP_Down>1.0))\""
   ]
  },
  {
   "cell_type": "raw",
   "metadata": {
    "collapsed": true
   },
   "source": [
    "fin = r.TFile.Open(\"root://cmseos.fnal.gov//store/user/rasharma/SecondStep/WWTree_CommonNtuple_For1and2Lepton_2018_05_15_04h15/HaddedFiles/Hadds_for_BkgEstimation/WWTree_Signal_aQGC.root\")\n",
    "\n",
    "fin_sys = r.TFile.Open(\"root://cmseos.fnal.gov//store/user/rasharma/SecondStep/WWTree_CommonNtuple_For1and2Lepton_MuonPtScale_2018_06_11_10h58/HaddedFiles/Hadds_for_BkgEstimation/WWTree_Signal_aQGC.root\")\n",
    "\n",
    "\n",
    "treeIn = fin.Get(\"otree\")\n",
    "\n",
    "treeIn_sys = fin_sys.Get(\"otree\")\n",
    "\n",
    "\n",
    "# Define the cuts\n",
    "cutString_Signal         =  \"(LHEWeight[1121]/LHEWeight[0])*wSampleWeight*35867.06*btag0Wgt*genWeight*trig_eff_Weight*id_eff_Weight*pu_Weight*((type==0||type==1) && (l_pt2<0 && l_pt1>30 && (((type==0)&&(abs(l_eta1)<2.4)) || ((type==1)&&((abs(l_eta1)<2.5)&&!(abs(l_eta1)>1.4442 && abs(l_eta1)<1.566))))) && (((type==0)&&(pfMET_Corr>50)) || ((type==1)&&(pfMET_Corr>80))) && ((ungroomed_PuppiAK8_jet_pt>200)&&(abs(ungroomed_PuppiAK8_jet_eta)<2.4)&&(PuppiAK8_jet_tau2tau1<0.55)) && (nBTagJet_loose==0) && (vbf_maxpt_jj_m>800) && (abs(vbf_maxpt_j2_eta-vbf_maxpt_j1_eta)>4.0) && ((vbf_maxpt_j1_pt>30) && (vbf_maxpt_j2_pt>30)) && ((PuppiAK8_jet_mass_so_corr>65) &&(PuppiAK8_jet_mass_so_corr<105)) && (mass_lvj_type0_PuppiAK8>600) && ((abs(ZeppenfeldWL_type0)/abs(vbf_maxpt_j2_eta-vbf_maxpt_j1_eta))<0.3) && ((abs(ZeppenfeldWH)/abs(vbf_maxpt_j2_eta-vbf_maxpt_j1_eta))<0.3) && (BosonCentrality_type0>1.0))\"\n",
    "\n",
    "\n",
    "cutString_Signal_LEP_Up         =  \"(LHEWeight[1121]/LHEWeight[0])*wSampleWeight*35867.06*btag0Wgt*genWeight*trig_eff_Weight*id_eff_Weight*pu_Weight*((type==0||type==1) && (l_pt2<0 && l_pt1_Up>30 && (((type==0)&&(abs(l_eta1)<2.4)) || ((type==1)&&((abs(l_eta1)<2.5)&&!(abs(l_eta1)>1.4442 && abs(l_eta1)<1.566))))) && (((type==0)&&(pfMET_Corr>50)) || ((type==1)&&(pfMET_Corr>80))) && ((ungroomed_PuppiAK8_jet_pt>200)&&(abs(ungroomed_PuppiAK8_jet_eta)<2.4)&&(PuppiAK8_jet_tau2tau1<0.55)) && (nBTagJet_loose==0) && (vbf_maxpt_jj_m>800) && (abs(vbf_maxpt_j2_eta-vbf_maxpt_j1_eta)>4.0) && ((vbf_maxpt_j1_pt>30) && (vbf_maxpt_j2_pt>30)) && ((PuppiAK8_jet_mass_so_corr>65) &&(PuppiAK8_jet_mass_so_corr<105)) && (mass_lvj_type0_PuppiAK8_LEP_Up>600) && ((abs(ZeppenfeldWL_type0_LEP_Up)/abs(vbf_maxpt_j2_eta-vbf_maxpt_j1_eta))<0.3) && ((abs(ZeppenfeldWH)/abs(vbf_maxpt_j2_eta-vbf_maxpt_j1_eta))<0.3) && (BosonCentrality_type0_LEP_Up>1.0))\"\n",
    "\n",
    "cutString_Signal_LEP_Down         =  \"(LHEWeight[1121]/LHEWeight[0])*wSampleWeight*35867.06*btag0Wgt*genWeight*trig_eff_Weight*id_eff_Weight*pu_Weight*((type==0||type==1) && (l_pt2_Down<0 && l_pt1_Down>30 && (((type==0)&&(abs(l_eta1)<2.4)) || ((type==1)&&((abs(l_eta1)<2.5)&&!(abs(l_eta1)>1.4442 && abs(l_eta1)<1.566))))) && (((type==0)&&(pfMET_Corr>50)) || ((type==1)&&(pfMET_Corr>80))) && ((ungroomed_PuppiAK8_jet_pt>200)&&(abs(ungroomed_PuppiAK8_jet_eta)<2.4)&&(PuppiAK8_jet_tau2tau1<0.55)) && (nBTagJet_loose==0) && (vbf_maxpt_jj_m>800) && (abs(vbf_maxpt_j2_eta-vbf_maxpt_j1_eta)>4.0) && ((vbf_maxpt_j1_pt>30) && (vbf_maxpt_j2_pt>30)) && ((PuppiAK8_jet_mass_so_corr>65) &&(PuppiAK8_jet_mass_so_corr<105)) && (mass_lvj_type0_PuppiAK8_LEP_Down>600) && ((abs(ZeppenfeldWL_type0_LEP_Down)/abs(vbf_maxpt_j2_eta-vbf_maxpt_j1_eta))<0.3) && ((abs(ZeppenfeldWH)/abs(vbf_maxpt_j2_eta-vbf_maxpt_j1_eta))<0.3) && (BosonCentrality_type0_LEP_Down>1.0))\""
   ]
  },
  {
   "cell_type": "markdown",
   "metadata": {},
   "source": [
    "# 1. SM Signal"
   ]
  },
  {
   "cell_type": "code",
   "execution_count": 3,
   "metadata": {
    "collapsed": false,
    "slideshow": {
     "slide_type": "skip"
    }
   },
   "outputs": [
    {
     "data": {
      "text/plain": [
       "1350L"
      ]
     },
     "execution_count": 3,
     "metadata": {},
     "output_type": "execute_result"
    },
    {
     "name": "stderr",
     "output_type": "stream",
     "text": [
      "Info in <TCanvas::MakeDefCanvas>:  created default TCanvas with name c1\n"
     ]
    }
   ],
   "source": [
    "hSignal_4bin = r.TH1D(\"hSignal_4bin\",\"\",4,600,2500)\n",
    "hSignal_4bin.SetMarkerColor(1)\n",
    "hSignal_4bin.SetLineColor(1)\n",
    "hSignal_4bin.SetLineWidth(3)\n",
    "hSignal_4bin.SetMarkerSize(1)\n",
    "\n",
    "hSignal_4bin_up = r.TH1D(\"hSignal_4bin_up\",\"\",4,600,2500)\n",
    "hSignal_4bin_up.SetMarkerColor(2)\n",
    "hSignal_4bin_up.SetLineColor(2)\n",
    "hSignal_4bin_up.SetLineWidth(3)\n",
    "hSignal_4bin_up.SetMarkerSize(1)\n",
    "\n",
    "hSignal_4bin_down = r.TH1D(\"hSignal_4bin_down\",\"\",4,600,2500)\n",
    "hSignal_4bin_down.SetMarkerColor(3)\n",
    "hSignal_4bin_down.SetLineColor(3)\n",
    "hSignal_4bin_down.SetLineWidth(3)\n",
    "hSignal_4bin_down.SetMarkerSize(1)\n",
    "\n",
    "SMSignal_treeIn.Draw(\"mass_lvj_type0_PuppiAK8>>hSignal_4bin\",cutString_Signal)\n",
    "\n",
    "SMSignal_treeIn_sys.Draw(\"mass_lvj_type0_PuppiAK8_LEP_Up>>hSignal_4bin_up\",cutString_Signal_LEP_Up)\n",
    "\n",
    "\n",
    "SMSignal_treeIn_sys.Draw(\"mass_lvj_type0_PuppiAK8_LEP_Down>>hSignal_4bin_down\",cutString_Signal_LEP_Down)\n"
   ]
  },
  {
   "cell_type": "code",
   "execution_count": 4,
   "metadata": {
    "collapsed": false
   },
   "outputs": [
    {
     "name": "stdout",
     "output_type": "stream",
     "text": [
      "YIeld information for SM Signal\n",
      "nominal yield =  20.3344394524\n",
      "up yield =  20.3510588885  ( 0.08 %)\n",
      "Down yield =  20.2811752316  ( 0.26 %)\n"
     ]
    }
   ],
   "source": [
    "a = 100*(hSignal_4bin_up.Integral()-hSignal_4bin.Integral())/hSignal_4bin.Integral()\n",
    "b = 100*(hSignal_4bin.Integral()-hSignal_4bin_down.Integral())/hSignal_4bin.Integral()\n",
    "\n",
    "print \"YIeld information for SM Signal\"\n",
    "print \"nominal yield = \",hSignal_4bin.Integral()\n",
    "print \"up yield = \", hSignal_4bin_up.Integral(), \" (\",str(round(a, 2)),\"%)\"\n",
    "print \"Down yield = \", hSignal_4bin_down.Integral(), \" (\",str(round(b, 2)),\"%)\""
   ]
  },
  {
   "cell_type": "code",
   "execution_count": 5,
   "metadata": {
    "collapsed": false
   },
   "outputs": [
    {
     "name": "stderr",
     "output_type": "stream",
     "text": [
      "Warning in <TCanvas::Constructor>: Deleting canvas with same name: c1\n",
      "Info in <TH1D::SaveAs>: ROOT file WVchannel_LeptonPtScale_SMSignal_Nominal.root has been created\n",
      "Info in <TH1D::SaveAs>: ROOT file WVchannel_LeptonPtScale_SMSignal_Up.root has been created\n",
      "Info in <TH1D::SaveAs>: ROOT file WVchannel_LeptonPtScale_SMSignal_Down.root has been created\n"
     ]
    },
    {
     "data": {
      "image/png": "[encoded data removed]",
      "text/plain": [
       "<IPython.core.display.Image object>"
      ]
     },
     "metadata": {},
     "output_type": "display_data"
    }
   ],
   "source": [
    "c1 = r.TCanvas(\"c1\", \"canvas\", 1000, 600)\n",
    "c1.SetLogy()\n",
    "c1.Divide(2,1)\n",
    "c1.cd(1)\n",
    "r.gPad.SetLogy()\n",
    "hSignal_4bin.Draw()\n",
    "hSignal_4bin_up.Draw(\"same\")\n",
    "hSignal_4bin_down.Draw(\"same\")\n",
    "\n",
    "c1.cd(2)\n",
    "hSignal_4bin.Draw()\n",
    "hSignal_4bin_up.Draw(\"same\")\n",
    "hSignal_4bin_down.Draw(\"same\")\n",
    "\n",
    "c1.Draw()\n",
    "\n",
    "hSignal_4bin.SaveAs(     \"WVchannel_LeptonPtScale_SMSignal_Nominal.root\")\n",
    "hSignal_4bin_up.SaveAs(  \"WVchannel_LeptonPtScale_SMSignal_Up.root\")\n",
    "hSignal_4bin_down.SaveAs(\"WVchannel_LeptonPtScale_SMSignal_Down.root\")"
   ]
  },
  {
   "cell_type": "markdown",
   "metadata": {},
   "source": [
    "# 2. Diboson"
   ]
  },
  {
   "cell_type": "code",
   "execution_count": 6,
   "metadata": {
    "collapsed": false,
    "slideshow": {
     "slide_type": "skip"
    }
   },
   "outputs": [
    {
     "data": {
      "text/plain": [
       "816L"
      ]
     },
     "execution_count": 6,
     "metadata": {},
     "output_type": "execute_result"
    },
    {
     "name": "stderr",
     "output_type": "stream",
     "text": [
      "Warning in <TNetXNGFile::Append>: Replacing existing TH1: hSignal_4bin (Potential memory leak).\n",
      "Warning in <TNetXNGFile::Append>: Replacing existing TH1: hSignal_4bin_up (Potential memory leak).\n",
      "Warning in <TNetXNGFile::Append>: Replacing existing TH1: hSignal_4bin_down (Potential memory leak).\n"
     ]
    }
   ],
   "source": [
    "hSignal_4bin = r.TH1D(\"hSignal_4bin\",\"\",4,600,2500)\n",
    "hSignal_4bin.SetMarkerColor(1)\n",
    "hSignal_4bin.SetLineColor(1)\n",
    "hSignal_4bin.SetLineWidth(3)\n",
    "hSignal_4bin.SetMarkerSize(1)\n",
    "\n",
    "hSignal_4bin_up = r.TH1D(\"hSignal_4bin_up\",\"\",4,600,2500)\n",
    "hSignal_4bin_up.SetMarkerColor(2)\n",
    "hSignal_4bin_up.SetLineColor(2)\n",
    "hSignal_4bin_up.SetLineWidth(3)\n",
    "hSignal_4bin_up.SetMarkerSize(1)\n",
    "\n",
    "hSignal_4bin_down = r.TH1D(\"hSignal_4bin_down\",\"\",4,600,2500)\n",
    "hSignal_4bin_down.SetMarkerColor(3)\n",
    "hSignal_4bin_down.SetLineColor(3)\n",
    "hSignal_4bin_down.SetLineWidth(3)\n",
    "hSignal_4bin_down.SetMarkerSize(1)\n",
    "\n",
    "Diboson_treeIn.Draw(\"mass_lvj_type0_PuppiAK8>>hSignal_4bin\",cutString_Signal)\n",
    "\n",
    "Diboson_treeIn_sys.Draw(\"mass_lvj_type0_PuppiAK8_LEP_Up>>hSignal_4bin_up\",cutString_Signal_LEP_Up)\n",
    "\n",
    "\n",
    "Diboson_treeIn_sys.Draw(\"mass_lvj_type0_PuppiAK8_LEP_Down>>hSignal_4bin_down\",cutString_Signal_LEP_Down)\n"
   ]
  },
  {
   "cell_type": "code",
   "execution_count": 7,
   "metadata": {
    "collapsed": false
   },
   "outputs": [
    {
     "name": "stdout",
     "output_type": "stream",
     "text": [
      "YIeld information for Diboson\n",
      "nominal yield =  39.4487073697\n",
      "up yield =  39.8554535191  ( 1.03 %)\n",
      "Down yield =  38.9777799691  ( 1.19 %)\n"
     ]
    }
   ],
   "source": [
    "a = 100*(hSignal_4bin_up.Integral()-hSignal_4bin.Integral())/hSignal_4bin.Integral()\n",
    "b = 100*(hSignal_4bin.Integral()-hSignal_4bin_down.Integral())/hSignal_4bin.Integral()\n",
    "\n",
    "print \"YIeld information for Diboson\"\n",
    "print \"nominal yield = \",hSignal_4bin.Integral()\n",
    "print \"up yield = \", hSignal_4bin_up.Integral(), \" (\",str(round(a, 2)),\"%)\"\n",
    "print \"Down yield = \", hSignal_4bin_down.Integral(), \" (\",str(round(b, 2)),\"%)\""
   ]
  },
  {
   "cell_type": "code",
   "execution_count": 8,
   "metadata": {
    "collapsed": false
   },
   "outputs": [
    {
     "name": "stderr",
     "output_type": "stream",
     "text": [
      "Warning in <TCanvas::Constructor>: Deleting canvas with same name: c1\n",
      "Info in <TH1D::SaveAs>: ROOT file WVchannel_LeptonPtScale_DiBosons_Nominal.root has been created\n",
      "Info in <TH1D::SaveAs>: ROOT file WVchannel_LeptonPtScale_DiBosons_Up.root has been created\n",
      "Info in <TH1D::SaveAs>: ROOT file WVchannel_LeptonPtScale_DiBosons_Down.root has been created\n"
     ]
    },
    {
     "data": {
      "image/png": "[encoded data removed]",
      "text/plain": [
       "<IPython.core.display.Image object>"
      ]
     },
     "metadata": {},
     "output_type": "display_data"
    }
   ],
   "source": [
    "c1 = r.TCanvas(\"c1\", \"canvas\", 1000, 600)\n",
    "c1.SetLogy()\n",
    "c1.Divide(2,1)\n",
    "c1.cd(1)\n",
    "r.gPad.SetLogy()\n",
    "hSignal_4bin.Draw()\n",
    "hSignal_4bin_up.Draw(\"same\")\n",
    "hSignal_4bin_down.Draw(\"same\")\n",
    "\n",
    "c1.cd(2)\n",
    "hSignal_4bin.Draw()\n",
    "hSignal_4bin_up.Draw(\"same\")\n",
    "hSignal_4bin_down.Draw(\"same\")\n",
    "\n",
    "c1.Draw()\n",
    "\n",
    "hSignal_4bin.SaveAs(     \"WVchannel_LeptonPtScale_DiBosons_Nominal.root\")\n",
    "hSignal_4bin_up.SaveAs(  \"WVchannel_LeptonPtScale_DiBosons_Up.root\")\n",
    "hSignal_4bin_down.SaveAs(\"WVchannel_LeptonPtScale_DiBosons_Down.root\")"
   ]
  },
  {
   "cell_type": "markdown",
   "metadata": {},
   "source": [
    "# 3. TT-bar"
   ]
  },
  {
   "cell_type": "code",
   "execution_count": 9,
   "metadata": {
    "collapsed": false,
    "slideshow": {
     "slide_type": "skip"
    }
   },
   "outputs": [
    {
     "data": {
      "text/plain": [
       "760L"
      ]
     },
     "execution_count": 9,
     "metadata": {},
     "output_type": "execute_result"
    },
    {
     "name": "stderr",
     "output_type": "stream",
     "text": [
      "Warning in <TNetXNGFile::Append>: Replacing existing TH1: hSignal_4bin (Potential memory leak).\n",
      "Warning in <TNetXNGFile::Append>: Replacing existing TH1: hSignal_4bin_up (Potential memory leak).\n",
      "Warning in <TNetXNGFile::Append>: Replacing existing TH1: hSignal_4bin_down (Potential memory leak).\n"
     ]
    }
   ],
   "source": [
    "hSignal_4bin = r.TH1D(\"hSignal_4bin\",\"\",4,600,2500)\n",
    "hSignal_4bin.SetMarkerColor(1)\n",
    "hSignal_4bin.SetLineColor(1)\n",
    "hSignal_4bin.SetLineWidth(3)\n",
    "hSignal_4bin.SetMarkerSize(1)\n",
    "\n",
    "hSignal_4bin_up = r.TH1D(\"hSignal_4bin_up\",\"\",4,600,2500)\n",
    "hSignal_4bin_up.SetMarkerColor(2)\n",
    "hSignal_4bin_up.SetLineColor(2)\n",
    "hSignal_4bin_up.SetLineWidth(3)\n",
    "hSignal_4bin_up.SetMarkerSize(1)\n",
    "\n",
    "hSignal_4bin_down = r.TH1D(\"hSignal_4bin_down\",\"\",4,600,2500)\n",
    "hSignal_4bin_down.SetMarkerColor(3)\n",
    "hSignal_4bin_down.SetLineColor(3)\n",
    "hSignal_4bin_down.SetLineWidth(3)\n",
    "hSignal_4bin_down.SetMarkerSize(1)\n",
    "\n",
    "TTbar_treeIn.Draw(\"mass_lvj_type0_PuppiAK8>>hSignal_4bin\",cutString_Signal)\n",
    "\n",
    "TTbar_treeIn_sys.Draw(\"mass_lvj_type0_PuppiAK8_LEP_Up>>hSignal_4bin_up\",cutString_Signal_LEP_Up)\n",
    "\n",
    "\n",
    "TTbar_treeIn_sys.Draw(\"mass_lvj_type0_PuppiAK8_LEP_Down>>hSignal_4bin_down\",cutString_Signal_LEP_Down)\n"
   ]
  },
  {
   "cell_type": "code",
   "execution_count": 10,
   "metadata": {
    "collapsed": false
   },
   "outputs": [
    {
     "name": "stdout",
     "output_type": "stream",
     "text": [
      "YIeld information for TTBar:\n",
      "nominal yield =  110.588065359\n",
      "up yield =  111.40348197  ( 0.74 %)\n",
      "Down yield =  109.5979534  ( 0.9 %)\n"
     ]
    }
   ],
   "source": [
    "a = 100*(hSignal_4bin_up.Integral()-hSignal_4bin.Integral())/hSignal_4bin.Integral()\n",
    "b = 100*(hSignal_4bin.Integral()-hSignal_4bin_down.Integral())/hSignal_4bin.Integral()\n",
    "\n",
    "print \"YIeld information for TTBar:\"\n",
    "print \"nominal yield = \",hSignal_4bin.Integral()\n",
    "print \"up yield = \", hSignal_4bin_up.Integral(), \" (\",str(round(a, 2)),\"%)\"\n",
    "print \"Down yield = \", hSignal_4bin_down.Integral(), \" (\",str(round(b, 2)),\"%)\""
   ]
  },
  {
   "cell_type": "code",
   "execution_count": 11,
   "metadata": {
    "collapsed": false
   },
   "outputs": [
    {
     "name": "stderr",
     "output_type": "stream",
     "text": [
      "Warning in <TCanvas::Constructor>: Deleting canvas with same name: c1\n",
      "Info in <TH1D::SaveAs>: ROOT file WVchannel_LeptonPtScale_TTbar_Nominal.root has been created\n",
      "Info in <TH1D::SaveAs>: ROOT file WVchannel_LeptonPtScale_TTbar_Up.root has been created\n",
      "Info in <TH1D::SaveAs>: ROOT file WVchannel_LeptonPtScale_TTbar_Down.root has been created\n"
     ]
    },
    {
     "data": {
      "image/png": "[encoded data removed]",
      "text/plain": [
       "<IPython.core.display.Image object>"
      ]
     },
     "metadata": {},
     "output_type": "display_data"
    }
   ],
   "source": [
    "c1 = r.TCanvas(\"c1\", \"canvas\", 1000, 600)\n",
    "c1.SetLogy()\n",
    "c1.Divide(2,1)\n",
    "c1.cd(1)\n",
    "r.gPad.SetLogy()\n",
    "hSignal_4bin.Draw()\n",
    "hSignal_4bin_up.Draw(\"same\")\n",
    "hSignal_4bin_down.Draw(\"same\")\n",
    "\n",
    "c1.cd(2)\n",
    "hSignal_4bin.Draw()\n",
    "hSignal_4bin_up.Draw(\"same\")\n",
    "hSignal_4bin_down.Draw(\"same\")\n",
    "\n",
    "c1.Draw()\n",
    "\n",
    "hSignal_4bin.SaveAs(     \"WVchannel_LeptonPtScale_TTbar_Nominal.root\")\n",
    "hSignal_4bin_up.SaveAs(  \"WVchannel_LeptonPtScale_TTbar_Up.root\")\n",
    "hSignal_4bin_down.SaveAs(\"WVchannel_LeptonPtScale_TTbar_Down.root\")"
   ]
  },
  {
   "cell_type": "markdown",
   "metadata": {},
   "source": [
    "# 4. Single-Top"
   ]
  },
  {
   "cell_type": "code",
   "execution_count": 12,
   "metadata": {
    "collapsed": false,
    "slideshow": {
     "slide_type": "skip"
    }
   },
   "outputs": [
    {
     "data": {
      "text/plain": [
       "176L"
      ]
     },
     "execution_count": 12,
     "metadata": {},
     "output_type": "execute_result"
    },
    {
     "name": "stderr",
     "output_type": "stream",
     "text": [
      "Warning in <TNetXNGFile::Append>: Replacing existing TH1: hSignal_4bin (Potential memory leak).\n",
      "Warning in <TNetXNGFile::Append>: Replacing existing TH1: hSignal_4bin_up (Potential memory leak).\n",
      "Warning in <TNetXNGFile::Append>: Replacing existing TH1: hSignal_4bin_down (Potential memory leak).\n"
     ]
    }
   ],
   "source": [
    "hSignal_4bin = r.TH1D(\"hSignal_4bin\",\"\",4,600,2500)\n",
    "hSignal_4bin.SetMarkerColor(1)\n",
    "hSignal_4bin.SetLineColor(1)\n",
    "hSignal_4bin.SetLineWidth(3)\n",
    "hSignal_4bin.SetMarkerSize(1)\n",
    "\n",
    "hSignal_4bin_up = r.TH1D(\"hSignal_4bin_up\",\"\",4,600,2500)\n",
    "hSignal_4bin_up.SetMarkerColor(2)\n",
    "hSignal_4bin_up.SetLineColor(2)\n",
    "hSignal_4bin_up.SetLineWidth(3)\n",
    "hSignal_4bin_up.SetMarkerSize(1)\n",
    "\n",
    "hSignal_4bin_down = r.TH1D(\"hSignal_4bin_down\",\"\",4,600,2500)\n",
    "hSignal_4bin_down.SetMarkerColor(3)\n",
    "hSignal_4bin_down.SetLineColor(3)\n",
    "hSignal_4bin_down.SetLineWidth(3)\n",
    "hSignal_4bin_down.SetMarkerSize(1)\n",
    "\n",
    "STop_treeIn.Draw(\"mass_lvj_type0_PuppiAK8>>hSignal_4bin\",cutString_Signal)\n",
    "\n",
    "STop_treeIn_sys.Draw(\"mass_lvj_type0_PuppiAK8_LEP_Up>>hSignal_4bin_up\",cutString_Signal_LEP_Up)\n",
    "\n",
    "\n",
    "STop_treeIn_sys.Draw(\"mass_lvj_type0_PuppiAK8_LEP_Down>>hSignal_4bin_down\",cutString_Signal_LEP_Down)\n"
   ]
  },
  {
   "cell_type": "code",
   "execution_count": 13,
   "metadata": {
    "collapsed": false
   },
   "outputs": [
    {
     "name": "stdout",
     "output_type": "stream",
     "text": [
      "YIeld information for Single-Top:\n",
      "nominal yield =  25.0640954356\n",
      "up yield =  25.0640954356  ( 0.0 %)\n",
      "Down yield =  24.9049932354  ( 0.63 %)\n"
     ]
    }
   ],
   "source": [
    "a = 100*(hSignal_4bin_up.Integral()-hSignal_4bin.Integral())/hSignal_4bin.Integral()\n",
    "b = 100*(hSignal_4bin.Integral()-hSignal_4bin_down.Integral())/hSignal_4bin.Integral()\n",
    "\n",
    "print \"YIeld information for Single-Top:\"\n",
    "print \"nominal yield = \",hSignal_4bin.Integral()\n",
    "print \"up yield = \", hSignal_4bin_up.Integral(), \" (\",str(round(a, 2)),\"%)\"\n",
    "print \"Down yield = \", hSignal_4bin_down.Integral(), \" (\",str(round(b, 2)),\"%)\""
   ]
  },
  {
   "cell_type": "code",
   "execution_count": 14,
   "metadata": {
    "collapsed": false
   },
   "outputs": [
    {
     "name": "stderr",
     "output_type": "stream",
     "text": [
      "Warning in <TCanvas::Constructor>: Deleting canvas with same name: c1\n",
      "Info in <TH1D::SaveAs>: ROOT file WVchannel_LeptonPtScale_SingleTop_Nominal.root has been created\n",
      "Info in <TH1D::SaveAs>: ROOT file WVchannel_LeptonPtScale_SingleTop_Up.root has been created\n",
      "Info in <TH1D::SaveAs>: ROOT file WVchannel_LeptonPtScale_SingleTop_Down.root has been created\n"
     ]
    },
    {
     "data": {
      "image/png": "[encoded data removed]",
      "text/plain": [
       "<IPython.core.display.Image object>"
      ]
     },
     "metadata": {},
     "output_type": "display_data"
    }
   ],
   "source": [
    "c1 = r.TCanvas(\"c1\", \"canvas\", 1000, 600)\n",
    "c1.SetLogy()\n",
    "c1.Divide(2,1)\n",
    "c1.cd(1)\n",
    "r.gPad.SetLogy()\n",
    "hSignal_4bin.Draw()\n",
    "hSignal_4bin_up.Draw(\"same\")\n",
    "hSignal_4bin_down.Draw(\"same\")\n",
    "\n",
    "c1.cd(2)\n",
    "hSignal_4bin.Draw()\n",
    "hSignal_4bin_up.Draw(\"same\")\n",
    "hSignal_4bin_down.Draw(\"same\")\n",
    "\n",
    "c1.Draw()\n",
    "\n",
    "hSignal_4bin.SaveAs(     \"WVchannel_LeptonPtScale_SingleTop_Nominal.root\")\n",
    "hSignal_4bin_up.SaveAs(  \"WVchannel_LeptonPtScale_SingleTop_Up.root\")\n",
    "hSignal_4bin_down.SaveAs(\"WVchannel_LeptonPtScale_SingleTop_Down.root\")"
   ]
  },
  {
   "cell_type": "markdown",
   "metadata": {},
   "source": [
    "# 5. Vjets"
   ]
  },
  {
   "cell_type": "code",
   "execution_count": 15,
   "metadata": {
    "collapsed": false,
    "slideshow": {
     "slide_type": "skip"
    }
   },
   "outputs": [
    {
     "data": {
      "text/plain": [
       "4140L"
      ]
     },
     "execution_count": 15,
     "metadata": {},
     "output_type": "execute_result"
    },
    {
     "name": "stderr",
     "output_type": "stream",
     "text": [
      "Warning in <TNetXNGFile::Append>: Replacing existing TH1: hSignal_4bin (Potential memory leak).\n",
      "Warning in <TNetXNGFile::Append>: Replacing existing TH1: hSignal_4bin_up (Potential memory leak).\n",
      "Warning in <TNetXNGFile::Append>: Replacing existing TH1: hSignal_4bin_down (Potential memory leak).\n"
     ]
    }
   ],
   "source": [
    "hSignal_4bin = r.TH1D(\"hSignal_4bin\",\"\",4,600,2500)\n",
    "hSignal_4bin.SetMarkerColor(1)\n",
    "hSignal_4bin.SetLineColor(1)\n",
    "hSignal_4bin.SetLineWidth(3)\n",
    "hSignal_4bin.SetMarkerSize(1)\n",
    "\n",
    "hSignal_4bin_up = r.TH1D(\"hSignal_4bin_up\",\"\",4,600,2500)\n",
    "hSignal_4bin_up.SetMarkerColor(2)\n",
    "hSignal_4bin_up.SetLineColor(2)\n",
    "hSignal_4bin_up.SetLineWidth(3)\n",
    "hSignal_4bin_up.SetMarkerSize(1)\n",
    "\n",
    "hSignal_4bin_down = r.TH1D(\"hSignal_4bin_down\",\"\",4,600,2500)\n",
    "hSignal_4bin_down.SetMarkerColor(3)\n",
    "hSignal_4bin_down.SetLineColor(3)\n",
    "hSignal_4bin_down.SetLineWidth(3)\n",
    "hSignal_4bin_down.SetMarkerSize(1)\n",
    "\n",
    "Vjets_treeIn.Draw(\"mass_lvj_type0_PuppiAK8>>hSignal_4bin\",cutString_Signal)\n",
    "\n",
    "Vjets_treeIn_sys.Draw(\"mass_lvj_type0_PuppiAK8_LEP_Up>>hSignal_4bin_up\",cutString_Signal_LEP_Up)\n",
    "\n",
    "\n",
    "Vjets_treeIn_sys.Draw(\"mass_lvj_type0_PuppiAK8_LEP_Down>>hSignal_4bin_down\",cutString_Signal_LEP_Down)\n"
   ]
  },
  {
   "cell_type": "code",
   "execution_count": 16,
   "metadata": {
    "collapsed": false
   },
   "outputs": [
    {
     "name": "stdout",
     "output_type": "stream",
     "text": [
      "YIeld information for Vjets:\n",
      "nominal yield =  206.726705053\n",
      "up yield =  207.824953981  ( 0.53 %)\n",
      "Down yield =  205.127106411  ( 0.77 %)\n"
     ]
    }
   ],
   "source": [
    "a = 100*(hSignal_4bin_up.Integral()-hSignal_4bin.Integral())/hSignal_4bin.Integral()\n",
    "b = 100*(hSignal_4bin.Integral()-hSignal_4bin_down.Integral())/hSignal_4bin.Integral()\n",
    "\n",
    "print \"YIeld information for Vjets:\"\n",
    "print \"nominal yield = \",hSignal_4bin.Integral()\n",
    "print \"up yield = \", hSignal_4bin_up.Integral(), \" (\",str(round(a, 2)),\"%)\"\n",
    "print \"Down yield = \", hSignal_4bin_down.Integral(), \" (\",str(round(b, 2)),\"%)\""
   ]
  },
  {
   "cell_type": "code",
   "execution_count": 17,
   "metadata": {
    "collapsed": false
   },
   "outputs": [
    {
     "name": "stderr",
     "output_type": "stream",
     "text": [
      "Warning in <TCanvas::Constructor>: Deleting canvas with same name: c1\n",
      "Info in <TH1D::SaveAs>: ROOT file WVchannel_LeptonPtScale_Vjets_Nominal.root has been created\n",
      "Info in <TH1D::SaveAs>: ROOT file WVchannel_LeptonPtScale_Vjets_Up.root has been created\n",
      "Info in <TH1D::SaveAs>: ROOT file WVchannel_LeptonPtScale_Vjets_Down.root has been created\n"
     ]
    },
    {
     "data": {
      "image/png": "[encoded data removed]",
      "text/plain": [
       "<IPython.core.display.Image object>"
      ]
     },
     "metadata": {},
     "output_type": "display_data"
    }
   ],
   "source": [
    "c1 = r.TCanvas(\"c1\", \"canvas\", 1000, 600)\n",
    "c1.SetLogy()\n",
    "c1.Divide(2,1)\n",
    "c1.cd(1)\n",
    "r.gPad.SetLogy()\n",
    "hSignal_4bin.Draw()\n",
    "hSignal_4bin_up.Draw(\"same\")\n",
    "hSignal_4bin_down.Draw(\"same\")\n",
    "\n",
    "c1.cd(2)\n",
    "hSignal_4bin.Draw()\n",
    "hSignal_4bin_up.Draw(\"same\")\n",
    "hSignal_4bin_down.Draw(\"same\")\n",
    "\n",
    "c1.Draw()\n",
    "\n",
    "hSignal_4bin.SaveAs(     \"WVchannel_LeptonPtScale_Vjets_Nominal.root\")\n",
    "hSignal_4bin_up.SaveAs(  \"WVchannel_LeptonPtScale_Vjets_Up.root\")\n",
    "hSignal_4bin_down.SaveAs(\"WVchannel_LeptonPtScale_Vjets_Down.root\")"
   ]
  }
 ],
 "metadata": {
  "kernelspec": {
   "display_name": "Python 2",
   "language": "python",
   "name": "python2"
  },
  "language_info": {
   "codemirror_mode": {
    "name": "ipython",
    "version": 2
   },
   "file_extension": ".py",
   "mimetype": "text/x-python",
   "name": "python",
   "nbconvert_exporter": "python",
   "pygments_lexer": "ipython2",
   "version": "2.7.11"
  }
 },
 "nbformat": 4,
 "nbformat_minor": 2
}
