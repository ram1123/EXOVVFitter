{
 "cells": [
  {
   "cell_type": "markdown",
   "metadata": {
    "slideshow": {
     "slide_type": "slide"
    }
   },
   "source": [
    "# Alpha Calculation And W+jet Signal Shape"
   ]
  },
  {
   "cell_type": "markdown",
   "metadata": {},
   "source": [
    "1. Calculate alpha using MC only\n",
    "    1. Ratio of signal to side-band region\n",
    "1. Get 1-sigma up/down alpha shape\n",
    "1. Grab corrected W+jet shape and normalization in side-band region from background estimation code.\n",
    "1. Using alpha get the W+jet shape and normalization in signal region"
   ]
  },
  {
   "cell_type": "code",
   "execution_count": 1,
   "metadata": {
    "collapsed": false,
    "slideshow": {
     "slide_type": "skip"
    }
   },
   "outputs": [
    {
     "data": {
      "application/javascript": [
       "\n",
       "require(['notebook'],\n",
       "  function() {\n",
       "    IPython.CodeCell.config_defaults.highlight_modes['magic_text/x-c++src'] = {'reg':[/^%%cpp/]};\n",
       "    console.log(\"JupyROOT - %%cpp magic configured\");\n",
       "  }\n",
       ");\n"
      ]
     },
     "metadata": {},
     "output_type": "display_data"
    },
    {
     "name": "stdout",
     "output_type": "stream",
     "text": [
      "Welcome to JupyROOT 6.08/05\n"
     ]
    }
   ],
   "source": [
    "import ROOT as r\n",
    "\n",
    "# To surpress unwanted messages\n",
    "msgservice = r.RooMsgService.instance()\n",
    "msgservice.setGlobalKillBelow(r.RooFit.FATAL)"
   ]
  },
  {
   "cell_type": "code",
   "execution_count": 2,
   "metadata": {
    "collapsed": false,
    "scrolled": true,
    "slideshow": {
     "slide_type": "skip"
    }
   },
   "outputs": [],
   "source": [
    "#fin = r.TFile.Open(\"root://cmseos.fnal.gov//store/user/rasharma/SecondStep/WWTree_CleanedCode_Isolated_NaNFixed_Btag30GeV_AlphaRatioBkgEst_2018_03_27_02h28/HaddedFiles/Hadds_for_BkgEstimation/WWTree_WJets.root\")\n",
    "\n",
    "fin = r.TFile.Open(\"root://cmseos.fnal.gov//store/user/rasharma/SecondStep/WWTree_CleanedCode_Isolated_NaNFixed_Btag30GeV_2018_03_16_00h13/HaddedFiles/Hadds_for_BkgEstimation/WWTree_VJets.root\")\n",
    "\n",
    "\n",
    "treeIn = fin.Get(\"otree\")\n",
    "\n",
    "# Define the cuts\n",
    "cutString_Lower_SideBand =  \"wSampleWeight*35867.06*btag0Wgt*genWeight*trig_eff_Weight*id_eff_Weight*pu_Weight*((type==0||type==1) && (l_pt2<0 && l_pt1>30 && (((type==0)&&(abs(l_eta1)<2.4)) || ((type==1)&&((abs(l_eta1)<2.5)&&!(abs(l_eta1)>1.4442 && abs(l_eta1)<1.566))))) && (((type==0)&&(pfMET_Corr>50)) || ((type==1)&&(pfMET_Corr>80))) && ((ungroomed_PuppiAK8_jet_pt>200)&&(abs(ungroomed_PuppiAK8_jet_eta)<2.4)&&(PuppiAK8_jet_tau2tau1<0.55)) && (nBTagJet_loose==0) && (vbf_maxpt_jj_m>800) && (abs(vbf_maxpt_j2_eta-vbf_maxpt_j1_eta)>4.0) && ((vbf_maxpt_j1_pt>30) && (vbf_maxpt_j2_pt>30)) && (((PuppiAK8_jet_mass_so_corr>40)&&(PuppiAK8_jet_mass_so_corr<65))) && (mass_lvj_type0_PuppiAK8>600) && ((abs(ZeppenfeldWL_type0)/abs(vbf_maxpt_j2_eta-vbf_maxpt_j1_eta))<0.3) && ((abs(ZeppenfeldWH)/abs(vbf_maxpt_j2_eta-vbf_maxpt_j1_eta))<0.3) && (BosonCentrality_type0>1.0))\"\n",
    "\n",
    "cutString_SideBand       =  \"wSampleWeight*35867.06*btag0Wgt*genWeight*trig_eff_Weight*id_eff_Weight*pu_Weight*((type==0||type==1) && (l_pt2<0 && l_pt1>30 && (((type==0)&&(abs(l_eta1)<2.4)) || ((type==1)&&((abs(l_eta1)<2.5)&&!(abs(l_eta1)>1.4442 && abs(l_eta1)<1.566))))) && (((type==0)&&(pfMET_Corr>50)) || ((type==1)&&(pfMET_Corr>80))) && ((ungroomed_PuppiAK8_jet_pt>200)&&(abs(ungroomed_PuppiAK8_jet_eta)<2.4)&&(PuppiAK8_jet_tau2tau1<0.55)) && (nBTagJet_loose==0) && (vbf_maxpt_jj_m>800) && (abs(vbf_maxpt_j2_eta-vbf_maxpt_j1_eta)>4.0) && ((vbf_maxpt_j1_pt>30) && (vbf_maxpt_j2_pt>30)) && (((PuppiAK8_jet_mass_so_corr>40)&&(PuppiAK8_jet_mass_so_corr<65)) || ((PuppiAK8_jet_mass_so_corr>105)&&(PuppiAK8_jet_mass_so_corr<150))) && (mass_lvj_type0_PuppiAK8>600) && ((abs(ZeppenfeldWL_type0)/abs(vbf_maxpt_j2_eta-vbf_maxpt_j1_eta))<0.3) && ((abs(ZeppenfeldWH)/abs(vbf_maxpt_j2_eta-vbf_maxpt_j1_eta))<0.3) && (BosonCentrality_type0>1.0))\"\n",
    "\n",
    "cutString_Signal         =  \"wSampleWeight*35867.06*btag0Wgt*genWeight*trig_eff_Weight*id_eff_Weight*pu_Weight*((type==0||type==1) && (l_pt2<0 && l_pt1>30 && (((type==0)&&(abs(l_eta1)<2.4)) || ((type==1)&&((abs(l_eta1)<2.5)&&!(abs(l_eta1)>1.4442 && abs(l_eta1)<1.566))))) && (((type==0)&&(pfMET_Corr>50)) || ((type==1)&&(pfMET_Corr>80))) && ((ungroomed_PuppiAK8_jet_pt>200)&&(abs(ungroomed_PuppiAK8_jet_eta)<2.4)&&(PuppiAK8_jet_tau2tau1<0.55)) && (nBTagJet_loose==0) && (vbf_maxpt_jj_m>800) && (abs(vbf_maxpt_j2_eta-vbf_maxpt_j1_eta)>4.0) && ((vbf_maxpt_j1_pt>30) && (vbf_maxpt_j2_pt>30)) && ((PuppiAK8_jet_mass_so_corr>65) &&(PuppiAK8_jet_mass_so_corr<105)) && (mass_lvj_type0_PuppiAK8>600) && ((abs(ZeppenfeldWL_type0)/abs(vbf_maxpt_j2_eta-vbf_maxpt_j1_eta))<0.3) && ((abs(ZeppenfeldWH)/abs(vbf_maxpt_j2_eta-vbf_maxpt_j1_eta))<0.3) && (BosonCentrality_type0>1.0))\""
   ]
  },
  {
   "cell_type": "markdown",
   "metadata": {
    "slideshow": {
     "slide_type": "skip"
    }
   },
   "source": [
    "### Get W+jet histogram in signal, lower side-band and in whole side-band (low as well as high) region"
   ]
  },
  {
   "cell_type": "code",
   "execution_count": 3,
   "metadata": {
    "collapsed": false,
    "slideshow": {
     "slide_type": "skip"
    }
   },
   "outputs": [
    {
     "data": {
      "text/plain": [
       "4162L"
      ]
     },
     "execution_count": 3,
     "metadata": {},
     "output_type": "execute_result"
    },
    {
     "name": "stderr",
     "output_type": "stream",
     "text": [
      "Info in <TCanvas::MakeDefCanvas>:  created default TCanvas with name c1\n"
     ]
    }
   ],
   "source": [
    "leg = r.TLegend(0.40,0.9,.9,0.7)\n",
    "\n",
    "hSignal = r.TH1D(\"hSignal\",\"\",38,600,2500)\n",
    "hSignal.SetMarkerColor(1)\n",
    "hSignal.SetLineColor(1)\n",
    "hSignal.SetLineWidth(3)\n",
    "hSignal.SetMarkerSize(5)\n",
    "leg.AddEntry(hSignal,\"signal region (MC)\")\n",
    "\n",
    "hSignal_4bin = r.TH1D(\"hSignal_4bin\",\"\",38,600,2500)\n",
    "hSignal_4bin.SetMarkerColor(1)\n",
    "hSignal_4bin.SetLineColor(1)\n",
    "hSignal_4bin.SetLineWidth(3)\n",
    "hSignal_4bin.SetMarkerSize(5)\n",
    "leg.AddEntry(hSignal_4bin,\"signal region (MC)\")\n",
    "\n",
    "\n",
    "hSideBand = r.TH1D(\"hSideBand\",\"\",38,600,2500)\n",
    "hSideBand.SetMarkerColor(2)\n",
    "hSideBand.SetLineColor(2)\n",
    "hSideBand.SetLineWidth(3)\n",
    "hSideBand.SetMarkerSize(5)\n",
    "leg.AddEntry(hSideBand,\"SideBand Region (MC)\")\n",
    "\n",
    "\n",
    "hLowerSideBand = r.TH1D(\"hLowerSideBand\",\"\",38,600,2500)\n",
    "hLowerSideBand.SetMarkerColor(3)\n",
    "hLowerSideBand.SetLineColor(3)\n",
    "hLowerSideBand.SetLineWidth(3)\n",
    "hLowerSideBand.SetMarkerSize(5)\n",
    "leg.AddEntry(hLowerSideBand,\"Lower SideBand Region (MC)\")\n",
    "\n",
    "\n",
    "treeIn.Draw(\"mass_lvj_type0_PuppiAK8>>hSideBand\",cutString_SideBand)\n",
    "treeIn.Draw(\"mass_lvj_type0_PuppiAK8>>hLowerSideBand\",cutString_Lower_SideBand)\n",
    "treeIn.Draw(\"mass_lvj_type0_PuppiAK8>>hSignal\",cutString_Signal)\n",
    "treeIn.Draw(\"mass_lvj_type0_PuppiAK8>>hSignal_4bin\",cutString_Signal)"
   ]
  },
  {
   "cell_type": "markdown",
   "metadata": {},
   "source": [
    "### Plot the Wjet histogram in signal region, side-band region and lower side-band region"
   ]
  },
  {
   "cell_type": "code",
   "execution_count": 4,
   "metadata": {
    "collapsed": false
   },
   "outputs": [
    {
     "name": "stderr",
     "output_type": "stream",
     "text": [
      "Warning in <TCanvas::Constructor>: Deleting canvas with same name: c1\n"
     ]
    },
    {
     "data": {
      "image/png": "[encoded data removed]",
      "text/plain": [
       "<IPython.core.display.Image object>"
      ]
     },
     "metadata": {},
     "output_type": "display_data"
    }
   ],
   "source": [
    "c1 = r.TCanvas(\"c1\", \"canvas\", 1000, 600)\n",
    "c1.SetLogy()\n",
    "c1.Divide(2,1)\n",
    "c1.cd(1)\n",
    "r.gPad.SetLogy()\n",
    "hSignal.SetTitle(\"Log axis\")\n",
    "hSignal.Draw()\n",
    "hLowerSideBand.Draw(\"same\")\n",
    "hSideBand.Draw(\"same\")\n",
    "leg.Draw()\n",
    "c1.cd(2)\n",
    "hSignal.SetTitle(\"Normal axis\")\n",
    "hSignal.Draw()\n",
    "hLowerSideBand.Draw(\"same\")\n",
    "hSideBand.Draw(\"same\")\n",
    "leg.Draw()\n",
    "\n",
    "c1.Draw()"
   ]
  },
  {
   "cell_type": "markdown",
   "metadata": {
    "slideshow": {
     "slide_type": "slide"
    }
   },
   "source": [
    "# Part-I\n",
    "\n",
    "## Calculate alpha \n",
    "\n",
    "> by dividing W+jets MC in signal and side-band region\n",
    "\n",
    "\n",
    "> Also fit the alpha"
   ]
  },
  {
   "cell_type": "code",
   "execution_count": 5,
   "metadata": {
    "collapsed": false,
    "scrolled": false,
    "slideshow": {
     "slide_type": "slide"
    }
   },
   "outputs": [
    {
     "name": "stdout",
     "output_type": "stream",
     "text": [
      "Alpha does not exists\n",
      "\n",
      "****************************************\n",
      "Minimizer is Linear\n",
      "Chi2                      =      37.0316\n",
      "NDf                       =           36\n",
      "p0                        =      1.30476   +/-   0.0531981   \n",
      "p1                        = -0.000527049   +/-   2.14954e-05 \n",
      "Integral =  1568.11718741\n",
      "Integral =  926.885944026\n"
     ]
    },
    {
     "name": "stderr",
     "output_type": "stream",
     "text": [
      "Warning in <TCanvas::Constructor>: Deleting canvas with same name: c1\n"
     ]
    },
    {
     "data": {
      "image/png": "[encoded data removed]",
      "text/plain": [
       "<IPython.core.display.Image object>"
      ]
     },
     "metadata": {},
     "output_type": "display_data"
    }
   ],
   "source": [
    "try: \n",
    "    Alpha.Delete();\n",
    "except: \n",
    "    print \"Alpha does not exists\";\n",
    "    \n",
    "Alpha =  r.TH1D(\"Alpha\",\"\",38,600,2500)\n",
    "Alpha = hSignal.Clone()\n",
    "Alpha.Divide(hSideBand)\n",
    "c1 = r.TCanvas(\"c1\", \"canvas\", 800, 600)\n",
    "Alpha.GetXaxis().SetTitle(\"mWW (GeV)\")\n",
    "Alpha.GetYaxis().SetTitle(\"alpha from MC only (Signal/Side-band)\")\n",
    "Alpha.SetMaximum(1.8)\n",
    "Alpha.SetMinimum(-0.2)\n",
    "Alpha.Draw()\n",
    "f1 = r.TF1(\"f1\",\"pol1\",600,2500)\n",
    "Alpha.Fit(\"f1\")\n",
    "c1.Draw()\n",
    "print \"Integral = \",Alpha.Integral(\"width\")\n",
    "print \"Integral = \",f1.Integral(600,2500)\n",
    "#for i in range(1,39):\n",
    "#    print i,\",\",Alpha.GetBinContent(i),\",\",Alpha.GetBinLowEdge(i),\",\",Alpha.GetBinWidth(i)"
   ]
  },
  {
   "cell_type": "markdown",
   "metadata": {},
   "source": [
    "## Rebin Alpha ( from 20 to 4 bins)"
   ]
  },
  {
   "cell_type": "markdown",
   "metadata": {},
   "source": [
    "### Bin Center information\n",
    "\n",
    "1. 600, 1075, 1550, 2025, 2500"
   ]
  },
  {
   "cell_type": "raw",
   "metadata": {},
   "source": [
    "count = 1\n",
    "for i in range(600,2500,50):\n",
    "    print count,\"\\t\",i,i+50\n",
    "    count+=1"
   ]
  },
  {
   "cell_type": "raw",
   "metadata": {
    "collapsed": false
   },
   "source": [
    "print \"Bin center: 1  = \",(600+1075)/2.0\n",
    "print \"Bin center: 2  = \",(1075+1550)/2.0\n",
    "print \"Bin center: 3  = \",(1550+2025)/2.0\n",
    "print \"Bin center: 4  = \",(2025+2500)/2.0"
   ]
  },
  {
   "cell_type": "code",
   "execution_count": 6,
   "metadata": {
    "collapsed": false,
    "scrolled": false
   },
   "outputs": [
    {
     "name": "stdout",
     "output_type": "stream",
     "text": [
      "1 \t600 650 => 625.0 0.975354648862\n",
      "2 \t650 700 => 675.0 0.949002219593\n",
      "3 \t700 750 => 725.0 0.922649790324\n",
      "4 \t750 800 => 775.0 0.896297361055\n",
      "5 \t800 850 => 825.0 0.869944931786\n",
      "6 \t850 900 => 875.0 0.843592502516\n",
      "7 \t900 950 => 925.0 0.817240073247\n",
      "8 \t950 1000 => 975.0 0.790887643978\n",
      "9 \t1000 1050 => 1025.0 0.764535214709\n",
      "10 \t1050 1100 => 1075.0 0.73818278544\n",
      "11 \t1100 1150 => 1125.0 0.71183035617\n",
      "12 \t1150 1200 => 1175.0 0.685477926901\n",
      "13 \t1200 1250 => 1225.0 0.659125497632\n",
      "14 \t1250 1300 => 1275.0 0.632773068363\n",
      "15 \t1300 1350 => 1325.0 0.606420639094\n",
      "16 \t1350 1400 => 1375.0 0.580068209824\n",
      "17 \t1400 1450 => 1425.0 0.553715780555\n",
      "18 \t1450 1500 => 1475.0 0.527363351286\n",
      "19 \t1500 1550 => 1525.0 0.501010922017\n",
      "20 \t1550 1600 => 1575.0 0.474658492748\n",
      "21 \t1600 1650 => 1625.0 0.448306063478\n",
      "22 \t1650 1700 => 1675.0 0.421953634209\n",
      "23 \t1700 1750 => 1725.0 0.39560120494\n",
      "24 \t1750 1800 => 1775.0 0.369248775671\n",
      "25 \t1800 1850 => 1825.0 0.342896346402\n",
      "26 \t1850 1900 => 1875.0 0.316543917132\n",
      "27 \t1900 1950 => 1925.0 0.290191487863\n",
      "28 \t1950 2000 => 1975.0 0.263839058594\n",
      "29 \t2000 2050 => 2025.0 0.237486629325\n",
      "30 \t2050 2100 => 2075.0 0.211134200056\n",
      "31 \t2100 2150 => 2125.0 0.184781770786\n",
      "32 \t2150 2200 => 2175.0 0.158429341517\n",
      "33 \t2200 2250 => 2225.0 0.132076912248\n",
      "34 \t2250 2300 => 2275.0 0.105724482979\n",
      "35 \t2300 2350 => 2325.0 0.0793720537096\n",
      "36 \t2350 2400 => 2375.0 0.0530196244404\n",
      "37 \t2400 2450 => 2425.0 0.0266671951712\n",
      "38 \t2450 2500 => 2475.0 0.000314765901985\n",
      "4 bin 0.86335682869\n",
      "4 bin 0.613008737564\n",
      "4 bin 0.362660676241\n",
      "4 bin 0.112312592566\n",
      "40 bin 0.975354671478\n",
      "40 bin 0.949002206326\n",
      "40 bin 0.922649800777\n",
      "40 bin 0.896297335625\n"
     ]
    },
    {
     "data": {
      "image/png": "[encoded data removed]",
      "text/plain": [
       "<IPython.core.display.Image object>"
      ]
     },
     "metadata": {},
     "output_type": "display_data"
    }
   ],
   "source": [
    "hAlpha_Fit = r.TH1F(\"hAlpha_Fit\",\"\",4,600,2500)\n",
    "hAlpha_Fit.SetBinContent(1,f1.Eval(837.5));\n",
    "hAlpha_Fit.SetBinContent(2,f1.Eval(1312.5)); \n",
    "hAlpha_Fit.SetBinContent(3,f1.Eval(1787.5)); \n",
    "hAlpha_Fit.SetBinContent(4,f1.Eval(2262.5)); \n",
    "\n",
    "\n",
    "hAlpha_Fit.SetMarkerColor(625)\n",
    "hAlpha_Fit.SetLineColor(625)\n",
    "#hAlpha_Fit.SetFillColor(625)\n",
    "hAlpha_Fit.SetLineWidth(3)\n",
    "hAlpha_Fit.SetMarkerSize(5)\n",
    "hAlpha_Fit.SetMaximum(1.50)\n",
    "hAlpha_Fit.SetMinimum(0.001)\n",
    "leg = r.TLegend(0.55,0.9,.9,0.8)\n",
    "leg.AddEntry(hAlpha_Fit,\"Nominal Alpha\")\n",
    "hAlpha_Fit.Draw()\n",
    "\n",
    "\n",
    "hAlpha_Fit_38bin = r.TH1F(\"hAlpha_Fit_38bin\",\"\",38,600,2500)\n",
    "count = 1\n",
    "import numpy as np\n",
    "for i in np.arange(600,2500,50):\n",
    "    print count,\"\\t\",i,i+50,\"=>\",(i+i+50)/2.,f1.Eval((i+i+50)/2.)\n",
    "    hAlpha_Fit_38bin.SetBinContent(count,f1.Eval((i+i+50)/2.));\n",
    "    count+=1\n",
    "\n",
    "hAlpha_Fit_38bin.SetMarkerColor(1)\n",
    "hAlpha_Fit_38bin.SetLineColor(1)\n",
    "hAlpha_Fit_38bin.SetLineWidth(3)\n",
    "hAlpha_Fit_38bin.SetMarkerSize(5)\n",
    "#hAlpha_Fit_38bin.SetMaximum(29.1)\n",
    "\n",
    "#hAlpha_Fit_38bin.Rebin(25)\n",
    "\n",
    "#hAlpha_Fit_38bin.Scale(1477.05600548/hAlpha_Fit_38bin.Integral(\"width\"))\n",
    "\n",
    "leg.AddEntry(hAlpha_Fit_38bin,\"Nominal Alpha 38 bin\")\n",
    "hAlpha_Fit_38bin.Draw(\"same\")    \n",
    "    \n",
    "leg.Draw()\n",
    "\n",
    "c1.Update()\n",
    "c1.Draw()\n",
    "\n",
    "print \"4 bin\", hAlpha_Fit.GetBinContent(1)\n",
    "print \"4 bin\", hAlpha_Fit.GetBinContent(2)\n",
    "print \"4 bin\", hAlpha_Fit.GetBinContent(3)\n",
    "print \"4 bin\", hAlpha_Fit.GetBinContent(4)\n",
    "print \"40 bin\", hAlpha_Fit_38bin.GetBinContent(1)\n",
    "print \"40 bin\", hAlpha_Fit_38bin.GetBinContent(2)\n",
    "print \"40 bin\", hAlpha_Fit_38bin.GetBinContent(3)\n",
    "print \"40 bin\", hAlpha_Fit_38bin.GetBinContent(4)"
   ]
  },
  {
   "cell_type": "markdown",
   "metadata": {},
   "source": [
    "## Get alpha 1-sigma Up"
   ]
  },
  {
   "cell_type": "raw",
   "metadata": {
    "collapsed": false
   },
   "source": [
    "print \"Parameter 1 = \",f1.GetParameter(0),\"+/-\",f1.GetParError(0)\n",
    "print \"Parameter 2 = \",f1.GetParameter(1),\"+/-\",f1.GetParError(1)"
   ]
  },
  {
   "cell_type": "raw",
   "metadata": {
    "collapsed": true
   },
   "source": [
    "f1.SetParameter(0,f1.GetParameter(0)+f1.GetParError(0))\n",
    "f1.SetParameter(1,f1.GetParameter(1)+f1.GetParError(1))"
   ]
  },
  {
   "cell_type": "raw",
   "metadata": {
    "collapsed": false
   },
   "source": [
    "hAlpha_Fit_up = r.TH1F(\"hAlpha_Fit_up\",\"\",4,600,2500)\n",
    "hAlpha_Fit_up.SetBinContent(1,f1.Eval(837.5));\n",
    "hAlpha_Fit_up.SetBinContent(2,f1.Eval(1312.5)); \n",
    "hAlpha_Fit_up.SetBinContent(3,f1.Eval(1787.5)); \n",
    "hAlpha_Fit_up.SetBinContent(4,f1.Eval(2262.5)); \n",
    "#hAlpha_Fit_up.Scale(1555.23875165/hAlpha_Fit.Integral(\"width\"))\n",
    "#hAlpha_Fit_up.Sumw2()\n",
    "\n",
    "hAlpha_Fit_up.SetMarkerColor(1)\n",
    "hAlpha_Fit_up.SetLineColor(1)\n",
    "#hAlpha_Fit.SetFillColor(1)\n",
    "hAlpha_Fit_up.SetLineWidth(3)\n",
    "hAlpha_Fit_up.SetMarkerSize(5)\n",
    "leg.AddEntry(hAlpha_Fit_up,\"Up Alpha\")\n",
    "hAlpha_Fit_up.Draw(\"same\")\n",
    "c1.Update()\n",
    "c1.Draw()"
   ]
  },
  {
   "cell_type": "markdown",
   "metadata": {},
   "source": [
    "## Get alpha 1-sigma Down\n",
    "\n",
    "> Below to get 1-sigma down we need to multiply by 2 because earlier we add 1-sigma for getting 1-sigma up distribution for alpha"
   ]
  },
  {
   "cell_type": "raw",
   "metadata": {
    "collapsed": true
   },
   "source": [
    "f1.SetParameter(0,f1.GetParameter(0)-2*f1.GetParError(0))\n",
    "f1.SetParameter(1,f1.GetParameter(1)-2*f1.GetParError(1))"
   ]
  },
  {
   "cell_type": "raw",
   "metadata": {
    "collapsed": false
   },
   "source": [
    "hAlpha_Fit_dn = r.TH1F(\"hAlpha_Fit_dn\",\"\",4,600,2500)\n",
    "hAlpha_Fit_dn.SetBinContent(1,f1.Eval(837.5));\n",
    "hAlpha_Fit_dn.SetBinContent(2,f1.Eval(1312.5)); \n",
    "hAlpha_Fit_dn.SetBinContent(3,f1.Eval(1787.5)); \n",
    "hAlpha_Fit_dn.SetBinContent(4,f1.Eval(2262.5)); \n",
    "\n",
    "hAlpha_Fit_dn.SetMarkerColor(3)\n",
    "hAlpha_Fit_dn.SetLineColor(3)\n",
    "#hAlpha_Fit_dn.SetFillColor(1)\n",
    "hAlpha_Fit_dn.SetLineWidth(3)\n",
    "hAlpha_Fit_dn.SetMarkerSize(5)\n",
    "leg.AddEntry(hAlpha_Fit_dn,\"Down Alpha\")\n",
    "hAlpha_Fit_dn.Draw(\"same\")\n",
    "leg.Draw()\n",
    "c1.Update()\n",
    "c1.Draw()"
   ]
  },
  {
   "cell_type": "markdown",
   "metadata": {},
   "source": [
    "### Get Back to nominal alpha"
   ]
  },
  {
   "cell_type": "raw",
   "metadata": {
    "collapsed": true
   },
   "source": [
    "f1.SetParameter(0,f1.GetParameter(0)+1*f1.GetParError(0))\n",
    "f1.SetParameter(1,f1.GetParameter(1)+1*f1.GetParError(1))"
   ]
  },
  {
   "cell_type": "raw",
   "metadata": {
    "collapsed": false
   },
   "source": [
    "print \"Parameter 1 = \",f1.GetParameter(0),\"+/-\",f1.GetParError(0)\n",
    "print \"Parameter 2 = \",f1.GetParameter(1),\"+/-\",f1.GetParError(1)"
   ]
  },
  {
   "cell_type": "markdown",
   "metadata": {
    "slideshow": {
     "slide_type": "slide"
    }
   },
   "source": [
    "# Get corrected W+jet in sideband region after fit to data\n",
    "\n",
    "This histogram is saved in ExoVV fitter using create histogram method:\n",
    "\n",
    "https://github.com/ram1123/EXOVVFitter/blob/master/g1_exo_doFit_class_new.py#L1795-L1796\n",
    "\n",
    "But, this histogram was not taking the normalization so I have to scale it with the normalization. ***But, scaling the histogram also scaling the errors.***"
   ]
  },
  {
   "cell_type": "code",
   "execution_count": 7,
   "metadata": {
    "collapsed": false
   },
   "outputs": [
    {
     "name": "stdout",
     "output_type": "stream",
     "text": [
      "263.936127424\n",
      "bin 1 content =  43.6576919556\n",
      "bin 2 content =  36.4438209534\n",
      "bin 3 content =  30.4219512939\n",
      "bin 4 content =  25.3951148987\n"
     ]
    },
    {
     "data": {
      "image/png": "[encoded data removed]",
      "text/plain": [
       "<IPython.core.display.Image object>"
      ]
     },
     "metadata": {},
     "output_type": "display_data"
    }
   ],
   "source": [
    "leg.Clear()\n",
    "c1.Clear()\n",
    "Wjet_file = r.TFile.Open(\"WWTree_CleanedCode_Isolated_NaNFixed_Btag30GeV_2018_03_16_00h13_BothLSBUSB/wjetmodel_Ex__WJets0_xww__sb_lo_Exp_auto.root\")\n",
    "Wjet_hist = r.TH1F()\n",
    "#Wjet_hist.Sumw2()\n",
    "Wjet_hist = Wjet_file.Get(\"rrv_mass_lvj__rrv_mass_lvj\")\n",
    "#Wjet_hist = Wjet_file.Get(\"model_pdf_WJets0_xww_sb_lo_from_fitting_em_mlvj__rrv_mass_lvj\")\n",
    "Wjet_hist.Scale(264.295)\n",
    "#Wjet_hist.Rebin(27)\n",
    "print Wjet_hist.Integral()\n",
    "#Wjet_hist.SetMaximum(150)\n",
    "Wjet_hist.Draw(\"hist\")\n",
    "hSideBand.Draw(\"same\")\n",
    "#hLowerSideBand.Draw(\"same\")\n",
    "leg.AddEntry(Wjet_hist,\"Lower SideBand Region (Corr)\")\n",
    "leg.AddEntry(hLowerSideBand,\"Lower SideBand Region (MC)\")\n",
    "leg.Draw()\n",
    "#c1.SetLogy()\n",
    "c1.Draw()\n",
    "\n",
    "print \"bin 1 content = \",Wjet_hist.GetBinContent(1)\n",
    "print \"bin 2 content = \",Wjet_hist.GetBinContent(2)\n",
    "print \"bin 3 content = \",Wjet_hist.GetBinContent(3)\n",
    "print \"bin 4 content = \",Wjet_hist.GetBinContent(4)"
   ]
  },
  {
   "cell_type": "markdown",
   "metadata": {
    "slideshow": {
     "slide_type": "slide"
    }
   },
   "source": [
    "# Multiplication by Alpha to get Signal Region W+jets obtained from data."
   ]
  },
  {
   "cell_type": "code",
   "execution_count": 8,
   "metadata": {
    "collapsed": false
   },
   "outputs": [
    {
     "data": {
      "image/png": "[encoded data removed]",
      "text/plain": [
       "<IPython.core.display.Image object>"
      ]
     },
     "metadata": {},
     "output_type": "display_data"
    }
   ],
   "source": [
    "c1.Clear()\n",
    "leg.Clear()\n",
    "hModel_Sig = r.TH1F(\"hModel_Sig\",\"\",38,600,2500)\n",
    "hModel_Sig.Sumw2()\n",
    "hModel_Sig.SetMarkerColor(6)\n",
    "hModel_Sig.SetLineColor(6)\n",
    "hModel_Sig.SetLineWidth(3)\n",
    "\n",
    "for i in range(1,39):\n",
    "    hModel_Sig.SetBinContent(i,Wjet_hist.GetBinContent(i)*hAlpha_Fit_38bin.GetBinContent(i))\n",
    "    \n",
    "hSignal_4bin.Draw()\n",
    "\n",
    "hModel_Sig.Draw(\"same\")\n",
    "\n",
    "leg.AddEntry(hSignal_4bin,\"W+jet Signal Region (MC)\")\n",
    "leg.AddEntry(hModel_Sig,\"W+jet Signal Region (Alpha)\")\n",
    "\n",
    "leg.Draw()\n",
    "c1.SetLogy()\n",
    "c1.Draw()"
   ]
  },
  {
   "cell_type": "raw",
   "metadata": {
    "collapsed": false,
    "scrolled": false,
    "slideshow": {
     "slide_type": "slide"
    }
   },
   "source": [
    "c1.Clear()\n",
    "hModel_Sig = r.TH1F(\"hModel_Sig\",\"\",4,600,2500)\n",
    "hModel_Sig.Sumw2()\n",
    "hModel_Sig.SetMarkerColor(6)\n",
    "hModel_Sig.SetLineColor(6)\n",
    "hModel_Sig.SetLineWidth(3)\n",
    "hModel_Sig.SetMarkerSize(5)\n",
    "\n",
    "hModel_Sig.SetBinContent(1,Wjet_hist.GetBinContent(1)*hAlpha_Fit.GetBinContent(1))\n",
    "hModel_Sig.SetBinContent(2,Wjet_hist.GetBinContent(2)*hAlpha_Fit.GetBinContent(2))\n",
    "hModel_Sig.SetBinContent(3,Wjet_hist.GetBinContent(3)*hAlpha_Fit.GetBinContent(3))\n",
    "hModel_Sig.SetBinContent(4,Wjet_hist.GetBinContent(4)*hAlpha_Fit.GetBinContent(4))\n",
    "\n",
    "hModel_Sig.SaveAs(\"Wjet_Corr_Shape_Nominal.root\")\n",
    "\n",
    "\n",
    "hModel_Sig_up = r.TH1F(\"hModel_Sig\",\"\",4,600,2500)\n",
    "hModel_Sig_up.Sumw2()\n",
    "hModel_Sig_up.SetMarkerColor(6)\n",
    "hModel_Sig_up.SetLineColor(6)\n",
    "hModel_Sig_up.SetLineWidth(3)\n",
    "hModel_Sig_up.SetMarkerSize(5)\n",
    "\n",
    "hModel_Sig_up.SetBinContent(1,Wjet_hist.GetBinContent(1)*hAlpha_Fit_up.GetBinContent(1))\n",
    "hModel_Sig_up.SetBinContent(2,Wjet_hist.GetBinContent(2)*hAlpha_Fit_up.GetBinContent(2))\n",
    "hModel_Sig_up.SetBinContent(3,Wjet_hist.GetBinContent(3)*hAlpha_Fit_up.GetBinContent(3))\n",
    "hModel_Sig_up.SetBinContent(4,Wjet_hist.GetBinContent(4)*hAlpha_Fit_up.GetBinContent(4))\n",
    "\n",
    "hModel_Sig_up.SaveAs(\"Wjet_Corr_Shape_Up.root\")\n",
    "\n",
    "hModel_Sig_Down = r.TH1F(\"hModel_Sig\",\"\",4,600,2500)\n",
    "hModel_Sig_Down.Sumw2()\n",
    "hModel_Sig_Down.SetMarkerColor(6)\n",
    "hModel_Sig_Down.SetLineColor(6)\n",
    "hModel_Sig_Down.SetLineWidth(3)\n",
    "hModel_Sig_Down.SetMarkerSize(5)\n",
    "\n",
    "hModel_Sig_Down.SetBinContent(1,Wjet_hist.GetBinContent(1)*hAlpha_Fit_dn.GetBinContent(1))\n",
    "hModel_Sig_Down.SetBinContent(2,Wjet_hist.GetBinContent(2)*hAlpha_Fit_dn.GetBinContent(2))\n",
    "hModel_Sig_Down.SetBinContent(3,Wjet_hist.GetBinContent(3)*hAlpha_Fit_dn.GetBinContent(3))\n",
    "hModel_Sig_Down.SetBinContent(4,Wjet_hist.GetBinContent(4)*hAlpha_Fit_dn.GetBinContent(4))\n",
    "\n",
    "hModel_Sig_Down.SaveAs(\"Wjet_Corr_Shape_Down.root\")\n",
    "\n",
    "\n",
    "\n",
    "\n",
    "#hModel_Sig\n",
    "hSignal_4bin.Draw()\n",
    "hModel_Sig.Draw(\"same\")\n",
    "\n",
    "leg.AddEntry(hModel_Sig,\"W+jet Signal Region (Alpha)\")\n",
    "\n",
    "\n",
    "\n",
    "print \"Wjet yield = \", hModel_Sig.Integral()\n",
    "\n",
    "print \"Bin 0 content = \",hModel_Sig.GetBinContent(1)\n",
    "print \"Bin 2 content = \",hModel_Sig.GetBinContent(2)\n",
    "print \"Bin 3 content = \",hModel_Sig.GetBinContent(3)\n",
    "print \"Bin 4 content = \",hModel_Sig.GetBinContent(4)\n",
    "print \"*\"*20\n",
    "print \"MC bin contents: \\n\"\n",
    "print \"Bin 0 content = \",hSignal_4bin.GetBinContent(1)\n",
    "print \"Bin 2 content = \",hSignal_4bin.GetBinContent(2)\n",
    "print \"Bin 3 content = \",hSignal_4bin.GetBinContent(3)\n",
    "print \"Bin 4 content = \",hSignal_4bin.GetBinContent(4)\n",
    "c1.SetLogy(1)\n",
    "c1.Draw()"
   ]
  },
  {
   "cell_type": "code",
   "execution_count": 9,
   "metadata": {
    "collapsed": false
   },
   "outputs": [],
   "source": [
    "c1.Clear()\n",
    "fin_Wjet_MC = r.TFile.Open(\"root://cmseos.fnal.gov//store/user/rasharma/SecondStep/WWTree_CleanedCode_Isolated_NaNFixed_Btag30GeV_2018_03_16_00h13/HaddedFiles/Hadds_for_BkgEstimation/WWTree_VJets.root\")\n",
    "fin_VV = r.TFile.Open(\"root://cmseos.fnal.gov//store/user/rasharma/SecondStep/WWTree_CleanedCode_Isolated_NaNFixed_Btag30GeV_2018_03_16_00h13/HaddedFiles/Hadds_for_BkgEstimation/WWTree_VV.root\")\n",
    "fin_TTbar = r.TFile.Open(\"root://cmseos.fnal.gov//store/user/rasharma/SecondStep/WWTree_CleanedCode_Isolated_NaNFixed_Btag30GeV_2018_03_16_00h13/HaddedFiles/Hadds_for_BkgEstimation/WWTree_TTbar.root\")\n",
    "fin_STop = r.TFile.Open(\"root://cmseos.fnal.gov//store/user/rasharma/SecondStep/WWTree_CleanedCode_Isolated_NaNFixed_Btag30GeV_2018_03_16_00h13/HaddedFiles/Hadds_for_BkgEstimation/WWTree_STop.root\")\n",
    "fin_Data = r.TFile.Open(\"root://cmseos.fnal.gov//store/user/rasharma/SecondStep/WWTree_CleanedCode_Isolated_NaNFixed_Btag30GeV_2018_03_16_00h13/HaddedFiles/Hadds_for_BkgEstimation/WWTree_data_golden.root\")\n",
    "\n",
    "treeIn_Wjet_MC = fin_Wjet_MC.Get(\"otree\")\n",
    "treeIn_VV = fin_VV.Get(\"otree\")\n",
    "treeIn_TTbar = fin_TTbar.Get(\"otree\")\n",
    "treeIn_STop = fin_STop.Get(\"otree\")\n",
    "treeIn_Data = fin_Data.Get(\"otree\")"
   ]
  },
  {
   "cell_type": "code",
   "execution_count": 10,
   "metadata": {
    "collapsed": false
   },
   "outputs": [
    {
     "data": {
      "text/plain": [
       "343L"
      ]
     },
     "execution_count": 10,
     "metadata": {},
     "output_type": "execute_result"
    }
   ],
   "source": [
    "hModel_Sig.SetMarkerColor(625)\n",
    "hModel_Sig.SetLineColor(625)\n",
    "hModel_Sig.SetFillColor(625)\n",
    "hModel_Sig.SetLineWidth(3)\n",
    "hModel_Sig.SetMarkerSize(5)\n",
    "\n",
    "hWjets_MC = r.TH1D(\"hWjets_MC\",\"\",38,600,2500)\n",
    "hWjets_MC.SetMarkerColor(607)\n",
    "hWjets_MC.SetLineColor(607)\n",
    "hWjets_MC.SetFillColor(607)\n",
    "hWjets_MC.SetLineWidth(3)\n",
    "hWjets_MC.SetMarkerSize(5)\n",
    "\n",
    "hVV = r.TH1D(\"hVV\",\"\",38,600,2500)\n",
    "hVV.SetMarkerColor(607)\n",
    "hVV.SetLineColor(607)\n",
    "hVV.SetFillColor(607)\n",
    "hVV.SetLineWidth(3)\n",
    "hVV.SetMarkerSize(5)\n",
    "\n",
    "hTTbar = r.TH1D(\"hTTbar\",\"\",38,600,2500)\n",
    "hTTbar.SetMarkerColor(592)\n",
    "hTTbar.SetLineColor(592)\n",
    "hTTbar.SetFillColor(592)\n",
    "hTTbar.SetLineWidth(3)\n",
    "hTTbar.SetMarkerSize(5)\n",
    "\n",
    "hSTop = r.TH1D(\"hSTop\",\"\",38,600,2500)\n",
    "hSTop.SetMarkerColor(854)\n",
    "hSTop.SetLineColor(854)\n",
    "hSTop.SetFillColor(854)\n",
    "hSTop.SetLineWidth(3)\n",
    "hSTop.SetMarkerSize(5)\n",
    "\n",
    "hData = r.TH1D(\"hData\",\"\",38,600,2500)\n",
    "hData.SetMarkerColor(1)\n",
    "hData.SetLineColor(1)\n",
    "#hData.SetFillColor(1)\n",
    "hData.SetLineWidth(3)\n",
    "hData.SetMarkerSize(5)\n",
    "\n",
    "treeIn_Wjet_MC.Draw(\"mass_lvj_type0_PuppiAK8>>hWjets_MC\",cutString_SideBand)\n",
    "treeIn_VV.Draw(\"mass_lvj_type0_PuppiAK8>>hVV\",cutString_SideBand)\n",
    "treeIn_TTbar.Draw(\"mass_lvj_type0_PuppiAK8>>hTTbar\",cutString_SideBand)\n",
    "treeIn_STop.Draw(\"mass_lvj_type0_PuppiAK8>>hSTop\",cutString_SideBand)\n",
    "\n",
    "#cutString_SigData =  \"((l_pt2<0) && ((l_pt1>30.) && (abs(l_eta1)<2.5)) && ((ungroomed_PuppiAK8_jet_pt>200)&&(abs(ungroomed_PuppiAK8_jet_eta)<2.4)) && ((vbf_maxpt_j1_pt>30) && (vbf_maxpt_j2_pt>30)) &&  (nBTagJet_loose==0) && (pfMET_Corr>50) && ((PuppiAK8_jet_tau2tau1<0.55)) && ((PuppiAK8_jet_mass_so_corr>55) && (PuppiAK8_jet_mass_so_corr<65)) && (abs(vbf_maxpt_j2_eta-vbf_maxpt_j1_eta)>4.0) && (vbf_maxpt_jj_m>800) && (BosonCentrality_type0>1.0) && (abs(ZeppenfeldWL_type0/vbf_maxpt_jj_Deta)<0.3) && (abs(ZeppenfeldWH/vbf_maxpt_jj_Deta)<0.3) && (mass_lvj_type0>170))\"\n",
    "\n",
    "cutString_SigData =  \"((type==0||type==1) && (l_pt2<0 && l_pt1>30 && (((type==0)&&(abs(l_eta1)<2.4)) || ((type==1)&&((abs(l_eta1)<2.5)&&!(abs(l_eta1)>1.4442 && abs(l_eta1)<1.566))))) && (((type==0)&&(pfMET_Corr>50)) || ((type==1)&&(pfMET_Corr>80))) && ((ungroomed_PuppiAK8_jet_pt>200)&&(abs(ungroomed_PuppiAK8_jet_eta)<2.4)&&(PuppiAK8_jet_tau2tau1<0.55)) && (nBTagJet_loose==0) && (vbf_maxpt_jj_m>800 && vbf_maxpt_jj_m>800 ) && (abs(vbf_maxpt_j2_eta-vbf_maxpt_j1_eta)>4.0) && ((vbf_maxpt_j1_pt>30) && (vbf_maxpt_j2_pt>30)) && ((PuppiAK8_jet_mass_so_corr>65) && (PuppiAK8_jet_mass_so_corr<105)) && (mass_lvj_type0_PuppiAK8>600 && mass_lvj_type0_PuppiAK8>600) && ((abs(ZeppenfeldWL_type0)/abs(vbf_maxpt_j2_eta-vbf_maxpt_j1_eta))<0.3) && ((abs(ZeppenfeldWH)/abs(vbf_maxpt_j2_eta-vbf_maxpt_j1_eta))<0.3) && (BosonCentrality_type0>1.0))\"\n",
    "\n",
    "cutString_SideBand =  \"((type==0||type==1) && (l_pt2<0 && l_pt1>30 && (((type==0)&&(abs(l_eta1)<2.4)) || ((type==1)&&((abs(l_eta1)<2.5)&&!(abs(l_eta1)>1.4442 && abs(l_eta1)<1.566))))) && (((type==0)&&(pfMET_Corr>50)) || ((type==1)&&(pfMET_Corr>80))) && ((ungroomed_PuppiAK8_jet_pt>200)&&(abs(ungroomed_PuppiAK8_jet_eta)<2.4)&&(PuppiAK8_jet_tau2tau1<0.55)) && (nBTagJet_loose==0) && (vbf_maxpt_jj_m>800 && vbf_maxpt_jj_m>800 ) && (abs(vbf_maxpt_j2_eta-vbf_maxpt_j1_eta)>4.0) && ((vbf_maxpt_j1_pt>30) && (vbf_maxpt_j2_pt>30)) && (((PuppiAK8_jet_mass_so_corr>40)&&(PuppiAK8_jet_mass_so_corr<65)) || ((PuppiAK8_jet_mass_so_corr>105)&&(PuppiAK8_jet_mass_so_corr<150))) && (mass_lvj_type0_PuppiAK8>600 && mass_lvj_type0_PuppiAK8>600) && ((abs(ZeppenfeldWL_type0)/abs(vbf_maxpt_j2_eta-vbf_maxpt_j1_eta))<0.3) && ((abs(ZeppenfeldWH)/abs(vbf_maxpt_j2_eta-vbf_maxpt_j1_eta))<0.3) && (BosonCentrality_type0>1.0))\"\n",
    "\n",
    "cutString_Lower_SideBand =  \"((type==0||type==1) && (l_pt2<0 && l_pt1>30 && (((type==0)&&(abs(l_eta1)<2.4)) || ((type==1)&&((abs(l_eta1)<2.5)&&!(abs(l_eta1)>1.4442 && abs(l_eta1)<1.566))))) && (((type==0)&&(pfMET_Corr>50)) || ((type==1)&&(pfMET_Corr>80))) && ((ungroomed_PuppiAK8_jet_pt>200)&&(abs(ungroomed_PuppiAK8_jet_eta)<2.4)&&(PuppiAK8_jet_tau2tau1<0.55)) && (nBTagJet_loose==0) && (vbf_maxpt_jj_m>800 && vbf_maxpt_jj_m>800 ) && (abs(vbf_maxpt_j2_eta-vbf_maxpt_j1_eta)>4.0) && ((vbf_maxpt_j1_pt>30) && (vbf_maxpt_j2_pt>30)) && (((PuppiAK8_jet_mass_so_corr>40)&&(PuppiAK8_jet_mass_so_corr<65))) && (mass_lvj_type0_PuppiAK8>600 && mass_lvj_type0_PuppiAK8>600) && ((abs(ZeppenfeldWL_type0)/abs(vbf_maxpt_j2_eta-vbf_maxpt_j1_eta))<0.3) && ((abs(ZeppenfeldWH)/abs(vbf_maxpt_j2_eta-vbf_maxpt_j1_eta))<0.3) && (BosonCentrality_type0>1.0))\"\n",
    "\n",
    "\n",
    "\n",
    "\n",
    "treeIn_Data.Draw(\"mass_lvj_type0_PuppiAK8>>hData\",cutString_SideBand)"
   ]
  },
  {
   "cell_type": "code",
   "execution_count": 11,
   "metadata": {
    "collapsed": false
   },
   "outputs": [
    {
     "data": {
      "image/png": "[encoded data removed]",
      "text/plain": [
       "<IPython.core.display.Image object>"
      ]
     },
     "metadata": {},
     "output_type": "display_data"
    }
   ],
   "source": [
    "stack = r.THStack()\n",
    "\n",
    "stack.Add(hSTop,\"F\")\n",
    "stack.Add(hTTbar,\"F\")\n",
    "stack.Add(hVV,\"F\")\n",
    "stack.Add(hModel_Sig,\"F\")\n",
    "#stack.Add(newHist,\"F\")\n",
    "\n",
    "stack.SetMinimum(0.001)\n",
    "\n",
    "stack.Draw(\"hist\")\n",
    "hData.Draw(\"same hist\")\n",
    "\n",
    "c1.Draw()"
   ]
  },
  {
   "cell_type": "code",
   "execution_count": 12,
   "metadata": {
    "collapsed": false
   },
   "outputs": [
    {
     "name": "stderr",
     "output_type": "stream",
     "text": [
      "Warning in <TGraphAsymmErrors::Divide>: Number of graph points is different than histogram bins - 16 points have been skipped\n"
     ]
    },
    {
     "data": {
      "image/png": "[encoded data removed]",
      "text/plain": [
       "<IPython.core.display.Image object>"
      ]
     },
     "metadata": {},
     "output_type": "display_data"
    }
   ],
   "source": [
    "rp = r.TRatioPlot(stack, hData);\n",
    "#c.SetTicks(0, 1);\n",
    "rp.Draw();\n",
    "rp.GetLowerRefYaxis().SetTitle(\"ratio\");\n",
    "rp.GetUpperRefYaxis().SetTitle(\"entries\");\n",
    "rp.GetLowerRefXaxis().SetTitle(\"M_{ww}\");\n",
    "rp.GetLowerRefGraph().SetMinimum(-1.1);\n",
    "rp.GetLowerRefGraph().SetMaximum(2.8);\n",
    "c1.Update();\n",
    "c1.Draw()"
   ]
  },
  {
   "cell_type": "code",
   "execution_count": null,
   "metadata": {
    "collapsed": true
   },
   "outputs": [],
   "source": []
  },
  {
   "cell_type": "code",
   "execution_count": 13,
   "metadata": {
    "collapsed": false
   },
   "outputs": [
    {
     "name": "stdout",
     "output_type": "stream",
     "text": [
      "Program is done...\n"
     ]
    }
   ],
   "source": [
    "print \"Program is done...\""
   ]
  },
  {
   "cell_type": "code",
   "execution_count": null,
   "metadata": {
    "collapsed": true
   },
   "outputs": [],
   "source": []
  }
 ],
 "metadata": {
  "kernelspec": {
   "display_name": "Python 2",
   "language": "python",
   "name": "python2"
  },
  "language_info": {
   "codemirror_mode": {
    "name": "ipython",
    "version": 2
   },
   "file_extension": ".py",
   "mimetype": "text/x-python",
   "name": "python",
   "nbconvert_exporter": "python",
   "pygments_lexer": "ipython2",
   "version": "2.7.11"
  }
 },
 "nbformat": 4,
 "nbformat_minor": 2
}
