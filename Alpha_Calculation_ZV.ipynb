{
 "cells": [
  {
   "cell_type": "markdown",
   "metadata": {
    "slideshow": {
     "slide_type": "slide"
    }
   },
   "source": [
    "# Wjet Signal Region Shape Extraction Using Alpha Ratio Method\n",
    "\n",
    "1. Calculate alpha using MC only\n",
    "    1. Ratio of signal to side-band region\n",
    "1. Get 1-sigma up/down alpha shape by varying the fit parameters by 1 sigma.\n",
    "1. Grab corrected W+jet shape and normalization in side-band region from background estimation code.\n",
    "1. Using alpha get the W+jet shape and normalization in signal region\n",
    "1. Also, grab the corrected W+jet shape and its up/down from wjet fit parameters."
   ]
  },
  {
   "cell_type": "code",
   "execution_count": 1,
   "metadata": {
    "collapsed": false,
    "slideshow": {
     "slide_type": "skip"
    }
   },
   "outputs": [
    {
     "data": {
      "application/javascript": [
       "\n",
       "require(['notebook'],\n",
       "  function() {\n",
       "    IPython.CodeCell.config_defaults.highlight_modes['magic_text/x-c++src'] = {'reg':[/^%%cpp/]};\n",
       "    console.log(\"JupyROOT - %%cpp magic configured\");\n",
       "  }\n",
       ");\n"
      ]
     },
     "metadata": {},
     "output_type": "display_data"
    },
    {
     "name": "stdout",
     "output_type": "stream",
     "text": [
      "Welcome to JupyROOT 6.08/05\n"
     ]
    },
    {
     "data": {
      "text/plain": [
       "<ROOT.TStyle object (\"tdrStyle\") at 0x553c850>"
      ]
     },
     "execution_count": 1,
     "metadata": {},
     "output_type": "execute_result"
    }
   ],
   "source": [
    "import ROOT as r\n",
    "\n",
    "# To surpress unwanted messages\n",
    "msgservice = r.RooMsgService.instance()\n",
    "msgservice.setGlobalKillBelow(r.RooFit.FATAL)\n",
    "\n",
    "import CMS_lumi, tdrstyle\n",
    "\n",
    "tdrstyle.setTDRStyle()"
   ]
  },
  {
   "cell_type": "code",
   "execution_count": 2,
   "metadata": {
    "collapsed": false,
    "scrolled": true,
    "slideshow": {
     "slide_type": "skip"
    }
   },
   "outputs": [],
   "source": [
    "fin = r.TFile.Open(\"root://cmseos.fnal.gov//store/user/rasharma/SecondStep/WWTree_CommonNtuple_For1and2Lepton_2018_04_06_09h22/HaddedFiles/Hadds_for_BkgEstimation/WWTree_VJets.root\")\n",
    "\n",
    "treeIn = fin.Get(\"otree\")\n",
    "\n",
    "# Define the cuts\n",
    "cutString_SideBand       =  \"wSampleWeight*35867.06*btag0Wgt*totalEventWeight_2Lep*((type==0||type==1) && (l_pt1>30 && (((type==0)&&(abs(l_eta1)<2.4)) || ((type==1)&&((abs(l_eta1)<2.5)&&!(abs(l_eta1)>1.4442 && abs(l_eta1)<1.566))))) && (l_pt2>30 && (((type==0)&&(abs(l_eta2)<2.4)) || ((type==1)&&((abs(l_eta2)<2.5)&&!(abs(l_eta2)>1.4442 && abs(l_eta2)<1.566))))) && ((ungroomed_PuppiAK8_jet_pt>200)&&(abs(ungroomed_PuppiAK8_jet_eta)<2.4)&&(PuppiAK8_jet_tau2tau1<0.55)) && (nBTagJet_loose==0) && (vbf_maxpt_jj_m>800) && (abs(vbf_maxpt_j2_eta-vbf_maxpt_j1_eta)>4.0) && ((vbf_maxpt_j1_pt>30) && (vbf_maxpt_j2_pt>30)) && ((((PuppiAK8_jet_mass_so_corr>40) && (PuppiAK8_jet_mass_so_corr<65)) || ((PuppiAK8_jet_mass_so_corr>110) && (PuppiAK8_jet_mass_so_corr<150)))) && (mass_llj_PuppiAK8>600))\"\n",
    "\n",
    "cutString_Signal         =  \"wSampleWeight*35867.06*btag0Wgt*totalEventWeight_2Lep*((type==0||type==1) && (l_pt1>30 && (((type==0)&&(abs(l_eta1)<2.4)) || ((type==1)&&((abs(l_eta1)<2.5)&&!(abs(l_eta1)>1.4442 && abs(l_eta1)<1.566))))) && (l_pt2>30 && (((type==0)&&(abs(l_eta2)<2.4)) || ((type==1)&&((abs(l_eta2)<2.5)&&!(abs(l_eta2)>1.4442 && abs(l_eta2)<1.566))))) && ((ungroomed_PuppiAK8_jet_pt>200)&&(abs(ungroomed_PuppiAK8_jet_eta)<2.4)&&(PuppiAK8_jet_tau2tau1<0.55)) && (nBTagJet_loose==0) && (vbf_maxpt_jj_m>800) && (abs(vbf_maxpt_j2_eta-vbf_maxpt_j1_eta)>4.0) && ((vbf_maxpt_j1_pt>30) && (vbf_maxpt_j2_pt>30)) && ((((PuppiAK8_jet_mass_so_corr>65) && (PuppiAK8_jet_mass_so_corr<110)))) && (mass_llj_PuppiAK8>600))\""
   ]
  },
  {
   "cell_type": "markdown",
   "metadata": {
    "slideshow": {
     "slide_type": "skip"
    }
   },
   "source": [
    "## Get W+jet histogram in signal, as well as side band region"
   ]
  },
  {
   "cell_type": "code",
   "execution_count": 3,
   "metadata": {
    "collapsed": false,
    "slideshow": {
     "slide_type": "skip"
    }
   },
   "outputs": [
    {
     "data": {
      "text/plain": [
       "69L"
      ]
     },
     "execution_count": 3,
     "metadata": {},
     "output_type": "execute_result"
    },
    {
     "name": "stderr",
     "output_type": "stream",
     "text": [
      "Info in <TCanvas::MakeDefCanvas>:  created default TCanvas with name c1\n"
     ]
    }
   ],
   "source": [
    "hSignal_4bin = r.TH1D(\"hSignal_4bin\",\"\",4,600,2500)\n",
    "hSignal_4bin.SetMarkerColor(1)\n",
    "hSignal_4bin.SetLineColor(1)\n",
    "hSignal_4bin.SetLineWidth(3)\n",
    "hSignal_4bin.SetMarkerSize(1)\n",
    "\n",
    "hSignal_15bin = r.TH1D(\"hSignal_15bin\",\"\",11,600,2500)\n",
    "hSignal_15bin.SetMarkerColor(1)\n",
    "hSignal_15bin.SetLineColor(1)\n",
    "hSignal_15bin.SetLineWidth(3)\n",
    "hSignal_15bin.SetMarkerSize(1)\n",
    "\n",
    "hSignal_38bin = r.TH1D(\"hSignal_38bin\",\"\",38,600,2500)\n",
    "hSignal_38bin.SetMarkerColor(1)\n",
    "hSignal_38bin.SetLineColor(1)\n",
    "hSignal_38bin.SetLineWidth(3)\n",
    "hSignal_38bin.SetMarkerSize(1)\n",
    "\n",
    "hSideBand_15bin = r.TH1D(\"hSideBand_15bin\",\"\",11,600,2500)\n",
    "hSideBand_15bin.SetMarkerColor(2)\n",
    "hSideBand_15bin.SetLineColor(2)\n",
    "hSideBand_15bin.SetLineWidth(3)\n",
    "hSideBand_15bin.SetMarkerSize(1)\n",
    "\n",
    "hSideBand_38bin = r.TH1D(\"hSideBand_38bin\",\"\",38,600,2500)\n",
    "hSideBand_38bin.SetMarkerColor(2)\n",
    "hSideBand_38bin.SetLineColor(2)\n",
    "hSideBand_38bin.SetLineWidth(3)\n",
    "hSideBand_38bin.SetMarkerSize(1)\n",
    "\n",
    "treeIn.Draw(\"mass_llj_PuppiAK8>>hSignal_4bin\",cutString_Signal)\n",
    "treeIn.Draw(\"mass_llj_PuppiAK8>>hSignal_15bin\",cutString_Signal)\n",
    "treeIn.Draw(\"mass_llj_PuppiAK8>>hSignal_38bin\",cutString_Signal)\n",
    "\n",
    "treeIn.Draw(\"mass_llj_PuppiAK8>>hSideBand_15bin\",cutString_SideBand)\n",
    "treeIn.Draw(\"mass_llj_PuppiAK8>>hSideBand_38bin\",cutString_SideBand)"
   ]
  },
  {
   "cell_type": "markdown",
   "metadata": {},
   "source": [
    "### Plot the Wjet histogram in signal region and side-band region"
   ]
  },
  {
   "cell_type": "code",
   "execution_count": 4,
   "metadata": {
    "collapsed": false
   },
   "outputs": [
    {
     "name": "stderr",
     "output_type": "stream",
     "text": [
      "Warning in <TCanvas::Constructor>: Deleting canvas with same name: c1\n"
     ]
    },
    {
     "data": {
      "image/png": "[encoded data removed]",
      "text/plain": [
       "<IPython.core.display.Image object>"
      ]
     },
     "metadata": {},
     "output_type": "display_data"
    }
   ],
   "source": [
    "leg = r.TLegend(0.45,0.95,.95,0.75)\n",
    "\n",
    "leg.AddEntry(hSignal_15bin,\"signal region (MC)\")\n",
    "leg.AddEntry(hSideBand_15bin,\"SideBand Region (MC)\")\n",
    "\n",
    "\n",
    "c1 = r.TCanvas(\"c1\", \"canvas\", 1000, 600)\n",
    "c1.SetLogy()\n",
    "c1.Divide(2,1)\n",
    "c1.cd(1)\n",
    "r.gPad.SetLogy()\n",
    "hSignal_15bin.SetTitle(\"Log axis\")\n",
    "hSignal_15bin.Draw()\n",
    "hSideBand_15bin.Draw(\"same\")\n",
    "leg.Draw()\n",
    "c1.cd(2)\n",
    "hSignal_15bin.SetTitle(\"Linear axis\")\n",
    "hSignal_15bin.Draw()\n",
    "hSideBand_15bin.Draw(\"same\")\n",
    "leg.Draw()\n",
    "\n",
    "c1.Draw()"
   ]
  },
  {
   "cell_type": "markdown",
   "metadata": {
    "slideshow": {
     "slide_type": "slide"
    }
   },
   "source": [
    "# Part-I\n",
    "\n",
    "## Calculate alpha \n",
    "\n",
    "> by dividing W+jets MC in signal and side-band region\n",
    "\n",
    "\n",
    "> fit the alpha"
   ]
  },
  {
   "cell_type": "code",
   "execution_count": 5,
   "metadata": {
    "collapsed": false,
    "scrolled": false,
    "slideshow": {
     "slide_type": "slide"
    }
   },
   "outputs": [
    {
     "name": "stdout",
     "output_type": "stream",
     "text": [
      "Alpha does not exists\n",
      "\n",
      "****************************************\n",
      "Minimizer is Linear\n",
      "Chi2                      =      1.99322\n",
      "NDf                       =            4\n",
      "p0                        =      1.61505   +/-   0.567019    \n",
      "p1                        =  -0.00065612   +/-   0.00054883  \n",
      "Integral =  19558.3515797\n",
      "Integral =  1136.31974733\n"
     ]
    },
    {
     "name": "stderr",
     "output_type": "stream",
     "text": [
      "Warning in <TCanvas::Constructor>: Deleting canvas with same name: c1\n"
     ]
    },
    {
     "data": {
      "image/png": "[encoded data removed]",
      "text/plain": [
       "<IPython.core.display.Image object>"
      ]
     },
     "metadata": {},
     "output_type": "display_data"
    }
   ],
   "source": [
    "try: \n",
    "    Alpha.Delete();\n",
    "except: \n",
    "    print \"Alpha does not exists\";\n",
    "    \n",
    "Alpha =  r.TH1D(\"Alpha\",\"\",11,600,2500)\n",
    "Alpha = hSignal_15bin.Clone()\n",
    "Alpha.Divide(hSideBand_15bin)\n",
    "c1 = r.TCanvas(\"c1\", \"canvas\", 800, 600)\n",
    "Alpha.GetXaxis().SetTitle(\"mWW (GeV)\")\n",
    "Alpha.GetYaxis().SetTitle(\"alpha from MC only (Signal/Side-band)\")\n",
    "Alpha.SetMaximum(3.8)\n",
    "Alpha.SetMinimum(-1.2)\n",
    "Alpha.Draw()\n",
    "f1 = r.TF1(\"f1\",\"pol1\",600,2500)\n",
    "Alpha.Fit(\"f1\")\n",
    "c1.Draw()\n",
    "print \"Integral = \",Alpha.Integral(\"width\")\n",
    "print \"Integral = \",f1.Integral(600,2500)\n",
    "#for i in range(1,39):\n",
    "#    print i,\",\",Alpha.GetBinContent(i),\",\",Alpha.GetBinLowEdge(i),\",\",Alpha.GetBinWidth(i)"
   ]
  },
  {
   "cell_type": "markdown",
   "metadata": {},
   "source": [
    "## Convert TF1 of alpha to histogram of 38 bins"
   ]
  },
  {
   "cell_type": "code",
   "execution_count": 6,
   "metadata": {
    "collapsed": false,
    "scrolled": false
   },
   "outputs": [
    {
     "name": "stdout",
     "output_type": "stream",
     "text": [
      "Print alpha values in each bin: \n",
      "\n",
      "\n",
      "1 \t600 650 => 625.0 1.20497411245\n",
      "2 \t650 700 => 675.0 1.17216810772\n",
      "3 \t700 750 => 725.0 1.13936210298\n",
      "4 \t750 800 => 775.0 1.10655609825\n",
      "5 \t800 850 => 825.0 1.07375009352\n",
      "6 \t850 900 => 875.0 1.04094408879\n",
      "7 \t900 950 => 925.0 1.00813808406\n",
      "8 \t950 1000 => 975.0 0.975332079325\n",
      "9 \t1000 1050 => 1025.0 0.942526074593\n",
      "10 \t1050 1100 => 1075.0 0.909720069862\n",
      "11 \t1100 1150 => 1125.0 0.87691406513\n",
      "12 \t1150 1200 => 1175.0 0.844108060398\n",
      "13 \t1200 1250 => 1225.0 0.811302055666\n",
      "14 \t1250 1300 => 1275.0 0.778496050935\n",
      "15 \t1300 1350 => 1325.0 0.745690046203\n",
      "16 \t1350 1400 => 1375.0 0.712884041471\n",
      "17 \t1400 1450 => 1425.0 0.680078036739\n",
      "18 \t1450 1500 => 1475.0 0.647272032008\n",
      "19 \t1500 1550 => 1525.0 0.614466027276\n",
      "20 \t1550 1600 => 1575.0 0.581660022544\n",
      "21 \t1600 1650 => 1625.0 0.548854017812\n",
      "22 \t1650 1700 => 1675.0 0.516048013081\n",
      "23 \t1700 1750 => 1725.0 0.483242008349\n",
      "24 \t1750 1800 => 1775.0 0.450436003617\n",
      "25 \t1800 1850 => 1825.0 0.417629998885\n",
      "26 \t1850 1900 => 1875.0 0.384823994154\n",
      "27 \t1900 1950 => 1925.0 0.352017989422\n",
      "28 \t1950 2000 => 1975.0 0.31921198469\n",
      "29 \t2000 2050 => 2025.0 0.286405979958\n",
      "30 \t2050 2100 => 2075.0 0.253599975227\n",
      "31 \t2100 2150 => 2125.0 0.220793970495\n",
      "32 \t2150 2200 => 2175.0 0.187987965763\n",
      "33 \t2200 2250 => 2225.0 0.155181961031\n",
      "34 \t2250 2300 => 2275.0 0.1223759563\n",
      "35 \t2300 2350 => 2325.0 0.0895699515678\n",
      "36 \t2350 2400 => 2375.0 0.0567639468361\n",
      "37 \t2400 2450 => 2425.0 0.0239579421043\n",
      "38 \t2450 2500 => 2475.0 -0.00884806262746\n"
     ]
    },
    {
     "data": {
      "image/png": "[encoded data removed]",
      "text/plain": [
       "<IPython.core.display.Image object>"
      ]
     },
     "metadata": {},
     "output_type": "display_data"
    }
   ],
   "source": [
    "leg = r.TLegend(0.55,0.9,.9,0.8)\n",
    "\n",
    "hAlpha_Fit_38bin = r.TH1F(\"hAlpha_Fit_38bin\",\"\",38,600,2500)\n",
    "count = 1\n",
    "import numpy as np\n",
    "print \"Print alpha values in each bin: \\n\\n\"\n",
    "for i in np.arange(600,2500,50):\n",
    "    print count,\"\\t\",i,i+50,\"=>\",(i+i+50)/2.,f1.Eval((i+i+50)/2.)\n",
    "    hAlpha_Fit_38bin.SetBinContent(count,f1.Eval((i+i+50)/2.));\n",
    "    count+=1\n",
    "\n",
    "hAlpha_Fit_38bin.SetMarkerColor(1)\n",
    "hAlpha_Fit_38bin.SetLineColor(1)\n",
    "hAlpha_Fit_38bin.SetLineWidth(3)\n",
    "hAlpha_Fit_38bin.SetMarkerSize(1)\n",
    "\n",
    "\n",
    "leg.AddEntry(hAlpha_Fit_38bin,\"Nominal Alpha 38 bin\")\n",
    "hAlpha_Fit_38bin.Draw(\"same\")    \n",
    "    \n",
    "leg.Draw()\n",
    "\n",
    "c1.Update()\n",
    "c1.Draw()"
   ]
  },
  {
   "cell_type": "markdown",
   "metadata": {},
   "source": [
    "## Get alpha 1-sigma Up"
   ]
  },
  {
   "cell_type": "code",
   "execution_count": 7,
   "metadata": {
    "collapsed": false
   },
   "outputs": [
    {
     "name": "stdout",
     "output_type": "stream",
     "text": [
      "Parameter 1 =  1.61504917159 +/- 0.567018526898\n",
      "Parameter 2 =  -0.000656120094635 +/- 0.000548830195229\n"
     ]
    }
   ],
   "source": [
    "print \"Parameter 1 = \",f1.GetParameter(0),\"+/-\",f1.GetParError(0)\n",
    "print \"Parameter 2 = \",f1.GetParameter(1),\"+/-\",f1.GetParError(1)\n",
    "\n",
    "f1.SetParameter(0,f1.GetParameter(0)+f1.GetParError(0))\n",
    "f1.SetParameter(1,f1.GetParameter(1)+f1.GetParError(1))"
   ]
  },
  {
   "cell_type": "code",
   "execution_count": 8,
   "metadata": {
    "collapsed": false
   },
   "outputs": [
    {
     "data": {
      "image/png": "[encoded data removed]",
      "text/plain": [
       "<IPython.core.display.Image object>"
      ]
     },
     "metadata": {},
     "output_type": "display_data"
    }
   ],
   "source": [
    "hAlpha_Fit_up = r.TH1F(\"hAlpha_Fit_up\",\"\",38,600,2500)\n",
    "\n",
    "import numpy as np\n",
    "count=1\n",
    "for i in np.arange(600,2500,50):\n",
    "    #print count,\"\\t\",i,i+50,\"=>\",(i+i+50)/2.,f1.Eval((i+i+50)/2.)\n",
    "    hAlpha_Fit_up.SetBinContent(count,f1.Eval((i+i+50)/2.));\n",
    "    count+=1\n",
    "    \n",
    "hAlpha_Fit_up.SetMarkerColor(2)\n",
    "hAlpha_Fit_up.SetLineColor(2)\n",
    "#hAlpha_Fit.SetFillColor(1)\n",
    "hAlpha_Fit_up.SetLineWidth(3)\n",
    "hAlpha_Fit_up.SetMarkerSize(1)\n",
    "leg.AddEntry(hAlpha_Fit_up,\"Up Alpha\")\n",
    "hAlpha_Fit_up.Draw(\"same\")\n",
    "c1.Update()\n",
    "c1.Draw()"
   ]
  },
  {
   "cell_type": "markdown",
   "metadata": {},
   "source": [
    "## Get alpha 1-sigma Down\n",
    "\n",
    "> Below to get 1-sigma down we need to multiply by 2 because earlier we add 1-sigma for getting 1-sigma up distribution for alpha"
   ]
  },
  {
   "cell_type": "code",
   "execution_count": 9,
   "metadata": {
    "collapsed": true
   },
   "outputs": [],
   "source": [
    "f1.SetParameter(0,f1.GetParameter(0)-2*f1.GetParError(0))\n",
    "f1.SetParameter(1,f1.GetParameter(1)-2*f1.GetParError(1))"
   ]
  },
  {
   "cell_type": "code",
   "execution_count": 10,
   "metadata": {
    "collapsed": false
   },
   "outputs": [
    {
     "data": {
      "image/png": "[encoded data removed]",
      "text/plain": [
       "<IPython.core.display.Image object>"
      ]
     },
     "metadata": {},
     "output_type": "display_data"
    }
   ],
   "source": [
    "hAlpha_Fit_dn = r.TH1F(\"hAlpha_Fit_dn\",\"\",38,600,2500)\n",
    "\n",
    "count=1\n",
    "import numpy as np\n",
    "for i in np.arange(600,2500,50):\n",
    "    #print count,\"\\t\",i,i+50,\"=>\",(i+i+50)/2.,f1.Eval((i+i+50)/2.)\n",
    "    hAlpha_Fit_dn.SetBinContent(count,f1.Eval((i+i+50)/2.));\n",
    "    count+=1\n",
    "    \n",
    "\n",
    "hAlpha_Fit_dn.SetMarkerColor(3)\n",
    "hAlpha_Fit_dn.SetLineColor(3)\n",
    "#hAlpha_Fit_dn.SetFillColor(1)\n",
    "hAlpha_Fit_dn.SetLineWidth(3)\n",
    "hAlpha_Fit_dn.SetMarkerSize(1)\n",
    "leg.AddEntry(hAlpha_Fit_dn,\"Down Alpha\")\n",
    "hAlpha_Fit_dn.Draw(\"same\")\n",
    "leg.Draw()\n",
    "c1.Update()\n",
    "c1.SaveAs(\"ZV_Alpha_Nom_Up_Down_Fit.png\")\n",
    "c1.SaveAs(\"ZV_Alpha_Nom_Up_Down_Fit.pdf\")\n",
    "c1.Draw()"
   ]
  },
  {
   "cell_type": "markdown",
   "metadata": {},
   "source": [
    "### Get Back to nominal alpha"
   ]
  },
  {
   "cell_type": "code",
   "execution_count": 11,
   "metadata": {
    "collapsed": false
   },
   "outputs": [
    {
     "name": "stdout",
     "output_type": "stream",
     "text": [
      "Parameter 1 =  1.61504917159 +/- 0.567018526898\n",
      "Parameter 2 =  -0.000656120094635 +/- 0.000548830195229\n"
     ]
    }
   ],
   "source": [
    "f1.SetParameter(0,f1.GetParameter(0)+1*f1.GetParError(0))\n",
    "f1.SetParameter(1,f1.GetParameter(1)+1*f1.GetParError(1))\n",
    "\n",
    "print \"Parameter 1 = \",f1.GetParameter(0),\"+/-\",f1.GetParError(0)\n",
    "print \"Parameter 2 = \",f1.GetParameter(1),\"+/-\",f1.GetParError(1)"
   ]
  },
  {
   "cell_type": "markdown",
   "metadata": {
    "slideshow": {
     "slide_type": "slide"
    }
   },
   "source": [
    "# Get corrected W+jet in sideband region after fit to data (From Background Estimation Code)\n",
    "\n",
    "This histogram is saved in ExoVV fitter using create histogram method:\n",
    "\n",
    "https://github.com/ram1123/EXOVVFitter/blob/master/g1_exo_doFit_class_new.py#L1795-L1r.TColor.GetColor(248,206,104)\n",
    "\n",
    "But, this histogram was not taking the normalization so I have to scale it with the normalization. ***But, scaling the histogram also scales the errors.***"
   ]
  },
  {
   "cell_type": "code",
   "execution_count": 12,
   "metadata": {
    "collapsed": false,
    "scrolled": false
   },
   "outputs": [
    {
     "name": "stdout",
     "output_type": "stream",
     "text": [
      "47.9363880004\n"
     ]
    },
    {
     "data": {
      "image/png": "[encoded data removed]",
      "text/plain": [
       "<IPython.core.display.Image object>"
      ]
     },
     "metadata": {},
     "output_type": "display_data"
    }
   ],
   "source": [
    "leg.Clear()\n",
    "c1.Clear()\n",
    "\n",
    "Wjet_file = r.TFile.Open(\"WWTree_CommonNtuple_For1and2Lepton_2018_04_06_09h22_BothLSBUSB_UpDownVarWjet_ZV/wjetmodel_Ex__WJets01_xww__sb_lo_ExpN_auto.root\")\n",
    "\n",
    "Wjet_hist = r.TH1F()\n",
    "Wjet_hist = Wjet_file.Get(\"rrv_mass_lvj__rrv_mass_lvj\")\n",
    "Wjet_hist.Scale(48.03)\n",
    "print Wjet_hist.Integral()\n",
    "Wjet_hist.SetMaximum(11.0)\n",
    "Wjet_hist.Draw(\"hist\")\n",
    "hSideBand_38bin.Draw(\"same\")\n",
    "leg.AddEntry(Wjet_hist,\"SideBand Region (Corr)\")\n",
    "leg.AddEntry(hSideBand_38bin,\"SideBand Region (MC)\")\n",
    "leg.Draw()\n",
    "#c1.SetLogy()\n",
    "c1.Draw()\n",
    "c1.SaveAs(\"ZV_SideBandRegion_Comparison_MC_vs_Corr.png\")\n",
    "c1.SaveAs(\"ZV_SideBandRegion_Comparison_MC_vs_Corr.pdf\")"
   ]
  },
  {
   "cell_type": "markdown",
   "metadata": {
    "slideshow": {
     "slide_type": "slide"
    }
   },
   "source": [
    "# Multiplication by Alpha to get Signal Region W+jets obtained from data."
   ]
  },
  {
   "cell_type": "code",
   "execution_count": 13,
   "metadata": {
    "collapsed": false,
    "slideshow": {
     "slide_type": "slide"
    }
   },
   "outputs": [
    {
     "name": "stdout",
     "output_type": "stream",
     "text": [
      "Wjet yield =  50.8446267623\n",
      "Bin 0 content =  10.9163150787\n",
      "Bin 2 content =  8.53771305084\n",
      "Bin 3 content =  6.69576740265\n",
      "Bin 4 content =  5.26181793213\n",
      "********************\n",
      "MC bin contents: \n",
      "\n",
      "Bin 0 content =  43.8691345752\n",
      "Bin 2 content =  7.03183151999\n",
      "Bin 3 content =  1.65297009864\n",
      "Bin 4 content =  0.6687165764\n"
     ]
    },
    {
     "name": "stderr",
     "output_type": "stream",
     "text": [
      "Warning in <TFile::Append>: Replacing existing TH1: hModel_Sig (Potential memory leak).\n",
      "Warning in <TFile::Append>: Replacing existing TH1: hModel_Sig (Potential memory leak).\n"
     ]
    },
    {
     "data": {
      "image/png": "[encoded data removed]",
      "text/plain": [
       "<IPython.core.display.Image object>"
      ]
     },
     "metadata": {},
     "output_type": "display_data"
    }
   ],
   "source": [
    "c1.Clear()\n",
    "leg = r.TLegend(0.65,0.95,.95,0.76)\n",
    "\n",
    "\n",
    "hModel_Sig = r.TH1F(\"hModel_Sig\",\"\",38,600,2500)\n",
    "hModel_Sig.Sumw2()\n",
    "hModel_Sig.SetMarkerColor(2)\n",
    "hModel_Sig.SetLineColor(2)\n",
    "hModel_Sig.SetLineWidth(3)\n",
    "hModel_Sig.SetMarkerSize(1)\n",
    "\n",
    "for i in range(1,39):\n",
    "    hModel_Sig.SetBinContent(i,Wjet_hist.GetBinContent(i)*hAlpha_Fit_38bin.GetBinContent(i))\n",
    "\n",
    "leg.AddEntry(hModel_Sig,\"V+jet SR (Alpha, Nominal)\")\n",
    "\n",
    "#hModel_Sig.SaveAs(\"ZVjet_Corr_AlphaShape_Nominal_38bins.root\")\n",
    "\n",
    "\n",
    "hModel_Sig_up = r.TH1F(\"hModel_Sig\",\"\",38,600,2500)\n",
    "hModel_Sig_up.Sumw2()\n",
    "hModel_Sig_up.SetMarkerColor(3)\n",
    "hModel_Sig_up.SetLineColor(3)\n",
    "hModel_Sig_up.SetLineWidth(3)\n",
    "hModel_Sig_up.SetMarkerSize(1)\n",
    "\n",
    "for i in range(1,39):\n",
    "    hModel_Sig_up.SetBinContent(i,Wjet_hist.GetBinContent(i)*hAlpha_Fit_up.GetBinContent(i))\n",
    "\n",
    "leg.AddEntry(hModel_Sig_up,\"V+jet SR (Alpha, Up)\")\n",
    "\n",
    "#hModel_Sig_up.SaveAs(\"ZVjet_Corr_AlphaShape_Up_38bins.root\")\n",
    "\n",
    "hModel_Sig_Down = r.TH1F(\"hModel_Sig\",\"\",38,600,2500)\n",
    "hModel_Sig_Down.Sumw2()\n",
    "hModel_Sig_Down.SetMarkerColor(4)\n",
    "hModel_Sig_Down.SetLineColor(4)\n",
    "hModel_Sig_Down.SetLineWidth(3)\n",
    "hModel_Sig_Down.SetMarkerSize(1)\n",
    "\n",
    "for i in range(1,39):\n",
    "    hModel_Sig_Down.SetBinContent(i,Wjet_hist.GetBinContent(i)*hAlpha_Fit_dn.GetBinContent(i))\n",
    "\n",
    "leg.AddEntry(hModel_Sig_Down,\"V+jet SR (Alpha, Down)\")\n",
    "\n",
    "\n",
    "\n",
    "#hModel_Sig_Down.SaveAs(\"ZVjet_Corr_AlphaShape_Down_38bins.root\")\n",
    "\n",
    "\n",
    "\n",
    "\n",
    "#hModel_Sig\n",
    "hSignal_38bin.Draw()\n",
    "hModel_Sig.Draw(\"same\")\n",
    "hModel_Sig_up.Draw(\"same\")\n",
    "hModel_Sig_Down.Draw(\"same\")\n",
    "\n",
    "leg.AddEntry(hSignal_4bin,\"V+jet SR (MC)\")\n",
    "\n",
    "\n",
    "leg.Draw()\n",
    "\n",
    "print \"Wjet yield = \", hModel_Sig.Integral()\n",
    "\n",
    "print \"Bin 0 content = \",hModel_Sig.GetBinContent(1)\n",
    "print \"Bin 2 content = \",hModel_Sig.GetBinContent(2)\n",
    "print \"Bin 3 content = \",hModel_Sig.GetBinContent(3)\n",
    "print \"Bin 4 content = \",hModel_Sig.GetBinContent(4)\n",
    "print \"*\"*20\n",
    "print \"MC bin contents: \\n\"\n",
    "print \"Bin 0 content = \",hSignal_4bin.GetBinContent(1)\n",
    "print \"Bin 2 content = \",hSignal_4bin.GetBinContent(2)\n",
    "print \"Bin 3 content = \",hSignal_4bin.GetBinContent(3)\n",
    "print \"Bin 4 content = \",hSignal_4bin.GetBinContent(4)\n",
    "c1.SetLogy(1)\n",
    "c1.Draw()\n",
    "c1.SaveAs(\"ZV_SignalRegion_Wjet_UpDown_BecauseOfAlpha.png\")\n",
    "c1.SaveAs(\"ZV_SignalRegion_Wjet_UpDown_BecauseOfAlpha.pdf\")"
   ]
  },
  {
   "cell_type": "code",
   "execution_count": 14,
   "metadata": {
    "collapsed": false,
    "scrolled": false
   },
   "outputs": [
    {
     "name": "stderr",
     "output_type": "stream",
     "text": [
      "Info in <TH1F::SaveAs>: ROOT file ZVjet_Corr_AlphaShape_Nominal_4bins.root has been created\n",
      "Info in <TH1F::SaveAs>: ROOT file ZVjet_Corr_AlphaShape_Up_4bins.root has been created\n",
      "Info in <TH1F::SaveAs>: ROOT file ZVjet_Corr_AlphaShape_Down_4bins.root has been created\n"
     ]
    },
    {
     "data": {
      "image/png": "[encoded data removed]",
      "text/plain": [
       "<IPython.core.display.Image object>"
      ]
     },
     "metadata": {},
     "output_type": "display_data"
    }
   ],
   "source": [
    "leg = r.TLegend(0.45,0.95,.95,0.75)\n",
    "\n",
    "hModel_Sig_new = r.TH1F(\"hModel_Sig_new\",\"\",4,600,2500)\n",
    "count = 1\n",
    "bin = [0]*5\n",
    "for i in range(1,39):\n",
    "    if i<36:\n",
    "        if i%9==0:\n",
    "            count+=1\n",
    "    #print i,count,hModel_Sig.GetBinContent(i)\n",
    "    bin[count] += hModel_Sig.GetBinContent(i)\n",
    "\n",
    "hModel_Sig_new.SetBinContent(1,bin[1])\n",
    "hModel_Sig_new.SetBinContent(2,bin[2])\n",
    "hModel_Sig_new.SetBinContent(3,bin[3])\n",
    "hModel_Sig_new.SetBinContent(4,bin[4])\n",
    "\n",
    "hModel_Sig_new.SetMarkerColor(1)\n",
    "hModel_Sig_new.SetLineColor(1)\n",
    "hModel_Sig_new.SetLineWidth(3)\n",
    "hModel_Sig_new.SetMarkerSize(1)\n",
    "\n",
    "leg.AddEntry(hModel_Sig_new,\"V+jet SR (Alpha, Nominal)\")\n",
    "hModel_Sig_new.SaveAs(\"ZVjet_Corr_AlphaShape_Nominal_4bins.root\")\n",
    "\n",
    "#########################################################\n",
    "hModel_Sig_up_new = r.TH1F(\"hModel_Sig_up_new\",\"\",4,600,2500)\n",
    "count = 1\n",
    "bin = [0]*5\n",
    "for i in range(1,39):\n",
    "    if i<36:\n",
    "        if i%9==0:\n",
    "            count+=1\n",
    "    #print i,count,hModel_Sig_up.GetBinContent(i)\n",
    "    bin[count] += hModel_Sig_up.GetBinContent(i)\n",
    "\n",
    "hModel_Sig_up_new.SetBinContent(1,bin[1])\n",
    "hModel_Sig_up_new.SetBinContent(2,bin[2])\n",
    "hModel_Sig_up_new.SetBinContent(3,bin[3])\n",
    "hModel_Sig_up_new.SetBinContent(4,bin[4])\n",
    "\n",
    "hModel_Sig_up_new.SetMarkerColor(2)\n",
    "hModel_Sig_up_new.SetLineColor(2)\n",
    "hModel_Sig_up_new.SetLineWidth(3)\n",
    "hModel_Sig_up_new.SetMarkerSize(1)\n",
    "\n",
    "leg.AddEntry(hModel_Sig_up_new,\"V+jet SR (Alpha, Up)\")\n",
    "\n",
    "    \n",
    "hModel_Sig_up_new.SaveAs(\"ZVjet_Corr_AlphaShape_Up_4bins.root\")\n",
    "\n",
    "#########################################################\n",
    "hModel_Sig_Down_new = r.TH1F(\"hModel_Sig_Down_new\",\"\",4,600,2500)\n",
    "count = 1\n",
    "bin = [0]*5\n",
    "for i in range(1,39):\n",
    "    if i<36:\n",
    "        if i%9==0:\n",
    "            count+=1\n",
    "    #print i,count,hModel_Sig_Down.GetBinContent(i)\n",
    "    bin[count] += hModel_Sig_Down.GetBinContent(i)\n",
    "\n",
    "hModel_Sig_Down_new.SetBinContent(1,bin[1])\n",
    "hModel_Sig_Down_new.SetBinContent(2,bin[2])\n",
    "hModel_Sig_Down_new.SetBinContent(3,bin[3])\n",
    "hModel_Sig_Down_new.SetBinContent(4,bin[4])\n",
    "\n",
    "hModel_Sig_Down_new.SetMarkerColor(3)\n",
    "hModel_Sig_Down_new.SetLineColor(3)\n",
    "hModel_Sig_Down_new.SetLineWidth(3)\n",
    "hModel_Sig_Down_new.SetMarkerSize(1)\n",
    "\n",
    "leg.AddEntry(hModel_Sig_Down_new,\"V+jet SR (Alpha, Down)\")\n",
    "\n",
    "hModel_Sig_Down_new.SaveAs(\"ZVjet_Corr_AlphaShape_Down_4bins.root\")\n",
    "\n",
    "c1.Clear()\n",
    "hModel_Sig_new.SetMaximum(100.0)\n",
    "hModel_Sig_new.SetMinimum(0.1)\n",
    "hModel_Sig_new.Draw()\n",
    "hModel_Sig_up_new.Draw(\"same\")\n",
    "hModel_Sig_Down_new.Draw(\"same\")\n",
    "leg.Draw()\n",
    "c1.Draw()\n",
    "c1.SaveAs(\"ZV_SignalRegion_Wjet_UpDown_BecauseOfAlpha_4bins.png\")\n",
    "c1.SaveAs(\"ZV_SignalRegion_Wjet_UpDown_BecauseOfAlpha_4bins.pdf\")"
   ]
  },
  {
   "cell_type": "code",
   "execution_count": 15,
   "metadata": {
    "collapsed": false
   },
   "outputs": [],
   "source": [
    "c1.Clear()\n",
    "fin_Wjet_MC = r.TFile.Open(\"root://cmseos.fnal.gov//store/user/rasharma/SecondStep/WWTree_CommonNtuple_For1and2Lepton_2018_04_06_09h22/HaddedFiles/Hadds_for_BkgEstimation/WWTree_VJets.root\")\n",
    "fin_VV = r.TFile.Open(\"root://cmseos.fnal.gov//store/user/rasharma/SecondStep/WWTree_CommonNtuple_For1and2Lepton_2018_04_06_09h22/HaddedFiles/Hadds_for_BkgEstimation/WWTree_VV.root\")\n",
    "fin_TTbar = r.TFile.Open(\"root://cmseos.fnal.gov//store/user/rasharma/SecondStep/WWTree_CommonNtuple_For1and2Lepton_2018_04_06_09h22/HaddedFiles/Hadds_for_BkgEstimation/WWTree_TTbar.root\")\n",
    "fin_STop = r.TFile.Open(\"root://cmseos.fnal.gov//store/user/rasharma/SecondStep/WWTree_CommonNtuple_For1and2Lepton_2018_04_06_09h22/HaddedFiles/Hadds_for_BkgEstimation/WWTree_STop.root\")\n",
    "fin_Data = r.TFile.Open(\"root://cmseos.fnal.gov//store/user/rasharma/SecondStep/WWTree_CommonNtuple_For1and2Lepton_2018_04_06_09h22/HaddedFiles/Hadds_for_BkgEstimation/WWTree_data_golden.root\")\n",
    "\n",
    "treeIn_Wjet_MC = fin_Wjet_MC.Get(\"otree\")\n",
    "treeIn_VV = fin_VV.Get(\"otree\")\n",
    "treeIn_TTbar = fin_TTbar.Get(\"otree\")\n",
    "treeIn_STop = fin_STop.Get(\"otree\")\n",
    "treeIn_Data = fin_Data.Get(\"otree\")"
   ]
  },
  {
   "cell_type": "markdown",
   "metadata": {},
   "source": [
    "# Data/MC with 38 bins"
   ]
  },
  {
   "cell_type": "code",
   "execution_count": 16,
   "metadata": {
    "collapsed": false
   },
   "outputs": [
    {
     "data": {
      "text/plain": [
       "62L"
      ]
     },
     "execution_count": 16,
     "metadata": {},
     "output_type": "execute_result"
    }
   ],
   "source": [
    "# For 38 bins\n",
    "hModel_Sig.SetMarkerColor(r.TColor.GetColor(248,206,104))\n",
    "hModel_Sig.SetLineColor(r.TColor.GetColor(248,206,104))\n",
    "hModel_Sig.SetFillColor(r.TColor.GetColor(248,206,104))\n",
    "hModel_Sig.SetLineWidth(3)\n",
    "hModel_Sig.SetMarkerSize(1)\n",
    "\n",
    "hWjets_MC = r.TH1D(\"hWjets_MC\",\"\",38,600,2500)\n",
    "hWjets_MC.SetMarkerColor(r.TColor.GetColor(250,202,255))\n",
    "hWjets_MC.SetLineColor(r.TColor.GetColor(250,202,255))\n",
    "hWjets_MC.SetFillColor(r.TColor.GetColor(250,202,255))\n",
    "hWjets_MC.SetLineWidth(3)\n",
    "hWjets_MC.SetMarkerSize(1)\n",
    "\n",
    "hVV = r.TH1D(\"hVV\",\"\",38,600,2500)\n",
    "hVV.SetMarkerColor(r.TColor.GetColor(250,202,255))\n",
    "hVV.SetLineColor(r.TColor.GetColor(250,202,255))\n",
    "hVV.SetFillColor(r.TColor.GetColor(250,202,255))\n",
    "hVV.SetLineWidth(3)\n",
    "hVV.SetMarkerSize(1)\n",
    "\n",
    "hTTbar = r.TH1D(\"hTTbar\",\"\",38,600,2500)\n",
    "hTTbar.SetMarkerColor(r.TColor.GetColor(155,152,204))\n",
    "hTTbar.SetLineColor(r.TColor.GetColor(155,152,204))\n",
    "hTTbar.SetFillColor(r.TColor.GetColor(155,152,204))\n",
    "hTTbar.SetLineWidth(3)\n",
    "hTTbar.SetMarkerSize(1)\n",
    "\n",
    "hSTop = r.TH1D(\"hSTop\",\"\",38,600,2500)\n",
    "hSTop.SetMarkerColor(r.TColor.GetColor(0,84,159))\n",
    "hSTop.SetLineColor(r.TColor.GetColor(0,84,159))\n",
    "hSTop.SetFillColor(r.TColor.GetColor(0,84,159))\n",
    "hSTop.SetLineWidth(3)\n",
    "hSTop.SetMarkerSize(1)\n",
    "\n",
    "hData = r.TH1D(\"hData\",\"\",38,600,2500)\n",
    "hData.SetMarkerColor(1)\n",
    "hData.SetLineColor(1)\n",
    "#hData.SetFillColor(1)\n",
    "hData.SetLineWidth(3)\n",
    "hData.SetMarkerSize(1)\n",
    "\n",
    "treeIn_Wjet_MC.Draw(\"mass_llj_PuppiAK8>>hWjets_MC\",cutString_SideBand)\n",
    "treeIn_VV.Draw(\"mass_llj_PuppiAK8>>hVV\",cutString_SideBand)\n",
    "treeIn_TTbar.Draw(\"mass_llj_PuppiAK8>>hTTbar\",cutString_SideBand)\n",
    "treeIn_STop.Draw(\"mass_llj_PuppiAK8>>hSTop\",cutString_SideBand)\n",
    "\n",
    "#cutString_SigData =  \"((l_pt2<0) && ((l_pt1>30.) && (abs(l_eta1)<2.5)) && ((ungroomed_PuppiAK8_jet_pt>200)&&(abs(ungroomed_PuppiAK8_jet_eta)<2.4)) && ((vbf_maxpt_j1_pt>30) && (vbf_maxpt_j2_pt>30)) &&  (nBTagJet_loose==0) && (pfMET_Corr>50) && ((PuppiAK8_jet_tau2tau1<0.55)) && ((PuppiAK8_jet_mass_so_corr>55) && (PuppiAK8_jet_mass_so_corr<65)) && (abs(vbf_maxpt_j2_eta-vbf_maxpt_j1_eta)>4.0) && (vbf_maxpt_jj_m>800) && (BosonCentrality_type0>1.0) && (abs(ZeppenfeldWL_type0/vbf_maxpt_jj_Deta)<0.3) && (abs(ZeppenfeldWH/vbf_maxpt_jj_Deta)<0.3) && (mass_lvj_type0>170))\"\n",
    "\n",
    "cutString_SideBand_Data       =  \"((type==0||type==1) && (l_pt1>30 && (((type==0)&&(abs(l_eta1)<2.4)) || ((type==1)&&((abs(l_eta1)<2.5)&&!(abs(l_eta1)>1.4442 && abs(l_eta1)<1.566))))) && (l_pt2>30 && (((type==0)&&(abs(l_eta2)<2.4)) || ((type==1)&&((abs(l_eta2)<2.5)&&!(abs(l_eta2)>1.4442 && abs(l_eta2)<1.566))))) && ((ungroomed_PuppiAK8_jet_pt>200)&&(abs(ungroomed_PuppiAK8_jet_eta)<2.4)&&(PuppiAK8_jet_tau2tau1<0.55)) && (nBTagJet_loose==0) && (vbf_maxpt_jj_m>800) && (abs(vbf_maxpt_j2_eta-vbf_maxpt_j1_eta)>4.0) && ((vbf_maxpt_j1_pt>30) && (vbf_maxpt_j2_pt>30)) && ((((PuppiAK8_jet_mass_so_corr>40) && (PuppiAK8_jet_mass_so_corr<65)) || ((PuppiAK8_jet_mass_so_corr>110) && (PuppiAK8_jet_mass_so_corr<150)))) && (mass_llj_PuppiAK8>600))\"\n",
    "\n",
    "cutString_SigData_Data         =  \"((type==0||type==1) && (l_pt1>30 && (((type==0)&&(abs(l_eta1)<2.4)) || ((type==1)&&((abs(l_eta1)<2.5)&&!(abs(l_eta1)>1.4442 && abs(l_eta1)<1.566))))) && (l_pt2>30 && (((type==0)&&(abs(l_eta2)<2.4)) || ((type==1)&&((abs(l_eta2)<2.5)&&!(abs(l_eta2)>1.4442 && abs(l_eta2)<1.566))))) && ((ungroomed_PuppiAK8_jet_pt>200)&&(abs(ungroomed_PuppiAK8_jet_eta)<2.4)&&(PuppiAK8_jet_tau2tau1<0.55)) && (nBTagJet_loose==0) && (vbf_maxpt_jj_m>800) && (abs(vbf_maxpt_j2_eta-vbf_maxpt_j1_eta)>4.0) && ((vbf_maxpt_j1_pt>30) && (vbf_maxpt_j2_pt>30)) && ((((PuppiAK8_jet_mass_so_corr>65) && (PuppiAK8_jet_mass_so_corr<110)))) && (mass_llj_PuppiAK8>600))\"\n",
    "\n",
    "treeIn_Data.Draw(\"mass_llj_PuppiAK8>>hData\",cutString_SideBand_Data)"
   ]
  },
  {
   "cell_type": "code",
   "execution_count": 17,
   "metadata": {
    "collapsed": false
   },
   "outputs": [],
   "source": [
    "leg = r.TLegend(0.55,0.95,.90,0.72)\n",
    "\n",
    "stack = r.THStack()\n",
    "\n",
    "#stack.Add(hSTop,\"F\")\n",
    "#stack.Add(hTTbar,\"F\")\n",
    "stack.Add(hVV,\"F\")\n",
    "stack.Add(hModel_Sig,\"F\")\n",
    "#stack.Add(hModel_Sig_new,\"F\")\n",
    "\n",
    "#leg.AddEntry(hSTop,\"STop\")\n",
    "#leg.AddEntry(hTTbar,\"TTbar\")\n",
    "leg.AddEntry(hVV,\"Diboson\")\n",
    "leg.AddEntry(hModel_Sig,\"Vjets\")\n",
    "#leg.AddEntry(hModel_Sig_new,\"Wjets\")\n",
    "leg.AddEntry(hData,\"Data\")\n",
    "\n",
    "\n",
    "\n",
    "#stack.SetMinimum(0.001)\n",
    "stack.SetMaximum(15.0)\n",
    "#stack.SetMaximum(400.0)\n",
    "\n",
    "#stack.Draw(\"hist\")\n",
    "#hData.Draw(\"same hist\")\n",
    "#leg.Draw()\n",
    "#c1.Draw()"
   ]
  },
  {
   "cell_type": "code",
   "execution_count": 18,
   "metadata": {
    "collapsed": false
   },
   "outputs": [
    {
     "name": "stdout",
     "output_type": "stream",
     "text": [
      "35.9 fb^{-1} (13 TeV)\n"
     ]
    },
    {
     "name": "stderr",
     "output_type": "stream",
     "text": [
      "Warning in <TCanvas::Constructor>: Deleting canvas with same name: c1\n",
      "Warning in <TGraphAsymmErrors::Divide>: Number of graph points is different than histogram bins - 25 points have been skipped\n",
      "Info in <TCanvas::Print>: png file ZV_Cross_Check_DataMC_WithWjet_Corr_38bins.png has been created\n",
      "Info in <TCanvas::Print>: pdf file ZV_Cross_Check_DataMC_WithWjet_Corr_38bins.pdf has been created\n"
     ]
    },
    {
     "data": {
      "image/png": "[encoded data removed]",
      "text/plain": [
       "<IPython.core.display.Image object>"
      ]
     },
     "metadata": {},
     "output_type": "display_data"
    }
   ],
   "source": [
    "c1 = r.TCanvas(\"c1\", \"canvas\", 800, 600)\n",
    "c1.SetLogy(0)\n",
    "CMS_lumi.lumi_13TeV = \"35.9 fb^{-1}\"\n",
    "CMS_lumi.writeExtraText = 1\n",
    "CMS_lumi.extraText = \"Preliminary\"\n",
    "\n",
    "CMS_lumi.relPosX = 0.05\n",
    "\n",
    "rp = r.TRatioPlot(stack, hData);\n",
    "#c.SetTicks(0, 1);\n",
    "rp.Draw();\n",
    "rp.GetLowerRefYaxis().SetTitle(\"MC/Data\");\n",
    "rp.GetUpperRefYaxis().SetTitle(\"Events/(50 GeV)\");\n",
    "rp.GetLowerRefXaxis().SetTitle(\"M_{ww}\");\n",
    "rp.GetLowerRefGraph().SetMinimum(0.1);\n",
    "rp.GetLowerRefGraph().SetMaximum(2.8);\n",
    "\n",
    "rp.SetLeftMargin(0.14);\n",
    "# rp.SetRightMargin(0.05);\n",
    "# rp.SetUpTopMargin(0.05);\n",
    "# rp.SetSeparationMargin(0.005);\n",
    "# rp.SetLowBottomMargin(0.46);\n",
    "\n",
    "# rp.Draw(\"errasymfhidelow\");\n",
    "# rp.SetSplitFraction(0.10);\n",
    "# rp.GetLowYaxis().SetNdivisions(4);\n",
    "# rp.GetLowerRefYaxis().SetTitle(\"Pred./Data\");\n",
    "# rp.GetLowerRefGraph().SetMinimum(1.5);\n",
    "# rp.GetLowerRefGraph().SetMaximum(0.5);\n",
    "# rp.GetLowerRefYaxis().SetRangeUser(0.5, 1.5);\n",
    "    \n",
    "    \n",
    "rp.SetSeparationMargin(0.0)\n",
    "leg.Draw()\n",
    "\n",
    "CMS_lumi.CMS_lumi(c1, 4, 11)\n",
    "c1.Update();\n",
    "c1.Draw()\n",
    "c1.SaveAs(\"ZV_Cross_Check_DataMC_WithWjet_Corr_38bins.png\")\n",
    "c1.SaveAs(\"ZV_Cross_Check_DataMC_WithWjet_Corr_38bins.pdf\")"
   ]
  },
  {
   "cell_type": "markdown",
   "metadata": {},
   "source": [
    "# Data/MC with 4 bins"
   ]
  },
  {
   "cell_type": "code",
   "execution_count": 19,
   "metadata": {
    "collapsed": false
   },
   "outputs": [],
   "source": [
    "c1.Clear()\n",
    "fin_Wjet_MC = r.TFile.Open(\"root://cmseos.fnal.gov//store/user/rasharma/SecondStep/WWTree_CommonNtuple_For1and2Lepton_2018_04_06_09h22/HaddedFiles/Hadds_for_BkgEstimation/WWTree_VJets.root\")\n",
    "fin_VV = r.TFile.Open(\"root://cmseos.fnal.gov//store/user/rasharma/SecondStep/WWTree_CommonNtuple_For1and2Lepton_2018_04_06_09h22/HaddedFiles/Hadds_for_BkgEstimation/WWTree_VV.root\")\n",
    "fin_TTbar = r.TFile.Open(\"root://cmseos.fnal.gov//store/user/rasharma/SecondStep/WWTree_CommonNtuple_For1and2Lepton_2018_04_06_09h22/HaddedFiles/Hadds_for_BkgEstimation/WWTree_TTbar.root\")\n",
    "fin_STop = r.TFile.Open(\"root://cmseos.fnal.gov//store/user/rasharma/SecondStep/WWTree_CommonNtuple_For1and2Lepton_2018_04_06_09h22/HaddedFiles/Hadds_for_BkgEstimation/WWTree_STop.root\")\n",
    "fin_Data = r.TFile.Open(\"root://cmseos.fnal.gov//store/user/rasharma/SecondStep/WWTree_CommonNtuple_For1and2Lepton_2018_04_06_09h22/HaddedFiles/Hadds_for_BkgEstimation/WWTree_data_golden.root\")\n",
    "\n",
    "treeIn_Wjet_MC = fin_Wjet_MC.Get(\"otree\")\n",
    "treeIn_VV = fin_VV.Get(\"otree\")\n",
    "treeIn_TTbar = fin_TTbar.Get(\"otree\")\n",
    "treeIn_STop = fin_STop.Get(\"otree\")\n",
    "treeIn_Data = fin_Data.Get(\"otree\")"
   ]
  },
  {
   "cell_type": "code",
   "execution_count": 20,
   "metadata": {
    "collapsed": false
   },
   "outputs": [
    {
     "data": {
      "text/plain": [
       "62L"
      ]
     },
     "execution_count": 20,
     "metadata": {},
     "output_type": "execute_result"
    }
   ],
   "source": [
    "hModel_Sig_new.SetMarkerColor(r.TColor.GetColor(248,206,104))\n",
    "hModel_Sig_new.SetLineColor(r.TColor.GetColor(248,206,104))\n",
    "hModel_Sig_new.SetFillColor(r.TColor.GetColor(248,206,104))\n",
    "hModel_Sig_new.SetLineWidth(3)\n",
    "hModel_Sig_new.SetMarkerSize(1)\n",
    "\n",
    "hWjets_MC = r.TH1D(\"hWjets_MC\",\"\",4,600,2500)\n",
    "hWjets_MC.SetMarkerColor(r.TColor.GetColor(250,202,255))\n",
    "hWjets_MC.SetLineColor(r.TColor.GetColor(250,202,255))\n",
    "hWjets_MC.SetFillColor(r.TColor.GetColor(250,202,255))\n",
    "hWjets_MC.SetLineWidth(3)\n",
    "hWjets_MC.SetMarkerSize(1)\n",
    "\n",
    "hVV = r.TH1D(\"hVV\",\"\",4,600,2500)\n",
    "hVV.SetMarkerColor(r.TColor.GetColor(250,202,255))\n",
    "hVV.SetLineColor(r.TColor.GetColor(250,202,255))\n",
    "hVV.SetFillColor(r.TColor.GetColor(250,202,255))\n",
    "hVV.SetLineWidth(3)\n",
    "hVV.SetMarkerSize(1)\n",
    "\n",
    "hTTbar = r.TH1D(\"hTTbar\",\"\",4,600,2500)\n",
    "hTTbar.SetMarkerColor(r.TColor.GetColor(155,152,204))\n",
    "hTTbar.SetLineColor(r.TColor.GetColor(155,152,204))\n",
    "hTTbar.SetFillColor(r.TColor.GetColor(155,152,204))\n",
    "hTTbar.SetLineWidth(3)\n",
    "hTTbar.SetMarkerSize(1)\n",
    "\n",
    "hSTop = r.TH1D(\"hSTop\",\"\",4,600,2500)\n",
    "hSTop.SetMarkerColor(r.TColor.GetColor(0,84,159))\n",
    "hSTop.SetLineColor(r.TColor.GetColor(0,84,159))\n",
    "hSTop.SetFillColor(r.TColor.GetColor(0,84,159))\n",
    "hSTop.SetLineWidth(3)\n",
    "hSTop.SetMarkerSize(1)\n",
    "\n",
    "hData = r.TH1D(\"hData\",\"\",4,600,2500)\n",
    "hData.SetMarkerColor(1)\n",
    "hData.SetLineColor(1)\n",
    "#hData.SetFillColor(1)\n",
    "hData.SetLineWidth(3)\n",
    "hData.SetMarkerSize(1)\n",
    "\n",
    "treeIn_Wjet_MC.Draw(\"mass_llj_PuppiAK8>>hWjets_MC\",cutString_SideBand)\n",
    "treeIn_VV.Draw(\"mass_llj_PuppiAK8>>hVV\",cutString_SideBand)\n",
    "treeIn_TTbar.Draw(\"mass_llj_PuppiAK8>>hTTbar\",cutString_SideBand)\n",
    "treeIn_STop.Draw(\"mass_llj_PuppiAK8>>hSTop\",cutString_SideBand)\n",
    "\n",
    "\n",
    "cutString_SideBand_Data       =  \"((type==0||type==1) && (l_pt1>30 && (((type==0)&&(abs(l_eta1)<2.4)) || ((type==1)&&((abs(l_eta1)<2.5)&&!(abs(l_eta1)>1.4442 && abs(l_eta1)<1.566))))) && (l_pt2>30 && (((type==0)&&(abs(l_eta2)<2.4)) || ((type==1)&&((abs(l_eta2)<2.5)&&!(abs(l_eta2)>1.4442 && abs(l_eta2)<1.566))))) && ((ungroomed_PuppiAK8_jet_pt>200)&&(abs(ungroomed_PuppiAK8_jet_eta)<2.4)&&(PuppiAK8_jet_tau2tau1<0.55)) && (nBTagJet_loose==0) && (vbf_maxpt_jj_m>800) && (abs(vbf_maxpt_j2_eta-vbf_maxpt_j1_eta)>4.0) && ((vbf_maxpt_j1_pt>30) && (vbf_maxpt_j2_pt>30)) && ((((PuppiAK8_jet_mass_so_corr>40) && (PuppiAK8_jet_mass_so_corr<65)) || ((PuppiAK8_jet_mass_so_corr>110) && (PuppiAK8_jet_mass_so_corr<150)))) && (mass_llj_PuppiAK8>600))\"\n",
    "\n",
    "cutString_SigData_Data         =  \"((type==0||type==1) && (l_pt1>30 && (((type==0)&&(abs(l_eta1)<2.4)) || ((type==1)&&((abs(l_eta1)<2.5)&&!(abs(l_eta1)>1.4442 && abs(l_eta1)<1.566))))) && (l_pt2>30 && (((type==0)&&(abs(l_eta2)<2.4)) || ((type==1)&&((abs(l_eta2)<2.5)&&!(abs(l_eta2)>1.4442 && abs(l_eta2)<1.566))))) && ((ungroomed_PuppiAK8_jet_pt>200)&&(abs(ungroomed_PuppiAK8_jet_eta)<2.4)&&(PuppiAK8_jet_tau2tau1<0.55)) && (nBTagJet_loose==0) && (vbf_maxpt_jj_m>800) && (abs(vbf_maxpt_j2_eta-vbf_maxpt_j1_eta)>4.0) && ((vbf_maxpt_j1_pt>30) && (vbf_maxpt_j2_pt>30)) && ((((PuppiAK8_jet_mass_so_corr>65) && (PuppiAK8_jet_mass_so_corr<110)))) && (mass_llj_PuppiAK8>600))\"\n",
    "\n",
    "\n",
    "treeIn_Data.Draw(\"mass_llj_PuppiAK8>>hData\",cutString_SideBand_Data)"
   ]
  },
  {
   "cell_type": "code",
   "execution_count": null,
   "metadata": {
    "collapsed": false
   },
   "outputs": [],
   "source": [
    "stack = r.THStack()\n",
    "\n",
    "stack.Add(hSTop,\"F\")\n",
    "stack.Add(hTTbar,\"F\")\n",
    "stack.Add(hVV,\"F\")\n",
    "#stack.Add(hModel_Sig,\"F\")\n",
    "stack.Add(hModel_Sig_new,\"F\")\n",
    "\n",
    "leg.AddEntry(hSTop,\"STop\")\n",
    "leg.AddEntry(hTTbar,\"TTbar\")\n",
    "leg.AddEntry(hVV,\"Diboson\")\n",
    "#leg.AddEntry(hModel_Sig,\"Wjets\")\n",
    "leg.AddEntry(hModel_Sig_new,\"Wjets\")\n",
    "leg.AddEntry(hData,\"Data\")\n",
    "\n",
    "\n",
    "\n",
    "#stack.SetMinimum(0.001)\n",
    "#stack.SetMaximum(90.0)\n",
    "\n",
    "stack.SetMaximum(70.0)\n",
    "\n",
    "stack.Draw(\"hist\")\n",
    "hData.Draw(\"same hist\")\n",
    "leg.Draw()\n",
    "\n",
    "\n",
    "#c1.Draw()"
   ]
  },
  {
   "cell_type": "code",
   "execution_count": null,
   "metadata": {
    "collapsed": false
   },
   "outputs": [],
   "source": [
    "c1 = r.TCanvas(\"c1\", \"canvas\", 800, 600)\n",
    "c1.SetLogy(0)\n",
    "CMS_lumi.lumi_13TeV = \"35.9 fb^{-1}\"\n",
    "CMS_lumi.writeExtraText = 1\n",
    "CMS_lumi.extraText = \"Preliminary\"\n",
    "\n",
    "CMS_lumi.relPosX = 0.05\n",
    "\n",
    "rp = r.TRatioPlot(stack, hData);\n",
    "#c.SetTicks(0, 1);\n",
    "rp.Draw();\n",
    "rp.GetLowerRefYaxis().SetTitle(\"MC/Data\");\n",
    "rp.GetUpperRefYaxis().SetTitle(\"Events/(50 GeV)\");\n",
    "rp.GetLowerRefXaxis().SetTitle(\"M_{ww}\");\n",
    "rp.GetLowerRefGraph().SetMinimum(0.1);\n",
    "rp.GetLowerRefGraph().SetMaximum(2.8);\n",
    "\n",
    "rp.SetLeftMargin(0.14);\n",
    "# rp.SetRightMargin(0.05);\n",
    "# rp.SetUpTopMargin(0.05);\n",
    "# rp.SetSeparationMargin(0.005);\n",
    "# rp.SetLowBottomMargin(0.46);\n",
    "\n",
    "# rp.Draw(\"errasymfhidelow\");\n",
    "# rp.SetSplitFraction(0.10);\n",
    "# rp.GetLowYaxis().SetNdivisions(4);\n",
    "# rp.GetLowerRefYaxis().SetTitle(\"Pred./Data\");\n",
    "# rp.GetLowerRefGraph().SetMinimum(1.5);\n",
    "# rp.GetLowerRefGraph().SetMaximum(0.5);\n",
    "# rp.GetLowerRefYaxis().SetRangeUser(0.5, 1.5);\n",
    "    \n",
    "    \n",
    "rp.SetSeparationMargin(0.0)\n",
    "\n",
    "CMS_lumi.CMS_lumi(c1, 4, 11)\n",
    "c1.Update();\n",
    "c1.Draw()\n",
    "c1.SaveAs(\"ZV_Cross_Check_DataMC_WithWjet_Corr_4bins.png\")\n",
    "c1.SaveAs(\"ZV_Cross_Check_DataMC_WithWjet_Corr_4bins.pdf\")"
   ]
  },
  {
   "cell_type": "code",
   "execution_count": null,
   "metadata": {
    "collapsed": false,
    "scrolled": false
   },
   "outputs": [],
   "source": [
    "c1.SetLogy(1)\n",
    "c1.Draw()"
   ]
  },
  {
   "cell_type": "code",
   "execution_count": null,
   "metadata": {
    "collapsed": false
   },
   "outputs": [],
   "source": [
    "print \"Program is done...\""
   ]
  },
  {
   "cell_type": "code",
   "execution_count": null,
   "metadata": {
    "collapsed": true
   },
   "outputs": [],
   "source": []
  }
 ],
 "metadata": {
  "kernelspec": {
   "display_name": "Python 2",
   "language": "python",
   "name": "python2"
  },
  "language_info": {
   "codemirror_mode": {
    "name": "ipython",
    "version": 2
   },
   "file_extension": ".py",
   "mimetype": "text/x-python",
   "name": "python",
   "nbconvert_exporter": "python",
   "pygments_lexer": "ipython2",
   "version": "2.7.11"
  }
 },
 "nbformat": 4,
 "nbformat_minor": 2
}
